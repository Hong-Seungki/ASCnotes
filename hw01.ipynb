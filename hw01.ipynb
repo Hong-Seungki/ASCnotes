{
 "cells": [
  {
   "cell_type": "markdown",
   "metadata": {},
   "source": [
    "# M1399.000200 Homework 1\n",
    "\n",
    "#### Due Sep 26, 2021 @ 11:59PM"
   ]
  },
  {
   "cell_type": "markdown",
   "metadata": {},
   "source": [
    "## Q1. Git/GitHub\n",
    "\n",
    " **No handwritten homework reports are accepted for this course.** We work     with Git and GitHub. Efficient and abundant use of Git, e.g., frequent and    well-documented commits, is an important criterion for grading your homework.\n",
    "\n",
    " 1. Apply for the [Student Developer Pack](https://education.github.com/pack)  at GitHub using your `snu.ac.kr` email.\n",
    "\n",
    " 1. A link to join the M1399.000200 Github Classroom and a link to create an individual Github repository for homework is provided in the eTL. First join  the classroom, and then create your own homework repo by accepting these two  invitations in turn.\n",
    "\n",
    " 1. For each homework, the teaching assistant will make a pull request. Merge  each pull request to your homework repo.\n",
    "\n",
    " 1. In this course, you are required to write your homework reports using IJulia. For each homework, you need to submit your Jupyter notebook (e.g, `hw1.ipynb`), html (e.g., `hw1.html`), along with all code and data that are necessary to reproduce the results.\n",
    " \n",
    " 1. Provide your answer *directly* on this notebook. Add your answer right below the question. If the question has subproblems, split the cell at the right location and insert cells for your answer. **Do not modify the questions.**\n",
    "\n",
    " 1. Maintain two branches `master` and `develop`. The `develop` branch will    be your main playground, the place where you develop solution (code) to       homework problems and write up report. The `master` branch will be your       presentation area. Submit your homework files (Jupyter notebook file `ipynb`, `html`  file converted from the notebook, all code and data sets to reproduce results)  in `master` branch.\n",
    "\n",
    " 1. Before each homework's due date, commit your **master** branch. The        teaching assistant and the instructor will check out your committed master    branch for grading. Commit time will be used as your submission time. That    means if you commit your Homework 1 submission after the deadline, penalty    points will be deducted for late submission according to the syllabus.\n",
    " \n",
    " 1. Read the [style guide](https://docs.julialang.org/en/v1/manual/style-guide/index.html) for Julia programming. Following rules in the style guide will be strictly enforced when grading: \"Write functions, not just scripts\", \"Avoid writing overly-specific types\", \"Handle excess argument diversity in the caller\", \"Append ! to names of functions that modify their arguments\",  \"Don't use unnecessary static parameters\", \"Avoid using floats for numeric literals in generic code when possible\". Also it is advised to follow \"Use naming conventions consistent with Julia base/\", \"Write functions with argument ordering similar to Julia Base\"."
   ]
  },
  {
   "cell_type": "markdown",
   "metadata": {},
   "source": [
    "## Q2. Gibbs sampler in R and Julia\n",
    "\n",
    "The task in this question is to create a Gibbs sampler for the density  \n",
    "$$\n",
    "f(x, y) = k x^2 exp(- x y^2 - y^2 + 2y - 4x), x > 0\n",
    "$$\n",
    "using the conditional distributions\n",
    "$$\n",
    "\\begin{eqnarray*}\n",
    "  X | Y &\\sim& \\Gamma \\left( 3, \\frac{1}{y^2 + 4} \\right) \\quad \\text{(shape, scale)}\\\\\n",
    "  Y | X &\\sim& N \\left(\\frac{1}{1+x}, \\frac{1}{2(1+x)} \\right).\n",
    "\\end{eqnarray*}\n",
    "$$"
   ]
  },
  {
   "cell_type": "markdown",
   "metadata": {},
   "source": [
    "Consider the following R function `Rgibbs()`.\n",
    "\n",
    "```r\n",
    "library(Matrix)\n",
    "Rgibbs <- function(N, thin) {\n",
    "  mat <- matrix(0, nrow=N, ncol=2)\n",
    "  x <- y <- 0\n",
    "  for (i in 1:N) {\n",
    "    for (j in 1:thin) {\n",
    "      x <- rgamma(1, 3, y * y + 4) # 3rd arg is rate\n",
    "      y <- rnorm(1, 1 / (x + 1), 1 / sqrt(2 * (x + 1)))\n",
    "    }\n",
    "    mat[i,] <- c(x, y)\n",
    "  }\n",
    "  mat\n",
    "}\n",
    "```"
   ]
  },
  {
   "cell_type": "markdown",
   "metadata": {},
   "source": [
    "1) Explain what the above function does."
   ]
  },
  {
   "cell_type": "markdown",
   "metadata": {},
   "source": [
    "The function collects `N` random samples for the given density using Gibbs sampling technique via `thin` times of thinning.\\\n",
    "Actually, `Rgibbs()` function generates `N` x `thin` Gibbs samples and take only every `thin`-th sample for reducing autocorrelation between the generated Gibbs samples."
   ]
  },
  {
   "cell_type": "markdown",
   "metadata": {},
   "source": [
    "2) Write R code that generate a sample from $f$ of size 10,000 with a thinning of 500 **and** measure the time. Your R code should be a one-line. Run your code in Julia using the `RCall.jl` package."
   ]
  },
  {
   "cell_type": "code",
   "execution_count": 98,
   "metadata": {},
   "outputs": [
    {
     "data": {
      "text/plain": [
       "RObject{RealSxp}\n",
       " 사용자  시스템 elapsed \n",
       " 25.874   1.505  29.077 \n"
      ]
     },
     "execution_count": 98,
     "metadata": {},
     "output_type": "execute_result"
    }
   ],
   "source": [
    "using RCall\n",
    "R\"\"\"\n",
    "library(Matrix)\n",
    "Rgibbs <- function(N, thin) {\n",
    "  mat <- matrix(0, nrow=N, ncol=2)\n",
    "  x <- y <- 0\n",
    "  for (i in 1:N) {\n",
    "    for (j in 1:thin) {\n",
    "      x <- rgamma(1, 3, y * y + 4) # 3rd arg is rate\n",
    "      y <- rnorm(1, 1 / (x + 1), 1 / sqrt(2 * (x + 1)))\n",
    "    }\n",
    "    mat[i,] <- c(x, y)\n",
    "  }\n",
    "  mat\n",
    "}\n",
    "\n",
    "system.time(Rgibbs(10000, 500))\n",
    "\"\"\""
   ]
  },
  {
   "cell_type": "markdown",
   "metadata": {},
   "source": [
    "3) Write a Julia function `jgibbs()` that does the same compuation as `Rgibbs()`. (*Hint*. use `Distributions.jl`)"
   ]
  },
  {
   "cell_type": "code",
   "execution_count": 99,
   "metadata": {},
   "outputs": [
    {
     "data": {
      "text/plain": [
       "jgibbs (generic function with 1 method)"
      ]
     },
     "execution_count": 99,
     "metadata": {},
     "output_type": "execute_result"
    }
   ],
   "source": [
    "using Distributions\n",
    "\n",
    "function jgibbs(N, thin)\n",
    "    x = 0\n",
    "    y = 0\n",
    "    mat = zeros(N, 2)\n",
    "    for i in 1:N, j in 1:thin\n",
    "        x = rand(Gamma(3, 1 / (y * y + 4)), 1)[1] # convert 1 element Vector to scalar\n",
    "        y = rand(Normal(1 / (x + 1), 1 / sqrt(2 * (x + 1))), 1)[1] # convert 1 element Vector to scalar\n",
    "        mat[i, :] = [x y]\n",
    "    end\n",
    "    return mat\n",
    "end"
   ]
  },
  {
   "cell_type": "markdown",
   "metadata": {},
   "source": [
    "4) Run `jgibbs(100, 5)` and then repeat problem 2 for `jgibbs()`. How long does it take? Why do you run `jgibbs(100, 5)` before measuring the time?"
   ]
  },
  {
   "cell_type": "markdown",
   "metadata": {},
   "source": [
    "I run `jgibbs(100, 5)` before measuring the time because the first run includes compilation time. \\\n",
    "According to the following code, it takes about 1.6 seconds."
   ]
  },
  {
   "cell_type": "code",
   "execution_count": 100,
   "metadata": {},
   "outputs": [
    {
     "name": "stdout",
     "output_type": "stream",
     "text": [
      "  2.180940 seconds (15.00 M allocations: 1.341 GiB, 20.16% gc time)\n"
     ]
    }
   ],
   "source": [
    "jgibbs(100, 5);\n",
    "@time jgibbs(10000, 500);"
   ]
  },
  {
   "cell_type": "markdown",
   "metadata": {},
   "source": [
    "5) Compare the speed of `Rgibbs()` and `jgibbs()`. Also compare the programming efforts."
   ]
  },
  {
   "cell_type": "markdown",
   "metadata": {},
   "source": [
    "`jgibbs()` is about 20 fold faster than `Rgibbs()`. However, the programming efforts are similar due to the similar grammar."
   ]
  },
  {
   "cell_type": "markdown",
   "metadata": {},
   "source": [
    "## Q3. JIT\n",
    "\n",
    "Consider Julia function\n",
    "```julia\n",
    "function g(k::Number)\n",
    "    for i in 1:10\n",
    "        k = 2k - 1\n",
    "    end\n",
    "    k\n",
    "end\n",
    "```\n",
    "1) Use `@code_llvm` to find the LLVM bytecode of compiled `g(2)`."
   ]
  },
  {
   "cell_type": "code",
   "execution_count": 101,
   "metadata": {},
   "outputs": [
    {
     "data": {
      "text/plain": [
       "g (generic function with 1 method)"
      ]
     },
     "execution_count": 101,
     "metadata": {},
     "output_type": "execute_result"
    }
   ],
   "source": [
    "function g(k::Number)\n",
    "    for i in 1:10\n",
    "        k = 2k - 1\n",
    "    end\n",
    "    k\n",
    "end"
   ]
  },
  {
   "cell_type": "code",
   "execution_count": 102,
   "metadata": {},
   "outputs": [
    {
     "name": "stdout",
     "output_type": "stream",
     "text": [
      "\u001b[90m;  @ In[101]:1 within `g'\u001b[39m\n",
      "\u001b[95mdefine\u001b[39m \u001b[36mi64\u001b[39m \u001b[93m@julia_g_3005\u001b[39m\u001b[33m(\u001b[39m\u001b[36mi64\u001b[39m \u001b[95msignext\u001b[39m \u001b[0m%0\u001b[33m)\u001b[39m \u001b[33m{\u001b[39m\n",
      "\u001b[91mtop:\u001b[39m\n",
      "\u001b[90m;  @ In[101]:3 within `g'\u001b[39m\n",
      "\u001b[90m; ┌ @ int.jl:88 within `*'\u001b[39m\n",
      "   \u001b[0m%1 \u001b[0m= \u001b[96m\u001b[1mshl\u001b[22m\u001b[39m \u001b[36mi64\u001b[39m \u001b[0m%0\u001b[0m, \u001b[33m10\u001b[39m\n",
      "\u001b[90m; └\u001b[39m\n",
      "\u001b[90m; ┌ @ int.jl:86 within `-'\u001b[39m\n",
      "   \u001b[0m%2 \u001b[0m= \u001b[96m\u001b[1madd\u001b[22m\u001b[39m \u001b[36mi64\u001b[39m \u001b[0m%1\u001b[0m, \u001b[33m-1023\u001b[39m\n",
      "\u001b[90m; └\u001b[39m\n",
      "\u001b[90m;  @ In[101]:5 within `g'\u001b[39m\n",
      "  \u001b[96m\u001b[1mret\u001b[22m\u001b[39m \u001b[36mi64\u001b[39m \u001b[0m%2\n",
      "\u001b[33m}\u001b[39m\n"
     ]
    }
   ],
   "source": [
    "@code_llvm g(2)"
   ]
  },
  {
   "cell_type": "markdown",
   "metadata": {},
   "source": [
    "2) Use `@code_llvm` to find the LLVM bytecode of compiled `g(2.0)`."
   ]
  },
  {
   "cell_type": "code",
   "execution_count": 103,
   "metadata": {},
   "outputs": [
    {
     "name": "stdout",
     "output_type": "stream",
     "text": [
      "\u001b[90m;  @ In[101]:1 within `g'\u001b[39m\n",
      "\u001b[95mdefine\u001b[39m \u001b[36mdouble\u001b[39m \u001b[93m@julia_g_3007\u001b[39m\u001b[33m(\u001b[39m\u001b[36mdouble\u001b[39m \u001b[0m%0\u001b[33m)\u001b[39m \u001b[33m{\u001b[39m\n",
      "\u001b[91mtop:\u001b[39m\n",
      "\u001b[90m;  @ In[101]:3 within `g'\u001b[39m\n",
      "\u001b[90m; ┌ @ promotion.jl:322 within `*' @ float.jl:332\u001b[39m\n",
      "   \u001b[0m%1 \u001b[0m= \u001b[96m\u001b[1mfmul\u001b[22m\u001b[39m \u001b[36mdouble\u001b[39m \u001b[0m%0\u001b[0m, \u001b[33m2.000000e+00\u001b[39m\n",
      "\u001b[90m; └\u001b[39m\n",
      "\u001b[90m; ┌ @ promotion.jl:323 within `-' @ float.jl:329\u001b[39m\n",
      "   \u001b[0m%2 \u001b[0m= \u001b[96m\u001b[1mfadd\u001b[22m\u001b[39m \u001b[36mdouble\u001b[39m \u001b[0m%1\u001b[0m, \u001b[33m-1.000000e+00\u001b[39m\n",
      "\u001b[90m; └\u001b[39m\n",
      "\u001b[90m; ┌ @ promotion.jl:322 within `*' @ float.jl:332\u001b[39m\n",
      "   \u001b[0m%3 \u001b[0m= \u001b[96m\u001b[1mfmul\u001b[22m\u001b[39m \u001b[36mdouble\u001b[39m \u001b[0m%2\u001b[0m, \u001b[33m2.000000e+00\u001b[39m\n",
      "\u001b[90m; └\u001b[39m\n",
      "\u001b[90m; ┌ @ promotion.jl:323 within `-' @ float.jl:329\u001b[39m\n",
      "   \u001b[0m%4 \u001b[0m= \u001b[96m\u001b[1mfadd\u001b[22m\u001b[39m \u001b[36mdouble\u001b[39m \u001b[0m%3\u001b[0m, \u001b[33m-1.000000e+00\u001b[39m\n",
      "\u001b[90m; └\u001b[39m\n",
      "\u001b[90m; ┌ @ promotion.jl:322 within `*' @ float.jl:332\u001b[39m\n",
      "   \u001b[0m%5 \u001b[0m= \u001b[96m\u001b[1mfmul\u001b[22m\u001b[39m \u001b[36mdouble\u001b[39m \u001b[0m%4\u001b[0m, \u001b[33m2.000000e+00\u001b[39m\n",
      "\u001b[90m; └\u001b[39m\n",
      "\u001b[90m; ┌ @ promotion.jl:323 within `-' @ float.jl:329\u001b[39m\n",
      "   \u001b[0m%6 \u001b[0m= \u001b[96m\u001b[1mfadd\u001b[22m\u001b[39m \u001b[36mdouble\u001b[39m \u001b[0m%5\u001b[0m, \u001b[33m-1.000000e+00\u001b[39m\n",
      "\u001b[90m; └\u001b[39m\n",
      "\u001b[90m; ┌ @ promotion.jl:322 within `*' @ float.jl:332\u001b[39m\n",
      "   \u001b[0m%7 \u001b[0m= \u001b[96m\u001b[1mfmul\u001b[22m\u001b[39m \u001b[36mdouble\u001b[39m \u001b[0m%6\u001b[0m, \u001b[33m2.000000e+00\u001b[39m\n",
      "\u001b[90m; └\u001b[39m\n",
      "\u001b[90m; ┌ @ promotion.jl:323 within `-' @ float.jl:329\u001b[39m\n",
      "   \u001b[0m%8 \u001b[0m= \u001b[96m\u001b[1mfadd\u001b[22m\u001b[39m \u001b[36mdouble\u001b[39m \u001b[0m%7\u001b[0m, \u001b[33m-1.000000e+00\u001b[39m\n",
      "\u001b[90m; └\u001b[39m\n",
      "\u001b[90m; ┌ @ promotion.jl:322 within `*' @ float.jl:332\u001b[39m\n",
      "   \u001b[0m%9 \u001b[0m= \u001b[96m\u001b[1mfmul\u001b[22m\u001b[39m \u001b[36mdouble\u001b[39m \u001b[0m%8\u001b[0m, \u001b[33m2.000000e+00\u001b[39m\n",
      "\u001b[90m; └\u001b[39m\n",
      "\u001b[90m; ┌ @ promotion.jl:323 within `-' @ float.jl:329\u001b[39m\n",
      "   \u001b[0m%10 \u001b[0m= \u001b[96m\u001b[1mfadd\u001b[22m\u001b[39m \u001b[36mdouble\u001b[39m \u001b[0m%9\u001b[0m, \u001b[33m-1.000000e+00\u001b[39m\n",
      "\u001b[90m; └\u001b[39m\n",
      "\u001b[90m; ┌ @ promotion.jl:322 within `*' @ float.jl:332\u001b[39m\n",
      "   \u001b[0m%11 \u001b[0m= \u001b[96m\u001b[1mfmul\u001b[22m\u001b[39m \u001b[36mdouble\u001b[39m \u001b[0m%10\u001b[0m, \u001b[33m2.000000e+00\u001b[39m\n",
      "\u001b[90m; └\u001b[39m\n",
      "\u001b[90m; ┌ @ promotion.jl:323 within `-' @ float.jl:329\u001b[39m\n",
      "   \u001b[0m%12 \u001b[0m= \u001b[96m\u001b[1mfadd\u001b[22m\u001b[39m \u001b[36mdouble\u001b[39m \u001b[0m%11\u001b[0m, \u001b[33m-1.000000e+00\u001b[39m\n",
      "\u001b[90m; └\u001b[39m\n",
      "\u001b[90m; ┌ @ promotion.jl:322 within `*' @ float.jl:332\u001b[39m\n",
      "   \u001b[0m%13 \u001b[0m= \u001b[96m\u001b[1mfmul\u001b[22m\u001b[39m \u001b[36mdouble\u001b[39m \u001b[0m%12\u001b[0m, \u001b[33m2.000000e+00\u001b[39m\n",
      "\u001b[90m; └\u001b[39m\n",
      "\u001b[90m; ┌ @ promotion.jl:323 within `-' @ float.jl:329\u001b[39m\n",
      "   \u001b[0m%14 \u001b[0m= \u001b[96m\u001b[1mfadd\u001b[22m\u001b[39m \u001b[36mdouble\u001b[39m \u001b[0m%13\u001b[0m, \u001b[33m-1.000000e+00\u001b[39m\n",
      "\u001b[90m; └\u001b[39m\n",
      "\u001b[90m; ┌ @ promotion.jl:322 within `*' @ float.jl:332\u001b[39m\n",
      "   \u001b[0m%15 \u001b[0m= \u001b[96m\u001b[1mfmul\u001b[22m\u001b[39m \u001b[36mdouble\u001b[39m \u001b[0m%14\u001b[0m, \u001b[33m2.000000e+00\u001b[39m\n",
      "\u001b[90m; └\u001b[39m\n",
      "\u001b[90m; ┌ @ promotion.jl:323 within `-' @ float.jl:329\u001b[39m\n",
      "   \u001b[0m%16 \u001b[0m= \u001b[96m\u001b[1mfadd\u001b[22m\u001b[39m \u001b[36mdouble\u001b[39m \u001b[0m%15\u001b[0m, \u001b[33m-1.000000e+00\u001b[39m\n",
      "\u001b[90m; └\u001b[39m\n",
      "\u001b[90m; ┌ @ promotion.jl:322 within `*' @ float.jl:332\u001b[39m\n",
      "   \u001b[0m%17 \u001b[0m= \u001b[96m\u001b[1mfmul\u001b[22m\u001b[39m \u001b[36mdouble\u001b[39m \u001b[0m%16\u001b[0m, \u001b[33m2.000000e+00\u001b[39m\n",
      "\u001b[90m; └\u001b[39m\n",
      "\u001b[90m; ┌ @ promotion.jl:323 within `-' @ float.jl:329\u001b[39m\n",
      "   \u001b[0m%18 \u001b[0m= \u001b[96m\u001b[1mfadd\u001b[22m\u001b[39m \u001b[36mdouble\u001b[39m \u001b[0m%17\u001b[0m, \u001b[33m-1.000000e+00\u001b[39m\n",
      "\u001b[90m; └\u001b[39m\n",
      "\u001b[90m; ┌ @ promotion.jl:322 within `*' @ float.jl:332\u001b[39m\n",
      "   \u001b[0m%19 \u001b[0m= \u001b[96m\u001b[1mfmul\u001b[22m\u001b[39m \u001b[36mdouble\u001b[39m \u001b[0m%18\u001b[0m, \u001b[33m2.000000e+00\u001b[39m\n",
      "\u001b[90m; └\u001b[39m\n",
      "\u001b[90m; ┌ @ promotion.jl:323 within `-' @ float.jl:329\u001b[39m\n",
      "   \u001b[0m%20 \u001b[0m= \u001b[96m\u001b[1mfadd\u001b[22m\u001b[39m \u001b[36mdouble\u001b[39m \u001b[0m%19\u001b[0m, \u001b[33m-1.000000e+00\u001b[39m\n",
      "\u001b[90m; └\u001b[39m\n",
      "\u001b[90m;  @ In[101]:5 within `g'\u001b[39m\n",
      "  \u001b[96m\u001b[1mret\u001b[22m\u001b[39m \u001b[36mdouble\u001b[39m \u001b[0m%20\n",
      "\u001b[33m}\u001b[39m\n"
     ]
    }
   ],
   "source": [
    "@code_llvm g(2.0)"
   ]
  },
  {
   "cell_type": "markdown",
   "metadata": {},
   "source": [
    "3) Compare the bytecode from questions 1 and 2. What do you find?  "
   ]
  },
  {
   "cell_type": "markdown",
   "metadata": {},
   "source": [
    "For integer input as `g(2)` in question 1, LLVM compiler knows that the result is the same as shifting the input to the left by 10 bits and add -1023.\\\n",
    "On the other hand, for `Float64`(`double` in LLVM bytecode) input as `g(2.0)` in question 2, LLVM bytecode consists of iterative float-multiplication and float-addition, as the definition of `g()`."
   ]
  },
  {
   "cell_type": "markdown",
   "metadata": {},
   "source": [
    "4) Repeat questions 1-3 with `@code_native`. What is the difference from `@code_llvm`?"
   ]
  },
  {
   "cell_type": "code",
   "execution_count": 104,
   "metadata": {},
   "outputs": [
    {
     "name": "stdout",
     "output_type": "stream",
     "text": [
      "\t\u001b[0m.section\t\u001b[0m__TEXT\u001b[0m,\u001b[0m__text\u001b[0m,\u001b[0mregular\u001b[0m,\u001b[0mpure_instructions\n",
      "\u001b[90m; ┌ @ In[101]:3 within `g'\u001b[39m\n",
      "\u001b[90m; │┌ @ int.jl:88 within `*'\u001b[39m\n",
      "\t\u001b[96m\u001b[1mshlq\u001b[22m\u001b[39m\t\u001b[33m$10\u001b[39m\u001b[0m, \u001b[0m%rdi\n",
      "\u001b[90m; │└\u001b[39m\n",
      "\u001b[90m; │┌ @ int.jl:86 within `-'\u001b[39m\n",
      "\t\u001b[96m\u001b[1mleaq\u001b[22m\u001b[39m\t\u001b[33m-1023\u001b[39m\u001b[33m(\u001b[39m\u001b[0m%rdi\u001b[33m)\u001b[39m\u001b[0m, \u001b[0m%rax\n",
      "\u001b[90m; │└\u001b[39m\n",
      "\u001b[90m; │ @ In[101]:5 within `g'\u001b[39m\n",
      "\t\u001b[96m\u001b[1mretq\u001b[22m\u001b[39m\n",
      "\t\u001b[96m\u001b[1mnopl\u001b[22m\u001b[39m\t\u001b[33m(\u001b[39m\u001b[0m%rax\u001b[33m)\u001b[39m\n",
      "\u001b[90m; └\u001b[39m\n"
     ]
    }
   ],
   "source": [
    "@code_native g(2)"
   ]
  },
  {
   "cell_type": "markdown",
   "metadata": {},
   "source": [
    "1st instruction shifts the content of the general purpose 64-bit register RDI to the left by 10 bits.\\\n",
    "2nd instruction adds the content of the general purpose 64-bit register RDI to -1023, and load the result into another register RAX."
   ]
  },
  {
   "cell_type": "code",
   "execution_count": 105,
   "metadata": {},
   "outputs": [
    {
     "name": "stdout",
     "output_type": "stream",
     "text": [
      "\t\u001b[0m.section\t\u001b[0m__TEXT\u001b[0m,\u001b[0m__text\u001b[0m,\u001b[0mregular\u001b[0m,\u001b[0mpure_instructions\n",
      "\u001b[90m; ┌ @ In[101]:3 within `g'\u001b[39m\n",
      "\u001b[90m; │┌ @ promotion.jl:322 within `*' @ float.jl:332\u001b[39m\n",
      "\t\u001b[96m\u001b[1mvaddsd\u001b[22m\u001b[39m\t\u001b[0m%xmm0\u001b[0m, \u001b[0m%xmm0\u001b[0m, \u001b[0m%xmm0\n",
      "\t\u001b[96m\u001b[1mmovabsq\u001b[22m\u001b[39m\t\u001b[33m$5157603728\u001b[39m\u001b[0m, \u001b[0m%rax               \u001b[0m## \u001b[0mimm \u001b[0m= \u001b[33m0x1336AC990\u001b[39m\n",
      "\t\u001b[96m\u001b[1mvmovsd\u001b[22m\u001b[39m\t\u001b[33m(\u001b[39m\u001b[0m%rax\u001b[33m)\u001b[39m\u001b[0m, \u001b[0m%xmm1                   \u001b[0m## \u001b[0mxmm1 \u001b[0m= \u001b[0mmem\u001b[33m[\u001b[39m\u001b[33m0\u001b[39m\u001b[33m]\u001b[39m\u001b[0m,\u001b[0mzero\n",
      "\u001b[90m; │└\u001b[39m\n",
      "\u001b[90m; │┌ @ promotion.jl:323 within `-' @ float.jl:329\u001b[39m\n",
      "\t\u001b[96m\u001b[1mvaddsd\u001b[22m\u001b[39m\t\u001b[0m%xmm1\u001b[0m, \u001b[0m%xmm0\u001b[0m, \u001b[0m%xmm0\n",
      "\u001b[90m; │└\u001b[39m\n",
      "\u001b[90m; │┌ @ promotion.jl:322 within `*' @ float.jl:332\u001b[39m\n",
      "\t\u001b[96m\u001b[1mvaddsd\u001b[22m\u001b[39m\t\u001b[0m%xmm0\u001b[0m, \u001b[0m%xmm0\u001b[0m, \u001b[0m%xmm0\n",
      "\u001b[90m; │└\u001b[39m\n",
      "\u001b[90m; │┌ @ promotion.jl:323 within `-' @ float.jl:329\u001b[39m\n",
      "\t\u001b[96m\u001b[1mvaddsd\u001b[22m\u001b[39m\t\u001b[0m%xmm1\u001b[0m, \u001b[0m%xmm0\u001b[0m, \u001b[0m%xmm0\n",
      "\u001b[90m; │└\u001b[39m\n",
      "\u001b[90m; │┌ @ promotion.jl:322 within `*' @ float.jl:332\u001b[39m\n",
      "\t\u001b[96m\u001b[1mvaddsd\u001b[22m\u001b[39m\t\u001b[0m%xmm0\u001b[0m, \u001b[0m%xmm0\u001b[0m, \u001b[0m%xmm0\n",
      "\u001b[90m; │└\u001b[39m\n",
      "\u001b[90m; │┌ @ promotion.jl:323 within `-' @ float.jl:329\u001b[39m\n",
      "\t\u001b[96m\u001b[1mvaddsd\u001b[22m\u001b[39m\t\u001b[0m%xmm1\u001b[0m, \u001b[0m%xmm0\u001b[0m, \u001b[0m%xmm0\n",
      "\u001b[90m; │└\u001b[39m\n",
      "\u001b[90m; │┌ @ promotion.jl:322 within `*' @ float.jl:332\u001b[39m\n",
      "\t\u001b[96m\u001b[1mvaddsd\u001b[22m\u001b[39m\t\u001b[0m%xmm0\u001b[0m, \u001b[0m%xmm0\u001b[0m, \u001b[0m%xmm0\n",
      "\u001b[90m; │└\u001b[39m\n",
      "\u001b[90m; │┌ @ promotion.jl:323 within `-' @ float.jl:329\u001b[39m\n",
      "\t\u001b[96m\u001b[1mvaddsd\u001b[22m\u001b[39m\t\u001b[0m%xmm1\u001b[0m, \u001b[0m%xmm0\u001b[0m, \u001b[0m%xmm0\n",
      "\u001b[90m; │└\u001b[39m\n",
      "\u001b[90m; │┌ @ promotion.jl:322 within `*' @ float.jl:332\u001b[39m\n",
      "\t\u001b[96m\u001b[1mvaddsd\u001b[22m\u001b[39m\t\u001b[0m%xmm0\u001b[0m, \u001b[0m%xmm0\u001b[0m, \u001b[0m%xmm0\n",
      "\u001b[90m; │└\u001b[39m\n",
      "\u001b[90m; │┌ @ promotion.jl:323 within `-' @ float.jl:329\u001b[39m\n",
      "\t\u001b[96m\u001b[1mvaddsd\u001b[22m\u001b[39m\t\u001b[0m%xmm1\u001b[0m, \u001b[0m%xmm0\u001b[0m, \u001b[0m%xmm0\n",
      "\u001b[90m; │└\u001b[39m\n",
      "\u001b[90m; │┌ @ promotion.jl:322 within `*' @ float.jl:332\u001b[39m\n",
      "\t\u001b[96m\u001b[1mvaddsd\u001b[22m\u001b[39m\t\u001b[0m%xmm0\u001b[0m, \u001b[0m%xmm0\u001b[0m, \u001b[0m%xmm0\n",
      "\u001b[90m; │└\u001b[39m\n",
      "\u001b[90m; │┌ @ promotion.jl:323 within `-' @ float.jl:329\u001b[39m\n",
      "\t\u001b[96m\u001b[1mvaddsd\u001b[22m\u001b[39m\t\u001b[0m%xmm1\u001b[0m, \u001b[0m%xmm0\u001b[0m, \u001b[0m%xmm0\n",
      "\u001b[90m; │└\u001b[39m\n",
      "\u001b[90m; │┌ @ promotion.jl:322 within `*' @ float.jl:332\u001b[39m\n",
      "\t\u001b[96m\u001b[1mvaddsd\u001b[22m\u001b[39m\t\u001b[0m%xmm0\u001b[0m, \u001b[0m%xmm0\u001b[0m, \u001b[0m%xmm0\n",
      "\u001b[90m; │└\u001b[39m\n",
      "\u001b[90m; │┌ @ promotion.jl:323 within `-' @ float.jl:329\u001b[39m\n",
      "\t\u001b[96m\u001b[1mvaddsd\u001b[22m\u001b[39m\t\u001b[0m%xmm1\u001b[0m, \u001b[0m%xmm0\u001b[0m, \u001b[0m%xmm0\n",
      "\u001b[90m; │└\u001b[39m\n",
      "\u001b[90m; │┌ @ promotion.jl:322 within `*' @ float.jl:332\u001b[39m\n",
      "\t\u001b[96m\u001b[1mvaddsd\u001b[22m\u001b[39m\t\u001b[0m%xmm0\u001b[0m, \u001b[0m%xmm0\u001b[0m, \u001b[0m%xmm0\n",
      "\u001b[90m; │└\u001b[39m\n",
      "\u001b[90m; │┌ @ promotion.jl:323 within `-' @ float.jl:329\u001b[39m\n",
      "\t\u001b[96m\u001b[1mvaddsd\u001b[22m\u001b[39m\t\u001b[0m%xmm1\u001b[0m, \u001b[0m%xmm0\u001b[0m, \u001b[0m%xmm0\n",
      "\u001b[90m; │└\u001b[39m\n",
      "\u001b[90m; │┌ @ promotion.jl:322 within `*' @ float.jl:332\u001b[39m\n",
      "\t\u001b[96m\u001b[1mvaddsd\u001b[22m\u001b[39m\t\u001b[0m%xmm0\u001b[0m, \u001b[0m%xmm0\u001b[0m, \u001b[0m%xmm0\n",
      "\u001b[90m; │└\u001b[39m\n",
      "\u001b[90m; │┌ @ promotion.jl:323 within `-' @ float.jl:329\u001b[39m\n",
      "\t\u001b[96m\u001b[1mvaddsd\u001b[22m\u001b[39m\t\u001b[0m%xmm1\u001b[0m, \u001b[0m%xmm0\u001b[0m, \u001b[0m%xmm0\n",
      "\u001b[90m; │└\u001b[39m\n",
      "\u001b[90m; │┌ @ promotion.jl:322 within `*' @ float.jl:332\u001b[39m\n",
      "\t\u001b[96m\u001b[1mvaddsd\u001b[22m\u001b[39m\t\u001b[0m%xmm0\u001b[0m, \u001b[0m%xmm0\u001b[0m, \u001b[0m%xmm0\n",
      "\u001b[90m; │└\u001b[39m\n",
      "\u001b[90m; │┌ @ promotion.jl:323 within `-' @ float.jl:329\u001b[39m\n",
      "\t\u001b[96m\u001b[1mvaddsd\u001b[22m\u001b[39m\t\u001b[0m%xmm1\u001b[0m, \u001b[0m%xmm0\u001b[0m, \u001b[0m%xmm0\n",
      "\u001b[90m; │└\u001b[39m\n",
      "\u001b[90m; │ @ In[101]:5 within `g'\u001b[39m\n",
      "\t\u001b[96m\u001b[1mretq\u001b[22m\u001b[39m\n",
      "\t\u001b[96m\u001b[1mnop\u001b[22m\u001b[39m\n",
      "\u001b[90m; └\u001b[39m\n"
     ]
    }
   ],
   "source": [
    "@code_native g(2.0)"
   ]
  },
  {
   "cell_type": "markdown",
   "metadata": {},
   "source": [
    "1st instruction adds the content of the 128-bit register XMM0 to itself, and overwrites the result into XMM0.\\\n",
    "2nd instruction moves the immediate constant $5157562920 to the 64-bit register RAX.\\\n",
    "3rd instruction loads the content of RAX into XMM1.\\\n",
    "Instructions named with `vaddsd` after the 3rd instruction add the content of the 128-bit register XMM0 to itself and overwrite the result into XMM0, and add the content of the 128-bit register XMM1 to the content of the 128-bit register XMM0 and overwrite the result into XMM0 iteratively.\\\n",
    "Note that the addition in this code are the floating-point arithmetic."
   ]
  },
  {
   "cell_type": "markdown",
   "metadata": {},
   "source": [
    "The difference from `@code_llvm` is that `@code_native` shows the assembly code so that it contains the detailed computation process and the location of contents.\\\n",
    "Especially, `@code_llvm g(2.0)` of question 2 shows the float-multiplication with `fmul`, whereas `@code_native g(2.0)` does not show the multiplication explicitly but only show the addition so that the multiplication is altered to the self-addition of the content."
   ]
  },
  {
   "cell_type": "markdown",
   "metadata": {},
   "source": [
    "## Q4. Floats\n",
    "\n",
    "Consider the followiig model for the floating-point representation:\n",
    "$$\n",
    "    \\pm 0.d_1d_2\\dotsb d_p \\times b^e\n",
    "$$\n",
    "with $e_{\\min} \\leq e \\leq e_{\\max}$. "
   ]
  },
  {
   "cell_type": "markdown",
   "metadata": {},
   "source": [
    "1) How many floating-point numbers are there? "
   ]
  },
  {
   "cell_type": "markdown",
   "metadata": {},
   "source": [
    "Suppose $d_1\\ne 0$. Then, $$ \\pm 0.d_1\\dotsc d_p\\times b^e = \\pm d_1.d_2\\dotsc d_p\\times b^{e-1} $$\n",
    "and in this case, there are $2(b-1)b^{p-1}(e_\\max-e_\\min + 1)$ different number of floating-point numbers.\\\n",
    "If $d_1 = 0,d_2\\ne 0$, then $$ \\pm 0.0d_2\\dotsc d_p\\times b^e = \\pm d_2.d_3\\dotsc d_p\\times b^{e-2}.$$\n",
    "If $e\\ge e_\\min+1$, then the floating-point numbers of the form $\\pm d_2.d_3\\dotsc d_p\\times b^{e-2}$ are included in the case above. Thus, we only need to count the case of $e = e_\\min$ and there are $2(b-1)b^{p-2}$ unique floating-point numbers in this case.\\\n",
    "Analogously, we can count the case of $d_1=\\cdots = d_k = 0,d_{k+1}\\ne 0, k<p$ as $2(b-1)b^{p-k-1}$.\\\n",
    "If $d_i=0$ for any $i=1,\\cdots,p$, then it implies $\\pm 0.0\\dotsc 0\\times b^e = 0$. Therefore, there are\n",
    "$$\n",
    "2(b-1)b^{p-1}(e_\\max-e_\\min+1) + 2(b-1)b^{p-2}+\\cdots+2(b-1)b^0 + 1 = 2(b-1)b^{p-1}(e_\\max-e_\\min) + 2(b^p-1)+1\n",
    "$$"
   ]
  },
  {
   "cell_type": "markdown",
   "metadata": {},
   "source": [
    "2) What is the smallest positive number?"
   ]
  },
  {
   "cell_type": "markdown",
   "metadata": {},
   "source": [
    "$0.0\\dotsc 01\\times b^{e_\\min} = \\frac{1}{b^p}\\times b^{e_\\min} = b^{e_\\min - p}$"
   ]
  },
  {
   "cell_type": "markdown",
   "metadata": {},
   "source": [
    "3) What is the smallest number larger than 1? "
   ]
  },
  {
   "cell_type": "markdown",
   "metadata": {},
   "source": [
    "Since $\\frac{1}{b^k}\\times b^k = 1$ and \n",
    "$$0.11\\dotsc 11\\times b^0< 1 < 0.10\\dotsc 01\\times b^1 < 0.010\\dotsc 01\\times b^2<\\cdots<0.0\\dotsc 011\\times b^{p-1},$$\n",
    "$0.10\\dotsc 01\\times b^1 = \\left(\\frac{1}{b}+\\frac{1}{b^p}\\right)\\times b = 1+\\frac{1}{b^{p-1}}$ is the smallest number larger than 1."
   ]
  },
  {
   "cell_type": "markdown",
   "metadata": {},
   "source": [
    "4) What is the smallest number $X$, such that $X + 1 = X$? Assume the round to nearest, ties to even rule."
   ]
  },
  {
   "cell_type": "markdown",
   "metadata": {},
   "source": [
    "Let $X = 0.d_1\\dotsc d_p\\times b^e$ and $d_1 \\ne 0$. By assuming the round to nearest and ties to even rule,\n",
    "$$ 2\\le 0.0\\dotsc 01\\times b^e = b^{e-p}. $$\n",
    "If above inequality is not satisfied, then $X+1\\ne X$ because 1 is larger than the half of $ 0.0\\dotsc 01\\times b^e$ and we assumed the round to nearest rule.\\\n",
    "Since $b\\ge 2$ in general, $e\\ge p+1$. That is, the smallest number $X$ must be in the form of $0.d_1\\dotsc d_{p}\\times b^{p+1}$.\\\n",
    "Now, suppose $d_1 = 0$. Then $X = 0.d_2\\dotsc d_{p}\\times b^p$ and thus $X+1\\ne X$ due to $2 > 0.0\\dotsc 01\\times b^{p} = 1$.\\\n",
    "Therefore, $d_1\\ne 0$ and thus the smallest number of the form $0.d_1\\dotsc d_{p}\\times b^{p+1}$ is\n",
    "$$ \n",
    "X = 0.10\\dotsc 00\\times b^{p+1} = b^p\n",
    "$$"
   ]
  },
  {
   "cell_type": "markdown",
   "metadata": {},
   "source": [
    "5) Suppose $p=4$ and $b=2$ (and $e_{\\min}$ is very small and $e_{\\max}$ is very large). What is the next number after 20 in this number system?"
   ]
  },
  {
   "cell_type": "markdown",
   "metadata": {},
   "source": [
    "$20 = 10100_2 = 0.1010\\times 2^5$. Thus, the next number after 20 is\n",
    "$$ 0.1011\\times 2^5 = \\left(\\frac{1}{2} + \\frac{1}{2^3} + \\frac{1}{2^4}\\right)\\times 2^5 = 22 $$"
   ]
  },
  {
   "cell_type": "markdown",
   "metadata": {},
   "source": [
    "## Q5. Sum of squares\n",
    "\n",
    "Typical statistical computing routines would include that for computing the sum of squares of $n$ real number:\n",
    "$$\n",
    "    \\sum_{i=1}^n(x_i - \\bar{x})^2 = \\sum_{i=1}^n x_i^2 - n\\bar{x}^2\n",
    "$$\n",
    "where $\\bar{x} = \\frac{1}{n}\\sum_{i=1}^n x_i$.\n",
    "\n",
    "Either expression in the above equation suggests an algoriihm. The LHS suggests \n",
    "```\n",
    "# Algorithm 1\n",
    "a = x[1]\n",
    "for i = 2,...,n {\n",
    "    a = x[i] + a \n",
    "}\n",
    "a = a/n\n",
    "b = (x[1] − a)^2 \n",
    "for i = 2,...,n {\n",
    "    b=(x[i] − a)^2 + b \n",
    "}\n",
    "```\n",
    "\n",
    "The RHS suggests\n",
    "```\n",
    "# Algorithm 2\n",
    "a = x[1] \n",
    "b = x[1]^2\n",
    "for i = 2,...,n {\n",
    "    a = x[i] + a\n",
    "    b = x[i]^2 + b \n",
    "}\n",
    "a = a/n\n",
    "b = b − n * a^2\n",
    "```"
   ]
  },
  {
   "cell_type": "markdown",
   "metadata": {},
   "source": [
    "1) Compare Algorithms 1 and 2. Which algoritm is more likely to end up with catastrophic cancellation?"
   ]
  },
  {
   "cell_type": "markdown",
   "metadata": {},
   "source": [
    "Both Algorithm 1 and 2 computes $\\bar{x}$ via $a$ with iterative addition. Algorithm 1 computes $(x_i - \\bar{x})^2$ and with iterative addition, it gets the LHS. On the other hand, Algorithm 2 computes $\\sum_{i=1}^n x_i^2$ first, and then by subtracting $n\\bar{x}^2$, it gets the RHS. \\\n",
    "It seems that Algorithm 1 is more likely to end up with catastrophic cancellation. This is because of iterative evaluation of $(x_i-\\bar{x})^2$; there are $n$ substraction in the algorithm and if one of $x_i$ is similar to $\\bar{x}$, then the catastrophic cancellation must be occured. One can say that Algorithm 2 also may suffer the same phenomenon if $\\sum_{i=1}^nx_i^2\\approx n\\bar{x}^2$, but this also implies that\n",
    "$$\n",
    "(x_i-\\bar{x})^2 \\le \\sum_{i=1}^n(x_i - \\bar{x})^2 = \\sum_{i=1}^n x_i^2 - n\\bar{x}^2,\\quad \\forall i=1,\\cdots,n\n",
    "$$\n",
    "Thus, even if we assume $\\sum_{i=1}^nx_i^2\\approx n\\bar{x}^2$, Algorithm 1 suffers more crucial catastrophic cancellation compared to Algorithm 2."
   ]
  },
  {
   "cell_type": "markdown",
   "metadata": {},
   "source": [
    "As an alternative, consider the following algorithm.\n",
    "```\n",
    "# Algorithm 3\n",
    "a = x[1]\n",
    "b = 0.0\n",
    "for i = 2,...,n {\n",
    "    d = (x[i] − a) / i \n",
    "    a = d + a \n",
    "    b = i * (i − 1) * d^2 + b\n",
    "}\n",
    "```"
   ]
  },
  {
   "cell_type": "markdown",
   "metadata": {},
   "source": [
    "2) Show that Algorithm 3 correctly computes the sum of squares."
   ]
  },
  {
   "cell_type": "markdown",
   "metadata": {},
   "source": [
    "First, let $a_1 =x_1,b_1=0$ and \n",
    "$$\n",
    "\\begin{eqnarray*}\n",
    "a_i &=& \\frac{x_i-a_{i-1}}{i} + a_{i-1} = \\frac{x_i}{i} + \\frac{i-1}{i}a_{i-1}\\\\\n",
    "b_i &=& i(i-1)\\left(\\frac{x_i-a_{i-1}}{i}\\right)^2 + b_{i-1} = \\frac{i-1}{i}(x_i-a_{i-1})^2 + b_{i-1}\n",
    "\\end{eqnarray*}\n",
    "$$\n",
    "for $i=2,\\cdots,n$. Claim that \n",
    "$$\n",
    "\\begin{eqnarray*}\n",
    "a_i &=& \\frac{1}{i}\\sum_{j=1}^i x_j\\\\\n",
    "b_i &=& \\sum_{j=1}^i (x_j - a_i)^2.\n",
    "\\end{eqnarray*}\n",
    "$$\n",
    "for $i=2,\\cdots,n$. First, since $a_1 = x_1 = \\frac{x_1}{1}$ and $ b_1 = (x_1 - a_1)^2 = 0$, the claim is satisfied for $i=1$. Suppose $a_k = \\frac{1}{k}\\sum_{j=1}^k x_j$ and $b_k = \\sum_{j=1}^k (x_j - a_k)^2$ for $k\\ge 1$. Then,\n",
    "$$\n",
    "\\begin{eqnarray*}\n",
    "a_{k+1} = \\frac{x_{k+1}}{k+1} + \\frac{k}{k+1}a_k &=& \\frac{x_{k+1}}{k+1} + \\frac{1}{k+1}\\sum_{j=1}^k x_j\\\\\n",
    "&=& \\frac{1}{k+1}\\sum_{j=1}^{k+1} x_j.\n",
    "\\end{eqnarray*}\n",
    "$$\n",
    "Hence, by induction, the claim for $\\{a_i\\}$ is proved. On the other hand, note that\n",
    "$$\n",
    "\\begin{eqnarray*}\n",
    "\\frac{k}{k+1}(x_{k+1}-a_k)^2 = \\frac{k}{k+1}\\left(x_{k+1} - \\frac{1}{k}\\sum_{j=1}^k x_j\\right)^2 &=& \\frac{k}{k+1}\\left(\\frac{k+1}{k}x_{k+1} - \\frac{1}{k}\\sum_{j=1}^{k+1} x_j\\right)^2\\\\\n",
    "&=& \\frac{k}{k+1}\\left(\\frac{k+1}{k}(x_{k+1} - a_{k+1})\\right)^2\\\\\n",
    "&=& \\frac{k+1}{k}(x_{k+1}-a_{k+1})^2\n",
    "\\end{eqnarray*}\n",
    "$$\n",
    "and \n",
    "$$\n",
    "\\begin{eqnarray*}\n",
    "(k+1)a_{k+1} = ka_k + x_{k+1} \\Rightarrow a_k = a_{k+1} - \\frac{1}{k}(x_{k+1}-a_{k+1}).\n",
    "\\end{eqnarray*}\n",
    "$$\n",
    "Thus, $b_k$ is alternatively expressed as\n",
    "$$\n",
    "\\begin{eqnarray*}\n",
    "b_k &=& \\sum_{j=1}^k\\left(x_j - a_{k+1} + \\frac{1}{k}(x_{k+1}-a_{k+1})\\right)^2\\\\\n",
    "&=& \\sum_{j=1}^k (x_j-a_{k+1})^2 + \\frac{2}{k}(x_{k+1}-a_{k+1})\\sum_{j=1}^k (x_j-a_{k+1}) + \\frac{1}{k^2}\\cdot k\\cdot (x_{k+1}-a_{k+1})^2\\\\\n",
    "&=&\\sum_{j=1}^k (x_j-a_{k+1})^2 + \\frac{2}{k}(x_{k+1}-a_{k+1})\\left[\\sum_{j=1}^{k+1} (x_j-a_{k+1})- (x_{k+1}-a_{k+1})\\right] +\\frac{1}{k} (x_{k+1}-a_{k+1})^2\\\\\n",
    "&=& \\sum_{j=1}^k (x_j-a_{k+1})^2 + \\frac{2}{k}(x_{k+1}-a_{k+1})\\left[0- (x_{k+1}-a_{k+1})\\right]+\\frac{1}{k} (x_{k+1}-a_{k+1})^2 \\quad\\left( \\because \\sum_{j=1}^{k+1} (x_j-a_{k+1}) = 0\\right)\\\\\n",
    "&=& \\sum_{j=1}^k (x_j-a_{k+1})^2 - \\frac{1}{k} (x_{k+1}-a_{k+1})^2.\n",
    "\\end{eqnarray*}\n",
    "$$\n",
    "Therefore, $b_{k+1}$ for $k\\ge 1$ can be expressed as\n",
    "$$\n",
    "\\begin{eqnarray*}\n",
    "b_{k+1} &=& \\frac{k+1}{k}(x_{k+1}-a_{k+1})^2+b_{k}\\\\\n",
    "&=& \\frac{k+1}{k}(x_{k+1}-a_{k+1})^2 + \\sum_{j=1}^k (x_j-a_{k+1})^2 - \\frac{1}{k} (x_{k+1}-a_{k+1})^2\\\\\n",
    "&=& \\sum_{j=1}^{k+1}(x_j-a_{k+1})^2\n",
    "\\end{eqnarray*}\n",
    "$$\n",
    "and by induction, the claim for $\\{b_i\\}$ is proved. \\\n",
    "Since Algorithm 3 initialize $a_1 = x_1, b_1 = 0$ and iteratively computes $a_i, b_i$ for $i=2,\\cdots, n$, Algorithm 3 consequently computes $a_n$ and $b_n$, where \n",
    "$$\n",
    "a_n = \\frac{1}{n}\\sum_{i=1}^n x_i = \\bar{x},\\quad b_n = \\sum_{i=1}^n(x_i-a_n)^2 = \\sum_{i=1}^n(x_i-\\bar{x})^2.\n",
    "$$"
   ]
  },
  {
   "cell_type": "markdown",
   "metadata": {},
   "source": [
    "3) Compare Algorithm 3 with Algorithms 1 and 2."
   ]
  },
  {
   "cell_type": "markdown",
   "metadata": {},
   "source": [
    "Algorithm 3 sequentially computes the sample mean and sum of squares of subsequence $\\{x_1,\\cdots,x_i\\}$ for $i = 1,\\cdots, n$. That is, Algorithm 3 computes $$a_i = \\frac{1}{i}\\sum_{j=1}^i x_j,\\quad b_i = \\sum_{j=1}^i (x_j-a_i)^2$$\n",
    "for each iteration, whereas Algorithms 1 and 2 do not. Since Algorithm 3 also computes $x_i - a_{i-1}$, it may suffer the catastrophic cancellation. However, $a_{i-1}$ in $x_i - a_{i-1}$ does not consider the value of $x_i$ whereas Algorithm 1 computes $x_i - \\bar{x}$ where $\\bar{x} = \\frac{1}{n}\\sum_{i=1}^nx_i$. This small difference may be a workaround for catastrophic cancellation; since the information of $x_i$ in the former approach does not contained in the subtraction explicitly. Moreover, even the catastrophic cancellation occured in Algorithm 3, we can also expect that divding with `i` in `d = (x[i] - a) / i` makes the invalid(unassigned) digits be vanished. Thus, Algorithm 3 is better than Algorithm 1 in view of catastrophic cancellation. \\\n",
    "However, it seems that Algorithm 3 is not robust to the catastrophic cancellation compared to Algorithm 2; re-consider the case $\\sum_{i=1}^n x_i^2\\approx n\\bar{x}^2$. Then,\n",
    "$$\n",
    " b_{n} = \\sum_{i=1}^n (x_i-\\bar{x})^2 = \\frac{n-1}{n}\\left(x_n - a_{n-1}\\right)^2 + b_{n-1}\\ge b_{n-1} = \\sum_{i=1}^{n-1}(x_i-a_{n-1})^2\n",
    "$$\n",
    "and this implies $b_{i+1}\\ge b_{i}$  and $x_{i+1}\\approx a_{i}$ for $i=1,\\cdots,n-1$. That is, even if we consider the case of catastrophic cancellation in Algorithm 2, the situation is more crucial in Algorithm 3."
   ]
  },
  {
   "cell_type": "markdown",
   "metadata": {},
   "source": [
    "4) Write a Julia function `wsos(x; w)` that computes the weighted sum of squares $\\sum_{i=1^n}w_i(x_i - \\bar{x})^2$ in a similar way to Algorithm 3. Here, `x` is an array of numbers, and `w` is an array of positive weights."
   ]
  },
  {
   "cell_type": "markdown",
   "metadata": {},
   "source": [
    "For $i=1,\\cdots, n$, let\n",
    "$$\n",
    "Z_i = \\sum_{j=1}^i w_j, \\quad\\tilde{d}_i = \\frac{w_i}{Z_i} (x_i-\\tilde{a}_{i-1}),\n",
    "$$\n",
    "and for sequences $\\{\\tilde{a}_i\\}$ and $\\{\\tilde{b}_i\\}$, let $\\tilde{a}_1 = x_1,\\tilde{b}_1 = 0$ and suppose the following is satisfied:\n",
    "$$\n",
    "\\tilde{a}_i = \\tilde{d}_i + \\tilde{a}_{i-1},\\quad \\tilde{b}_{i} = \\tilde{b}_{i-1} + \\frac{Z_i\\cdot Z_{i-1}}{w_i} \\tilde{d}_i^2 = \\tilde{b}_{i-1} + \\frac{Z_{i-1}}{Z_i}w_i(x_i-\\tilde{a}_{i-1})^2\n",
    "$$\n",
    "for $i=2,\\cdots, n$.\n",
    "Now, claim that for $i=1,\\cdots, n$,\n",
    "$$\n",
    "\\tilde{a}_i = \\frac{1}{Z_i}\\sum_{j=1}^i w_jx_j,\\quad \\tilde{b}_i = \\sum_{j=1}^i w_j(x_j-\\tilde{a}_i)^2\n",
    "$$\n",
    "First, since $\\tilde{a}_1 = x_1,\\tilde{b}_1 = 0$, the case for $i=1$ is satisfied. For general $i\\ge 1$, suppose $\\tilde{a}_i = \\frac{1}{Z_i}\\sum_{j=1}^i w_jx_j$ and $\\tilde{b}_i = \\sum_{j=1}^i w_j(x_j-\\tilde{a}_i)^2$ are satisfied. Then, especially for $\\tilde{a}_{i+1}$,\n",
    "$$\n",
    "\\begin{eqnarray*}\n",
    "\\tilde{a}_{i+1} = \\tilde{d}_{i+1} + \\tilde{a}_i &=& \\frac{w_{i+1}}{Z_{i+1}}(x_{i+1}-\\tilde{a}_{i}) + \\tilde{a}_i\\\\\n",
    "&=& \\frac{w_{i+1}}{Z_{i+1}}x_{i+1} + \\frac{Z_i}{Z_{i+1}}\\tilde{a}_i\\\\\n",
    "&=& \\frac{w_{i+1}}{Z_{i+1}}x_{i+1} + \\frac{1}{Z_{i+1}}\\sum_{i=1}^{i}w_jx_j\\\\\n",
    "&=& \\frac{1}{Z_{i+1}}\\sum_{i=1}^{i+1}w_jx_j.\n",
    "\\end{eqnarray*}\n",
    "$$\n",
    "Hence, by induction, the claim for $\\{\\tilde{a}_i\\}$ is proved. On the other hand, by the fact above, note that\n",
    "$$\n",
    "\\begin{eqnarray*}\n",
    "\\frac{Z_{i}}{Z_{i+1}}w_{i+1}(x_{i+1}-\\tilde{a}_{i})^2 = \\frac{Z_{i}}{Z_{i+1}}w_{i+1}\\left(x_{i+1} - \\frac{1}{Z_i}\\sum_{j=1}^iw_jx_j\\right)^2 &=& \\frac{Z_{i}}{Z_{i+1}}w_{i+1}\\left(\\frac{Z_{i+1}}{Z_i}x_{i+1} - \\frac{1}{Z_i}\\sum_{j=1}^{i+1}w_jx_j\\right)^2\\\\\n",
    "&=& \\frac{Z_{i}}{Z_{i+1}}w_{i+1}\\left[\\frac{Z_{i+1}}{Z_i}(x_{i+1} - \\tilde{a}_{i+1})\\right]^2\\\\\n",
    "&=& \\frac{Z_{i+1}}{Z_i}w_{i+1}(x_{i+1} - \\tilde{a}_{i+1})^2\n",
    "\\end{eqnarray*}\n",
    "$$\n",
    "and\n",
    "$$\n",
    "Z_{i+1}\\tilde{a}_{i+1} = Z_i\\tilde{a}_i + w_{i+1}x_{i+1}\\Rightarrow \\tilde{a}_i = \\tilde{a}_{i+1} - \\frac{w_{i+1}}{Z_i}(x_{i+1}-\\tilde{a}_{i+1}).\n",
    "$$\n",
    "Thus, $\\tilde{b_{i}}$ is alteratively expressed as\n",
    "$$\n",
    "\\begin{eqnarray*}\n",
    "\\tilde{b_{i}} &=& \\sum_{j=1}^i w_j\\left[x_j-\\tilde{a}_{i+1} + \\frac{w_{i+1}}{Z_i}(x_{i+1}-\\tilde{a}_{i+1})\\right]^2\\\\\n",
    "&=& \\sum_{j=1}^i w_j(x_j-\\tilde{a}_{i+1})^2 + 2\\frac{w_{i+1}}{Z_i}(x_{i+1}-\\tilde{a}_{i+1})\\sum_{j=1}^i w_j(x_j-\\tilde{a}_{i+1}) + \\frac{w_{i+1}^2}{Z_i^2}(x_{i+1}-\\tilde{a}_{i+1})^2\\sum_{j=1}^iw_j\\\\\n",
    "&=& \\sum_{j=1}^i w_j(x_j-\\tilde{a}_{i+1})^2 + 2\\frac{w_{i+1}}{Z_i}(x_{i+1}-\\tilde{a}_{i+1})\\left[\\sum_{j=1}^{i+1}w_j(x_j-\\tilde{a}_{i+1}) - w_{i+1}(x_{i+1}-\\tilde{a}_{i+1})\\right] + \\frac{w_{i+1}^2}{Z_i}(x_{i+1}-\\tilde{a}_{i+1})^2\\\\\n",
    "&=& \\sum_{j=1}^i w_j(x_j-\\tilde{a}_{i+1})^2 - \\frac{w_{i+1}^2}{Z_i}(x_{i+1}-\\tilde{a}_{i+1})^2\\quad \\left( \\because \\sum_{j=1}^{i+1}w_j(x_j-\\tilde{a}_{i+1}) = 0\\right)\n",
    "\\end{eqnarray*}\n",
    "$$\n",
    "Therefore, $\\tilde{b}_{i+1}$ for $i\\ge 1$ can be expressed as\n",
    "$$\n",
    "\\begin{eqnarray*}\n",
    "\\tilde{b}_{i+1} &=& \\tilde{b}_{i} + \\frac{Z_{i+1}}{Z_i}w_{i+1}(x_{i+1} - \\tilde{a}_{i+1})^2\\\\\n",
    "&=& \\sum_{j=1}^i w_j(x_j-\\tilde{a}_{i+1})^2 - \\frac{w_{i+1}^2}{Z_i}(x_{i+1}-\\tilde{a}_{i+1})^2 + \\frac{Z_{i} + w_{i+1}}{Z_i}w_{i+1}(x_{i+1} - \\tilde{a}_{i+1})^2\\\\\n",
    "&=& \\sum_{j=1}^i w_j(x_j-\\tilde{a}_{i+1})^2 + w_{i+1}(x_{i+1} - \\tilde{a}_{i+1})^2 = \\sum_{j=1}^{i+1} w_j(x_j-\\tilde{a}_{i+1})^2\n",
    "\\end{eqnarray*}\n",
    "$$\n",
    "and by induction, the claim for $\\{\\tilde{b}_i\\}$ is proved. Now, for $i=1,\\cdots, n$, let $b_i = \\sum_{j=1}^iw_j(x_j-a_i)^2$ where $a_i$ is defined in question 2. Then, following is satisfied:\n",
    "$$\n",
    "\\begin{eqnarray*}\n",
    "b_i - \\tilde{b}_i &=& \\sum_{j=1}^i w_j[(x_j-a_i)^2-(x_j-\\tilde{a}_i)^2]\\\\\n",
    "&=& \\sum_{j=1}^i w_j[a_i^2 - 2a_ix_j + 2\\tilde{a}_ix_j - \\tilde{a}_i^2]\\\\\n",
    "&=& Z_i(a_i^2-\\tilde{a}_i^2) + 2(\\tilde{a}_i - a_i)\\sum_{j=1}^i w_jx_j\\\\\n",
    "&=& Z_i(a_i-\\tilde{a}_i)^2 \\quad\\left( \\because \\sum_{j=1}^i w_jx_j = Z_i\\tilde{a}_i\\right)\n",
    "\\end{eqnarray*}\n",
    "$$\n",
    "Therefore, $b_n = \\sum_{i=1}^n w_i(x_i-\\bar{x})^2 = \\tilde{b}_n + Z_n(a_n-\\tilde{a}_n)^2$ and the following function illustrates the process we have shown above."
   ]
  },
  {
   "cell_type": "code",
   "execution_count": 107,
   "metadata": {},
   "outputs": [
    {
     "data": {
      "text/plain": [
       "wsos (generic function with 1 method)"
      ]
     },
     "execution_count": 107,
     "metadata": {},
     "output_type": "execute_result"
    }
   ],
   "source": [
    "function wsos(x; w = ones(length(x))) # default weight : w1 = ... = wn = 1\n",
    "    a = x[1]      # a_1 = x_1\n",
    "    ã = x[1]      # \\tilde{a}_1 = x_1\n",
    "    Z = w[1]      # Z_1 = w_1\n",
    "    b = 0.0       # b_1 = 0\n",
    "    b̃ = 0.0       # \\tilde{b}_1 = 0\n",
    "    n = length(x)\n",
    "    for i in 2:n\n",
    "        Z = Z + w[i]                               # Z_i = Z_{i-1} + w_i\n",
    "        d = (x[i] - a) / i                         # d_i = (x_i - a_{i-1}) / i\n",
    "        d̃ = w[i] * (x[i] - ã) / Z                  # \\tilde{d}_i = w_i * (x_i - \\tilde{a}_{i-1}) / Z_i\n",
    "        a = d + a                                  # a_i = d_i + a_{i-1}\n",
    "        ã = d̃ + ã                                  # \\tilde{a}_i = \\tilde{d}_i + \\tilde{a}_{i-1}\n",
    "        b̃ = b̃ + Z * (Z / w[i] - 1) * d̃^2          # \\tilde{b}_i = \\tilde{b}_{i-1} + Z_i * Z_{i-1} * \\tilde{d}_i^2 / w_i\n",
    "        b = b̃ + Z * (a - ã)^2                     # b_i = \\tilde{b}_i + Z_i * (a_i - \\tilde{a}_i)^2\n",
    "    end\n",
    "    return b\n",
    "end"
   ]
  },
  {
   "cell_type": "code",
   "execution_count": null,
   "metadata": {},
   "outputs": [],
   "source": []
  }
 ],
 "metadata": {
  "kernelspec": {
   "display_name": "Julia 1.6.2",
   "language": "julia",
   "name": "julia-1.6"
  },
  "language_info": {
   "file_extension": ".jl",
   "mimetype": "application/julia",
   "name": "julia",
   "version": "1.6.2"
  },
  "toc": {
   "colors": {
    "hover_highlight": "#DAA520",
    "running_highlight": "#FF0000",
    "selected_highlight": "#FFD700"
   },
   "moveMenuLeft": true,
   "nav_menu": {
    "height": "153px",
    "width": "252px"
   },
   "navigate_menu": true,
   "number_sections": false,
   "sideBar": true,
   "skip_h1_title": true,
   "threshold": 4,
   "toc_cell": false,
   "toc_section_display": "block",
   "toc_window_display": true,
   "widenNotebook": false
  }
 },
 "nbformat": 4,
 "nbformat_minor": 4
}
