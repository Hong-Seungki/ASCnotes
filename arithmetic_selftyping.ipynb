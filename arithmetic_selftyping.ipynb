{
 "cells": [
  {
   "cell_type": "code",
   "execution_count": 1,
   "metadata": {},
   "outputs": [
    {
     "name": "stdout",
     "output_type": "stream",
     "text": [
      "Julia Version 1.6.2\n",
      "Commit 1b93d53fc4 (2021-07-14 15:36 UTC)\n",
      "Platform Info:\n",
      "  OS: macOS (x86_64-apple-darwin18.7.0)\n",
      "  CPU: Intel(R) Core(TM) i5-8210Y CPU @ 1.60GHz\n",
      "  WORD_SIZE: 64\n",
      "  LIBM: libopenlibm\n",
      "  LLVM: libLLVM-11.0.1 (ORCJIT, skylake)\n"
     ]
    }
   ],
   "source": [
    "versioninfo()"
   ]
  },
  {
   "cell_type": "code",
   "execution_count": 2,
   "metadata": {},
   "outputs": [
    {
     "name": "stderr",
     "output_type": "stream",
     "text": [
      "\u001b[32m\u001b[1m  Activating\u001b[22m\u001b[39m new environment at `~/Desktop/Studying Materials/2021-2/Project.toml`\n"
     ]
    },
    {
     "name": "stdout",
     "output_type": "stream",
     "text": [
      "\u001b[32m\u001b[1m      Status\u001b[22m\u001b[39m `~/Desktop/Studying Materials/2021-2/Project.toml` (empty project)\n"
     ]
    }
   ],
   "source": [
    "using Pkg\n",
    "Pkg.activate(\"../..\")\n",
    "Pkg.status()"
   ]
  },
  {
   "cell_type": "markdown",
   "metadata": {},
   "source": [
    "# Computer arithmetics"
   ]
  },
  {
   "cell_type": "markdown",
   "metadata": {},
   "source": [
    "## Units of computer storage\n",
    "\n",
    "Humans use decimal digits\\\n",
    "Computers use binary digits\n",
    "\n",
    "* *Bit* = binary digit (coined by statistician [John Tukey](https://en.wikipedia.org/wiki/Bit#History)). \n",
    "* *Byte* = 8 bits.\n",
    "* KB = kilobyte = $10^3$ bytes; KiB = kibibyte = $2^{10}$ bytes.\n",
    "* MB = megabyte = $10^6$ bytes; MiB = mebibyte = $2^{20}$ bytes.\n",
    "* GB = gigabyte = $10^9$ bytes. Typical RAM size.\n",
    "* TB = terabyte = $10^{12}$ bytes. Typical hard drive size. Size of NYSE each trading session.\n",
    "* PB = petabyte = $10^{15}$ bytes. \n",
    "* EB = exabyte = $10^{18}$ bytes. Size of all healthcare data in 2011 is ~150 EB.\n",
    "* ZB = zetabyte = $10^{21}$ bytes.\n",
    "\n",
    "Julia function `Base.summarysize` shows the amount of memory (in bytes) used by an object."
   ]
  },
  {
   "cell_type": "code",
   "execution_count": 3,
   "metadata": {},
   "outputs": [
    {
     "data": {
      "text/plain": [
       "80040"
      ]
     },
     "execution_count": 3,
     "metadata": {},
     "output_type": "execute_result"
    }
   ],
   "source": [
    "x = rand(100, 100)\n",
    "Base.summarysize(x)"
   ]
  },
  {
   "cell_type": "markdown",
   "metadata": {},
   "source": [
    "`varinfo()` function prints all variables in workspace and their sizes. "
   ]
  },
  {
   "cell_type": "code",
   "execution_count": 4,
   "metadata": {},
   "outputs": [
    {
     "data": {
      "text/latex": [
       "\\begin{tabular}\n",
       "{l | r | l}\n",
       "name & size & summary \\\\\n",
       "\\hline\n",
       "Base &  & Module \\\\\n",
       "Core &  & Module \\\\\n",
       "Main &  & Module \\\\\n",
       "x & 78.164 KiB & 100×100 Matrix\\{Float64\\} \\\\\n",
       "\\end{tabular}\n"
      ],
      "text/markdown": [
       "| name |       size | summary                 |\n",
       "|:---- | ----------:|:----------------------- |\n",
       "| Base |            | Module                  |\n",
       "| Core |            | Module                  |\n",
       "| Main |            | Module                  |\n",
       "| x    | 78.164 KiB | 100×100 Matrix{Float64} |\n"
      ],
      "text/plain": [
       "  name       size summary                \n",
       "  –––– –––––––––– –––––––––––––––––––––––\n",
       "  Base            Module                 \n",
       "  Core            Module                 \n",
       "  Main            Module                 \n",
       "  x    78.164 KiB 100×100 Matrix{Float64}"
      ]
     },
     "execution_count": 4,
     "metadata": {},
     "output_type": "execute_result"
    }
   ],
   "source": [
    "varinfo() # similar to Matlab whos()"
   ]
  },
  {
   "cell_type": "markdown",
   "metadata": {},
   "source": [
    "## Storage of Characters\n",
    "\n",
    "* Plain text files are stored in the form of characters: `.jl`, `.r`, `.c`, `.cpp`, `.ipynb`, `.html`, `.tex`,...\n",
    "* ASCII (American Code for Information Interchange): 7 bits, only $2^7 = 128$ characters. "
   ]
  },
  {
   "cell_type": "code",
   "execution_count": 5,
   "metadata": {},
   "outputs": [
    {
     "data": {
      "text/plain": [
       "128×2 Matrix{Any}:\n",
       "   0  '\\0'\n",
       "   1  '\\x01'\n",
       "   2  '\\x02'\n",
       "   3  '\\x03'\n",
       "   4  '\\x04'\n",
       "   5  '\\x05'\n",
       "   6  '\\x06'\n",
       "   7  '\\a'\n",
       "   8  '\\b'\n",
       "   9  '\\t'\n",
       "  10  '\\n'\n",
       "  11  '\\v'\n",
       "  12  '\\f'\n",
       "   ⋮  \n",
       " 116  't'\n",
       " 117  'u'\n",
       " 118  'v'\n",
       " 119  'w'\n",
       " 120  'x'\n",
       " 121  'y'\n",
       " 122  'z'\n",
       " 123  '{'\n",
       " 124  '|'\n",
       " 125  '}'\n",
       " 126  '~'\n",
       " 127  '\\x7f'"
      ]
     },
     "execution_count": 5,
     "metadata": {},
     "output_type": "execute_result"
    }
   ],
   "source": [
    "# integers 0, 1, ..., 127 and corresponding ascii character\n",
    "[0:127 Char.(0:127)]"
   ]
  },
  {
   "cell_type": "markdown",
   "metadata": {},
   "source": [
    "* Extended ASCII: 8 bits, $2^8 = 256$ characters."
   ]
  },
  {
   "cell_type": "code",
   "execution_count": 6,
   "metadata": {},
   "outputs": [
    {
     "data": {
      "text/plain": [
       "128×2 Matrix{Any}:\n",
       " 128  '\\u80'\n",
       " 129  '\\u81'\n",
       " 130  '\\u82'\n",
       " 131  '\\u83'\n",
       " 132  '\\u84'\n",
       " 133  '\\u85'\n",
       " 134  '\\u86'\n",
       " 135  '\\u87'\n",
       " 136  '\\u88'\n",
       " 137  '\\u89'\n",
       " 138  '\\u8a'\n",
       " 139  '\\u8b'\n",
       " 140  '\\u8c'\n",
       "   ⋮  \n",
       " 244  'ô'\n",
       " 245  'õ'\n",
       " 246  'ö'\n",
       " 247  '÷'\n",
       " 248  'ø'\n",
       " 249  'ù'\n",
       " 250  'ú'\n",
       " 251  'û'\n",
       " 252  'ü'\n",
       " 253  'ý'\n",
       " 254  'þ'\n",
       " 255  'ÿ'"
      ]
     },
     "execution_count": 6,
     "metadata": {},
     "output_type": "execute_result"
    }
   ],
   "source": [
    "# integers 128, 129, ..., 255 and corresponding extended ascii characters\n",
    "# show(STDOUT, \"text/plain\", [128:255 Char.(128:255)])\n",
    "[128:255 Char.(128:255)]"
   ]
  },
  {
   "cell_type": "markdown",
   "metadata": {},
   "source": [
    "* Unicode: UTF-8, UTF-16 and UTF-32 support many more characters including foreign characters; last 7 digits conform to ASCII.\n",
    "\n",
    "* [UTF-8](https://en.wikipedia.org/wiki/UTF-8) is the current dominant character encoding on internet.  \n",
    "\n",
    "* Julia supports the full range of UTF-8 characters. You can type many Unicode math symbols by typing the backslashed LaTeX symbol name followed by tab."
   ]
  },
  {
   "cell_type": "code",
   "execution_count": 8,
   "metadata": {},
   "outputs": [
    {
     "data": {
      "text/plain": [
       "0.0"
      ]
     },
     "execution_count": 8,
     "metadata": {},
     "output_type": "execute_result"
    }
   ],
   "source": [
    "# \\beta-<tab>\n",
    "β = 0.0\n",
    "# \\beta-<tab>-\\hat-<tab>\n",
    "β̂ = 0.0"
   ]
  },
  {
   "cell_type": "markdown",
   "metadata": {},
   "source": [
    "* For a table of unicode symbols that can be entered via tab completion of LaTeX-like abbreviations: <https://docs.julialang.org/en/v1.1/manual/unicode-input/#Unicode-Input-1>"
   ]
  },
  {
   "cell_type": "markdown",
   "metadata": {},
   "source": [
    "## Integers: fixed-point number system\n",
    "\n",
    "* Fixed-point number system is a computer model for integers $\\mathbb{Z}$.\n",
    "    - **Remember** that computer memory is finite whereas the cardinality of $\\mathbb{Z}$ is (countably) infinite.\n",
    "    - *Any* representation of numbers in computer *has to be* an approximation.\n",
    "    \n",
    "* The number $M$ of bits and method of representing negative numbers vary from system to system.\n",
    "    - The `integer` type in R has $M = 32$ (packages such as `bit64` support 64 bit integers.)\n",
    "        + <https://www.r-bloggers.com/r-in-a-64-bit-world/>\n",
    "    - C has (`unsigned`) `char`, `int`, `short`, `long` (and `long long`), whose sizes depend on the machine.\n",
    "    - Matlab has `(u)int8`, `(u)int16`, `(u)int32`, `(u)int64`.\n",
    "\n",
    "* Julia has even more integer types:"
   ]
  },
  {
   "cell_type": "code",
   "execution_count": 9,
   "metadata": {},
   "outputs": [
    {
     "data": {
      "image/svg+xml": [
       "<?xml version=\"1.0\" encoding=\"utf-8\"?>\n",
       "<svg xmlns=\"http://www.w3.org/2000/svg\" xmlns:xlink=\"http://www.w3.org/1999/xlink\" width=\"600\" height=\"400\" viewBox=\"0 0 2400 1600\">\n",
       "<defs>\n",
       "  <clipPath id=\"clip880\">\n",
       "    <rect x=\"0\" y=\"0\" width=\"2400\" height=\"1600\"/>\n",
       "  </clipPath>\n",
       "</defs>\n",
       "<path clip-path=\"url(#clip880)\" d=\"\n",
       "M0 1600 L2400 1600 L2400 0 L0 0  Z\n",
       "  \" fill=\"#ffffff\" fill-rule=\"evenodd\" fill-opacity=\"1\"/>\n",
       "<defs>\n",
       "  <clipPath id=\"clip881\">\n",
       "    <rect x=\"480\" y=\"0\" width=\"1681\" height=\"1600\"/>\n",
       "  </clipPath>\n",
       "</defs>\n",
       "<path clip-path=\"url(#clip880)\" d=\"\n",
       "M447.244 1552.76 L1952.76 1552.76 L1952.76 47.2441 L447.244 47.2441  Z\n",
       "  \" fill=\"#ffffff\" fill-rule=\"evenodd\" fill-opacity=\"1\"/>\n",
       "<defs>\n",
       "  <clipPath id=\"clip882\">\n",
       "    <rect x=\"447\" y=\"47\" width=\"1507\" height=\"1507\"/>\n",
       "  </clipPath>\n",
       "</defs>\n",
       "<polyline clip-path=\"url(#clip882)\" style=\"stroke:#000000; stroke-linecap:butt; stroke-linejoin:round; stroke-width:4; stroke-opacity:1; fill:none\" points=\"\n",
       "  1282.43,262.317 1281.99,268.568 1280.73,274.671 1278.71,280.639 1275.97,286.481 1272.6,292.21 1268.64,297.835 1264.16,303.367 1259.22,308.818 1253.88,314.199 \n",
       "  1248.2,319.519 1242.25,324.791 1236.09,330.024 1229.77,335.23 1223.36,340.42 1216.92,345.605 1210.5,350.795 1204.19,356.001 1198.02,361.235 1192.07,366.506 \n",
       "  1186.39,371.827 1181.05,377.207 1176.12,382.658 1171.64,388.19 1167.68,393.815 1164.3,399.544 1161.57,405.386 1159.54,411.354 1158.28,417.458 1157.84,423.708 \n",
       "  \n",
       "  \"/>\n",
       "<polyline clip-path=\"url(#clip882)\" style=\"stroke:#000000; stroke-linecap:butt; stroke-linejoin:round; stroke-width:4; stroke-opacity:1; fill:none\" points=\"\n",
       "  1157.84,423.708 1157.91,430.296 1158.1,437.018 1158.41,443.864 1158.83,450.824 1159.34,457.888 1159.95,465.046 1160.63,472.288 1161.38,479.605 1162.2,486.986 \n",
       "  1163.06,494.421 1163.97,501.901 1164.91,509.416 1165.88,516.956 1166.85,524.51 1167.84,532.069 1168.81,539.624 1169.78,547.163 1170.72,554.678 1171.63,562.158 \n",
       "  1172.49,569.594 1173.31,576.975 1174.06,584.291 1174.74,591.534 1175.35,598.692 1175.86,605.756 1176.28,612.715 1176.59,619.561 1176.78,626.283 1176.85,632.871 \n",
       "  \n",
       "  \"/>\n",
       "<polyline clip-path=\"url(#clip882)\" style=\"stroke:#000000; stroke-linecap:butt; stroke-linejoin:round; stroke-width:4; stroke-opacity:1; fill:none\" points=\"\n",
       "  1176.85,632.871 1176.89,638.755 1177.03,644.76 1177.25,650.877 1177.55,657.097 1177.92,663.412 1178.35,669.812 1178.84,676.288 1179.37,682.832 1179.96,689.434 \n",
       "  1180.57,696.086 1181.22,702.778 1181.89,709.502 1182.58,716.248 1183.28,723.007 1183.98,729.771 1184.68,736.531 1185.37,743.277 1186.04,750 1186.69,756.692 \n",
       "  1187.31,763.344 1187.89,769.946 1188.43,776.49 1188.91,782.967 1189.34,789.367 1189.71,795.682 1190.01,801.902 1190.23,808.019 1190.37,814.024 1190.42,819.907 \n",
       "  \n",
       "  \"/>\n",
       "<polyline clip-path=\"url(#clip882)\" style=\"stroke:#000000; stroke-linecap:butt; stroke-linejoin:round; stroke-width:4; stroke-opacity:1; fill:none\" points=\"\n",
       "  1190.42,819.907 1190.81,826.795 1191.95,833.626 1193.79,840.405 1196.27,847.137 1199.33,853.825 1202.92,860.473 1206.98,867.087 1211.45,873.669 1216.29,880.224 \n",
       "  1221.44,886.756 1226.83,893.27 1232.42,899.769 1238.15,906.258 1243.96,912.74 1249.8,919.221 1255.61,925.703 1261.34,932.192 1266.92,938.691 1272.32,945.205 \n",
       "  1277.46,951.737 1282.3,958.292 1286.78,964.874 1290.84,971.488 1294.43,978.136 1297.49,984.824 1299.97,991.556 1301.8,998.335 1302.95,1005.17 1303.34,1012.05 \n",
       "  \n",
       "  \"/>\n",
       "<polyline clip-path=\"url(#clip882)\" style=\"stroke:#000000; stroke-linecap:butt; stroke-linejoin:round; stroke-width:4; stroke-opacity:1; fill:none\" points=\"\n",
       "  1190.42,819.907 1190.53,829.492 1190.86,839.269 1191.39,849.223 1192.11,859.34 1193,869.605 1194.03,880.005 1195.21,890.526 1196.51,901.153 1197.91,911.872 \n",
       "  1199.4,922.67 1200.96,933.531 1202.57,944.441 1204.23,955.387 1205.91,966.354 1207.6,977.329 1209.29,988.296 1210.94,999.242 1212.56,1010.15 1214.12,1021.01 \n",
       "  1215.61,1031.81 1217.01,1042.53 1218.31,1053.16 1219.49,1063.68 1220.52,1074.08 1221.41,1084.34 1222.13,1094.46 1222.66,1104.41 1222.99,1114.19 1223.1,1123.78 \n",
       "  \n",
       "  \"/>\n",
       "<polyline clip-path=\"url(#clip882)\" style=\"stroke:#000000; stroke-linecap:butt; stroke-linejoin:round; stroke-width:4; stroke-opacity:1; fill:none\" points=\"\n",
       "  1190.42,819.907 1190.1,827.262 1189.19,834.656 1187.73,842.085 1185.75,849.547 1183.31,857.04 1180.45,864.559 1177.22,872.103 1173.65,879.669 1169.79,887.253 \n",
       "  1165.69,894.853 1161.39,902.465 1156.94,910.088 1152.37,917.718 1147.74,925.352 1143.09,932.988 1138.46,940.622 1133.89,948.252 1129.44,955.875 1125.14,963.488 \n",
       "  1121.04,971.088 1117.18,978.672 1113.61,986.237 1110.38,993.781 1107.52,1001.3 1105.08,1008.79 1103.1,1016.26 1101.64,1023.69 1100.73,1031.08 1100.41,1038.43 \n",
       "  \n",
       "  \"/>\n",
       "<polyline clip-path=\"url(#clip882)\" style=\"stroke:#000000; stroke-linecap:butt; stroke-linejoin:round; stroke-width:4; stroke-opacity:1; fill:none\" points=\"\n",
       "  1190.42,819.907 1189.48,832.187 1186.75,844.051 1182.38,855.529 1176.48,866.652 1169.19,877.451 1160.64,887.957 1150.97,898.2 1140.3,908.213 1128.78,918.024 \n",
       "  1116.53,927.666 1103.68,937.169 1090.37,946.565 1076.72,955.883 1062.88,965.154 1048.98,974.411 1035.14,983.682 1021.49,993 1008.18,1002.4 995.334,1011.9 \n",
       "  983.082,1021.54 971.557,1031.35 960.893,1041.36 951.221,1051.61 942.674,1062.11 935.384,1072.91 929.484,1084.04 925.106,1095.51 922.382,1107.38 921.444,1119.66 \n",
       "  \n",
       "  \"/>\n",
       "<polyline clip-path=\"url(#clip882)\" style=\"stroke:#000000; stroke-linecap:butt; stroke-linejoin:round; stroke-width:4; stroke-opacity:1; fill:none\" points=\"\n",
       "  921.444,1119.66 921.681,1126.79 922.369,1134 923.476,1141.29 924.966,1148.65 926.808,1156.08 928.967,1163.56 931.411,1171.1 934.105,1178.68 937.017,1186.31 \n",
       "  940.113,1193.96 943.359,1201.65 946.722,1209.35 950.169,1217.07 953.665,1224.8 957.179,1232.54 960.676,1240.27 964.122,1247.99 967.486,1255.69 970.732,1263.38 \n",
       "  973.827,1271.03 976.739,1278.66 979.433,1286.24 981.877,1293.78 984.036,1301.26 985.878,1308.69 987.369,1316.05 988.475,1323.34 989.163,1330.55 989.4,1337.68 \n",
       "  \n",
       "  \"/>\n",
       "<polyline clip-path=\"url(#clip882)\" style=\"stroke:#000000; stroke-linecap:butt; stroke-linejoin:round; stroke-width:4; stroke-opacity:1; fill:none\" points=\"\n",
       "  921.444,1119.66 921.864,1125.03 923.084,1130.21 925.046,1135.2 927.688,1140.03 930.954,1144.7 934.782,1149.23 939.114,1153.63 943.891,1157.93 949.053,1162.13 \n",
       "  954.541,1166.24 960.296,1170.3 966.258,1174.3 972.369,1178.26 978.568,1182.21 984.797,1186.14 990.997,1190.08 997.107,1194.05 1003.07,1198.05 1008.82,1202.1 \n",
       "  1014.31,1206.22 1019.47,1210.42 1024.25,1214.72 1028.58,1219.12 1032.41,1223.65 1035.68,1228.32 1038.32,1233.15 1040.28,1238.14 1041.5,1243.32 1041.92,1248.69 \n",
       "  \n",
       "  \"/>\n",
       "<polyline clip-path=\"url(#clip882)\" style=\"stroke:#000000; stroke-linecap:butt; stroke-linejoin:round; stroke-width:4; stroke-opacity:1; fill:none\" points=\"\n",
       "  921.444,1119.66 921.232,1126.51 920.613,1133.45 919.619,1140.47 918.279,1147.57 916.624,1154.74 914.684,1161.96 912.488,1169.25 910.067,1176.58 907.45,1183.95 \n",
       "  904.668,1191.36 901.751,1198.8 898.729,1206.26 895.631,1213.74 892.489,1221.23 889.331,1228.72 886.189,1236.21 883.092,1243.69 880.069,1251.15 877.152,1258.59 \n",
       "  874.371,1266 871.754,1273.38 869.333,1280.71 867.137,1287.99 865.196,1295.22 863.541,1302.38 862.201,1309.48 861.207,1316.5 860.589,1323.44 860.376,1330.29 \n",
       "  \n",
       "  \"/>\n",
       "<polyline clip-path=\"url(#clip882)\" style=\"stroke:#000000; stroke-linecap:butt; stroke-linejoin:round; stroke-width:4; stroke-opacity:1; fill:none\" points=\"\n",
       "  921.444,1119.66 920.953,1125.56 919.527,1131.2 917.233,1136.58 914.143,1141.74 910.324,1146.68 905.847,1151.43 900.781,1156.02 895.195,1160.45 889.158,1164.75 \n",
       "  882.741,1168.94 876.011,1173.04 869.038,1177.07 861.892,1181.05 854.643,1185.01 847.358,1188.95 840.109,1192.9 832.963,1196.88 825.99,1200.91 819.26,1205.01 \n",
       "  812.843,1209.2 806.806,1213.5 801.22,1217.94 796.154,1222.52 791.677,1227.27 787.858,1232.21 784.768,1237.37 782.475,1242.75 781.048,1248.39 780.557,1254.29 \n",
       "  \n",
       "  \"/>\n",
       "<polyline clip-path=\"url(#clip882)\" style=\"stroke:#000000; stroke-linecap:butt; stroke-linejoin:round; stroke-width:4; stroke-opacity:1; fill:none\" points=\"\n",
       "  921.444,1119.66 920.651,1125.61 918.345,1131.17 914.639,1136.36 909.644,1141.22 903.473,1145.77 896.238,1150.04 888.05,1154.06 879.022,1157.86 869.266,1161.47 \n",
       "  858.894,1164.91 848.018,1168.23 836.749,1171.44 825.201,1174.59 813.484,1177.68 801.712,1180.76 789.995,1183.86 778.447,1187 767.178,1190.22 756.302,1193.53 \n",
       "  745.93,1196.98 736.174,1200.59 727.146,1204.39 718.959,1208.41 711.723,1212.68 705.552,1217.23 700.558,1222.08 696.851,1227.28 694.545,1232.84 693.752,1238.79 \n",
       "  \n",
       "  \"/>\n",
       "<polyline clip-path=\"url(#clip882)\" style=\"stroke:#000000; stroke-linecap:butt; stroke-linejoin:round; stroke-width:4; stroke-opacity:1; fill:none\" points=\"\n",
       "  921.444,1119.66 920.541,1127.9 917.917,1135.6 913.699,1142.79 908.015,1149.52 900.992,1155.81 892.758,1161.73 883.44,1167.29 873.165,1172.56 862.063,1177.55 \n",
       "  850.259,1182.33 837.881,1186.92 825.057,1191.37 811.914,1195.72 798.58,1200.01 785.182,1204.28 771.848,1208.57 758.705,1212.92 745.881,1217.37 733.503,1221.96 \n",
       "  721.699,1226.74 710.596,1231.74 700.322,1237 691.004,1242.57 682.77,1248.48 675.747,1254.78 670.063,1261.5 665.845,1268.69 663.22,1276.39 662.317,1284.64 \n",
       "  \n",
       "  \"/>\n",
       "<polyline clip-path=\"url(#clip882)\" style=\"stroke:#000000; stroke-linecap:butt; stroke-linejoin:round; stroke-width:4; stroke-opacity:1; fill:none\" points=\"\n",
       "  1190.42,819.907 1191.43,831.341 1194.37,842.127 1199.1,852.314 1205.47,861.95 1213.34,871.082 1222.57,879.759 1233.02,888.028 1244.54,895.938 1256.98,903.536 \n",
       "  1270.22,910.871 1284.09,917.99 1298.47,924.941 1313.2,931.772 1328.15,938.531 1343.17,945.266 1358.12,952.026 1372.85,958.857 1387.23,965.808 1401.1,972.927 \n",
       "  1414.33,980.261 1426.78,987.859 1438.3,995.769 1448.74,1004.04 1457.98,1012.72 1465.85,1021.85 1472.22,1031.48 1476.95,1041.67 1479.89,1052.46 1480.9,1063.89 \n",
       "  \n",
       "  \"/>\n",
       "<polyline clip-path=\"url(#clip882)\" style=\"stroke:#000000; stroke-linecap:butt; stroke-linejoin:round; stroke-width:4; stroke-opacity:1; fill:none\" points=\"\n",
       "  1480.9,1063.89 1480.98,1070.92 1481.18,1078.09 1481.52,1085.4 1481.97,1092.83 1482.53,1100.36 1483.19,1108 1483.93,1115.73 1484.75,1123.54 1485.64,1131.41 \n",
       "  1486.58,1139.34 1487.56,1147.33 1488.59,1155.34 1489.63,1163.39 1490.7,1171.45 1491.76,1179.51 1492.83,1187.57 1493.87,1195.62 1494.9,1203.64 1495.88,1211.62 \n",
       "  1496.82,1219.55 1497.71,1227.43 1498.53,1235.23 1499.27,1242.96 1499.93,1250.6 1500.49,1258.14 1500.94,1265.56 1501.28,1272.87 1501.49,1280.04 1501.56,1287.07 \n",
       "  \n",
       "  \"/>\n",
       "<polyline clip-path=\"url(#clip882)\" style=\"stroke:#000000; stroke-linecap:butt; stroke-linejoin:round; stroke-width:4; stroke-opacity:1; fill:none\" points=\"\n",
       "  1480.9,1063.89 1481.32,1072.66 1482.52,1081.45 1484.45,1090.24 1487.05,1099.05 1490.27,1107.87 1494.04,1116.7 1498.31,1125.54 1503.02,1134.38 1508.1,1143.24 \n",
       "  1513.51,1152.09 1519.18,1160.96 1525.05,1169.82 1531.07,1178.69 1537.18,1187.56 1543.31,1196.43 1549.42,1205.3 1555.44,1214.17 1561.31,1223.04 1566.98,1231.9 \n",
       "  1572.39,1240.76 1577.47,1249.61 1582.18,1258.46 1586.45,1267.3 1590.22,1276.13 1593.44,1284.95 1596.04,1293.75 1597.97,1302.55 1599.17,1311.34 1599.59,1320.11 \n",
       "  \n",
       "  \"/>\n",
       "<polyline clip-path=\"url(#clip882)\" style=\"stroke:#000000; stroke-linecap:butt; stroke-linejoin:round; stroke-width:4; stroke-opacity:1; fill:none\" points=\"\n",
       "  1480.9,1063.89 1481.8,1073.1 1484.4,1081.7 1488.58,1089.73 1494.21,1097.25 1501.17,1104.28 1509.33,1110.89 1518.56,1117.1 1528.74,1122.98 1539.75,1128.57 \n",
       "  1551.44,1133.9 1563.71,1139.03 1576.42,1144.01 1589.44,1148.87 1602.65,1153.66 1615.93,1158.42 1629.14,1163.22 1642.17,1168.07 1654.88,1173.05 1667.14,1178.18 \n",
       "  1678.84,1183.51 1689.84,1189.1 1700.02,1194.98 1709.26,1201.2 1717.42,1207.8 1724.37,1214.84 1730.01,1222.35 1734.19,1230.38 1736.79,1238.98 1737.68,1248.19 \n",
       "  \n",
       "  \"/>\n",
       "<polyline clip-path=\"url(#clip882)\" style=\"stroke:#000000; stroke-linecap:butt; stroke-linejoin:round; stroke-width:4; stroke-opacity:1; fill:none\" points=\"\n",
       "  1480.9,1063.89 1481.54,1071.22 1483.39,1078.15 1486.36,1084.72 1490.37,1090.96 1495.32,1096.9 1501.13,1102.57 1507.7,1107.98 1514.94,1113.19 1522.77,1118.2 \n",
       "  1531.09,1123.05 1539.82,1127.78 1548.86,1132.4 1558.13,1136.95 1567.53,1141.46 1576.98,1145.95 1586.38,1150.46 1595.64,1155.01 1604.69,1159.64 1613.41,1164.36 \n",
       "  1621.74,1169.21 1629.56,1174.23 1636.81,1179.43 1643.38,1184.85 1649.18,1190.51 1654.14,1196.45 1658.14,1202.69 1661.12,1209.26 1662.97,1216.2 1663.6,1223.52 \n",
       "  \n",
       "  \"/>\n",
       "<polyline clip-path=\"url(#clip882)\" style=\"stroke:#000000; stroke-linecap:butt; stroke-linejoin:round; stroke-width:4; stroke-opacity:1; fill:none\" points=\"\n",
       "  1480.9,1063.89 1480.6,1071.97 1479.71,1080.13 1478.28,1088.35 1476.35,1096.63 1473.98,1104.97 1471.19,1113.35 1468.03,1121.78 1464.55,1130.25 1460.79,1138.75 \n",
       "  1456.79,1147.28 1452.6,1155.84 1448.25,1164.41 1443.8,1173 1439.28,1181.59 1434.75,1190.19 1430.23,1198.78 1425.78,1207.37 1421.43,1215.94 1417.24,1224.5 \n",
       "  1413.24,1233.03 1409.48,1241.53 1406,1250 1402.85,1258.43 1400.06,1266.81 1397.68,1275.15 1395.75,1283.43 1394.32,1291.65 1393.43,1299.8 1393.13,1307.89 \n",
       "  \n",
       "  \"/>\n",
       "<path clip-path=\"url(#clip882)\" d=\"\n",
       "M1301.08 262.317 L1291.75 246.169 L1273.11 246.169 L1263.78 262.317 L1273.11 278.465 L1291.75 278.465 L1301.08 262.317 L1301.08 262.317  Z\n",
       "  \" fill=\"#009af9\" fill-rule=\"evenodd\" fill-opacity=\"1\"/>\n",
       "<polyline clip-path=\"url(#clip882)\" style=\"stroke:#000000; stroke-linecap:butt; stroke-linejoin:round; stroke-width:4; stroke-opacity:1; fill:none\" points=\"\n",
       "  1301.08,262.317 1291.75,246.169 1273.11,246.169 1263.78,262.317 1273.11,278.465 1291.75,278.465 1301.08,262.317 \n",
       "  \"/>\n",
       "<path clip-path=\"url(#clip882)\" d=\"\n",
       "M1190.31 423.708 L1174.08 395.593 L1141.61 395.593 L1125.38 423.708 L1141.61 451.823 L1174.08 451.823 L1190.31 423.708 L1190.31 423.708  Z\n",
       "  \" fill=\"#009af9\" fill-rule=\"evenodd\" fill-opacity=\"1\"/>\n",
       "<polyline clip-path=\"url(#clip882)\" style=\"stroke:#000000; stroke-linecap:butt; stroke-linejoin:round; stroke-width:4; stroke-opacity:1; fill:none\" points=\"\n",
       "  1190.31,423.708 1174.08,395.593 1141.61,395.593 1125.38,423.708 1141.61,451.823 1174.08,451.823 1190.31,423.708 \n",
       "  \"/>\n",
       "<path clip-path=\"url(#clip882)\" d=\"\n",
       "M1200.32 632.871 L1188.58 612.545 L1165.11 612.545 L1153.38 632.871 L1165.11 653.198 L1188.58 653.198 L1200.32 632.871 L1200.32 632.871  Z\n",
       "  \" fill=\"#009af9\" fill-rule=\"evenodd\" fill-opacity=\"1\"/>\n",
       "<polyline clip-path=\"url(#clip882)\" style=\"stroke:#000000; stroke-linecap:butt; stroke-linejoin:round; stroke-width:4; stroke-opacity:1; fill:none\" points=\"\n",
       "  1200.32,632.871 1188.58,612.545 1165.11,612.545 1153.38,632.871 1165.11,653.198 1188.58,653.198 1200.32,632.871 \n",
       "  \"/>\n",
       "<path clip-path=\"url(#clip882)\" d=\"\n",
       "M1227.14 819.907 L1208.78 788.102 L1172.05 788.102 L1153.69 819.907 L1172.05 851.712 L1208.78 851.712 L1227.14 819.907 L1227.14 819.907  Z\n",
       "  \" fill=\"#009af9\" fill-rule=\"evenodd\" fill-opacity=\"1\"/>\n",
       "<polyline clip-path=\"url(#clip882)\" style=\"stroke:#000000; stroke-linecap:butt; stroke-linejoin:round; stroke-width:4; stroke-opacity:1; fill:none\" points=\"\n",
       "  1227.14,819.907 1208.78,788.102 1172.05,788.102 1153.69,819.907 1172.05,851.712 1208.78,851.712 1227.14,819.907 \n",
       "  \"/>\n",
       "<path clip-path=\"url(#clip882)\" d=\"\n",
       "M1326.81 1012.05 L1315.08 991.727 L1291.6 991.727 L1279.87 1012.05 L1291.6 1032.38 L1315.08 1032.38 L1326.81 1012.05 L1326.81 1012.05  Z\n",
       "  \" fill=\"#009af9\" fill-rule=\"evenodd\" fill-opacity=\"1\"/>\n",
       "<polyline clip-path=\"url(#clip882)\" style=\"stroke:#000000; stroke-linecap:butt; stroke-linejoin:round; stroke-width:4; stroke-opacity:1; fill:none\" points=\"\n",
       "  1326.81,1012.05 1315.08,991.727 1291.6,991.727 1279.87,1012.05 1291.6,1032.38 1315.08,1032.38 1326.81,1012.05 \n",
       "  \"/>\n",
       "<path clip-path=\"url(#clip882)\" d=\"\n",
       "M1283.37 1123.78 L1253.24 1071.59 L1192.97 1071.59 L1162.84 1123.78 L1192.97 1175.96 L1253.24 1175.96 L1283.37 1123.78 L1283.37 1123.78  Z\n",
       "  \" fill=\"#009af9\" fill-rule=\"evenodd\" fill-opacity=\"1\"/>\n",
       "<polyline clip-path=\"url(#clip882)\" style=\"stroke:#000000; stroke-linecap:butt; stroke-linejoin:round; stroke-width:4; stroke-opacity:1; fill:none\" points=\"\n",
       "  1283.37,1123.78 1253.24,1071.59 1192.97,1071.59 1162.84,1123.78 1192.97,1175.96 1253.24,1175.96 1283.37,1123.78 \n",
       "  \"/>\n",
       "<path clip-path=\"url(#clip882)\" d=\"\n",
       "M1160.68 1038.43 L1130.55 986.245 L1070.28 986.245 L1040.15 1038.43 L1070.28 1090.62 L1130.55 1090.62 L1160.68 1038.43 L1160.68 1038.43  Z\n",
       "  \" fill=\"#009af9\" fill-rule=\"evenodd\" fill-opacity=\"1\"/>\n",
       "<polyline clip-path=\"url(#clip882)\" style=\"stroke:#000000; stroke-linecap:butt; stroke-linejoin:round; stroke-width:4; stroke-opacity:1; fill:none\" points=\"\n",
       "  1160.68,1038.43 1130.55,986.245 1070.28,986.245 1040.15,1038.43 1070.28,1090.62 1130.55,1090.62 1160.68,1038.43 \n",
       "  \"/>\n",
       "<path clip-path=\"url(#clip882)\" d=\"\n",
       "M953.909 1119.66 L937.677 1091.54 L905.212 1091.54 L888.98 1119.66 L905.212 1147.77 L937.677 1147.77 L953.909 1119.66 L953.909 1119.66  Z\n",
       "  \" fill=\"#009af9\" fill-rule=\"evenodd\" fill-opacity=\"1\"/>\n",
       "<polyline clip-path=\"url(#clip882)\" style=\"stroke:#000000; stroke-linecap:butt; stroke-linejoin:round; stroke-width:4; stroke-opacity:1; fill:none\" points=\"\n",
       "  953.909,1119.66 937.677,1091.54 905.212,1091.54 888.98,1119.66 905.212,1147.77 937.677,1147.77 953.909,1119.66 \n",
       "  \"/>\n",
       "<path clip-path=\"url(#clip882)\" d=\"\n",
       "M1021.86 1337.68 L1005.63 1309.57 L973.168 1309.57 L956.935 1337.68 L973.168 1365.8 L1005.63 1365.8 L1021.86 1337.68 L1021.86 1337.68  Z\n",
       "  \" fill=\"#009af9\" fill-rule=\"evenodd\" fill-opacity=\"1\"/>\n",
       "<polyline clip-path=\"url(#clip882)\" style=\"stroke:#000000; stroke-linecap:butt; stroke-linejoin:round; stroke-width:4; stroke-opacity:1; fill:none\" points=\"\n",
       "  1021.86,1337.68 1005.63,1309.57 973.168,1309.57 956.935,1337.68 973.168,1365.8 1005.63,1365.8 1021.86,1337.68 \n",
       "  \"/>\n",
       "<path clip-path=\"url(#clip882)\" d=\"\n",
       "M1074.39 1248.69 L1058.15 1220.58 L1025.69 1220.58 L1009.46 1248.69 L1025.69 1276.81 L1058.15 1276.81 L1074.39 1248.69 L1074.39 1248.69  Z\n",
       "  \" fill=\"#009af9\" fill-rule=\"evenodd\" fill-opacity=\"1\"/>\n",
       "<polyline clip-path=\"url(#clip882)\" style=\"stroke:#000000; stroke-linecap:butt; stroke-linejoin:round; stroke-width:4; stroke-opacity:1; fill:none\" points=\"\n",
       "  1074.39,1248.69 1058.15,1220.58 1025.69,1220.58 1009.46,1248.69 1025.69,1276.81 1058.15,1276.81 1074.39,1248.69 \n",
       "  \"/>\n",
       "<path clip-path=\"url(#clip882)\" d=\"\n",
       "M888.435 1330.29 L874.405 1306 L846.347 1306 L832.318 1330.29 L846.347 1354.59 L874.405 1354.59 L888.435 1330.29 L888.435 1330.29  Z\n",
       "  \" fill=\"#009af9\" fill-rule=\"evenodd\" fill-opacity=\"1\"/>\n",
       "<polyline clip-path=\"url(#clip882)\" style=\"stroke:#000000; stroke-linecap:butt; stroke-linejoin:round; stroke-width:4; stroke-opacity:1; fill:none\" points=\"\n",
       "  888.435,1330.29 874.405,1306 846.347,1306 832.318,1330.29 846.347,1354.59 874.405,1354.59 888.435,1330.29 \n",
       "  \"/>\n",
       "<path clip-path=\"url(#clip882)\" d=\"\n",
       "M808.615 1254.29 L794.586 1229.99 L766.527 1229.99 L752.498 1254.29 L766.527 1278.59 L794.586 1278.59 L808.615 1254.29 L808.615 1254.29  Z\n",
       "  \" fill=\"#009af9\" fill-rule=\"evenodd\" fill-opacity=\"1\"/>\n",
       "<polyline clip-path=\"url(#clip882)\" style=\"stroke:#000000; stroke-linecap:butt; stroke-linejoin:round; stroke-width:4; stroke-opacity:1; fill:none\" points=\"\n",
       "  808.615,1254.29 794.586,1229.99 766.527,1229.99 752.498,1254.29 766.527,1278.59 794.586,1278.59 808.615,1254.29 \n",
       "  \"/>\n",
       "<path clip-path=\"url(#clip882)\" d=\"\n",
       "M721.81 1238.79 L707.781 1214.49 L679.722 1214.49 L665.693 1238.79 L679.722 1263.09 L707.781 1263.09 L721.81 1238.79 L721.81 1238.79  Z\n",
       "  \" fill=\"#009af9\" fill-rule=\"evenodd\" fill-opacity=\"1\"/>\n",
       "<polyline clip-path=\"url(#clip882)\" style=\"stroke:#000000; stroke-linecap:butt; stroke-linejoin:round; stroke-width:4; stroke-opacity:1; fill:none\" points=\"\n",
       "  721.81,1238.79 707.781,1214.49 679.722,1214.49 665.693,1238.79 679.722,1263.09 707.781,1263.09 721.81,1238.79 \n",
       "  \"/>\n",
       "<path clip-path=\"url(#clip882)\" d=\"\n",
       "M685.788 1284.64 L674.053 1264.31 L650.582 1264.31 L638.846 1284.64 L650.582 1304.96 L674.053 1304.96 L685.788 1284.64 L685.788 1284.64  Z\n",
       "  \" fill=\"#009af9\" fill-rule=\"evenodd\" fill-opacity=\"1\"/>\n",
       "<polyline clip-path=\"url(#clip882)\" style=\"stroke:#000000; stroke-linecap:butt; stroke-linejoin:round; stroke-width:4; stroke-opacity:1; fill:none\" points=\"\n",
       "  685.788,1284.64 674.053,1264.31 650.582,1264.31 638.846,1284.64 650.582,1304.96 674.053,1304.96 685.788,1284.64 \n",
       "  \"/>\n",
       "<path clip-path=\"url(#clip882)\" d=\"\n",
       "M1521.77 1063.89 L1501.34 1028.5 L1460.47 1028.5 L1440.04 1063.89 L1460.47 1099.28 L1501.34 1099.28 L1521.77 1063.89 L1521.77 1063.89  Z\n",
       "  \" fill=\"#009af9\" fill-rule=\"evenodd\" fill-opacity=\"1\"/>\n",
       "<polyline clip-path=\"url(#clip882)\" style=\"stroke:#000000; stroke-linecap:butt; stroke-linejoin:round; stroke-width:4; stroke-opacity:1; fill:none\" points=\"\n",
       "  1521.77,1063.89 1501.34,1028.5 1460.47,1028.5 1440.04,1063.89 1460.47,1099.28 1501.34,1099.28 1521.77,1063.89 \n",
       "  \"/>\n",
       "<path clip-path=\"url(#clip882)\" d=\"\n",
       "M1538.28 1287.07 L1519.92 1255.27 L1483.2 1255.27 L1464.83 1287.07 L1483.2 1318.88 L1519.92 1318.88 L1538.28 1287.07 L1538.28 1287.07  Z\n",
       "  \" fill=\"#009af9\" fill-rule=\"evenodd\" fill-opacity=\"1\"/>\n",
       "<polyline clip-path=\"url(#clip882)\" style=\"stroke:#000000; stroke-linecap:butt; stroke-linejoin:round; stroke-width:4; stroke-opacity:1; fill:none\" points=\"\n",
       "  1538.28,1287.07 1519.92,1255.27 1483.2,1255.27 1464.83,1287.07 1483.2,1318.88 1519.92,1318.88 1538.28,1287.07 \n",
       "  \"/>\n",
       "<path clip-path=\"url(#clip882)\" d=\"\n",
       "M1632.05 1320.11 L1615.82 1291.99 L1583.35 1291.99 L1567.12 1320.11 L1583.35 1348.22 L1615.82 1348.22 L1632.05 1320.11 L1632.05 1320.11  Z\n",
       "  \" fill=\"#009af9\" fill-rule=\"evenodd\" fill-opacity=\"1\"/>\n",
       "<polyline clip-path=\"url(#clip882)\" style=\"stroke:#000000; stroke-linecap:butt; stroke-linejoin:round; stroke-width:4; stroke-opacity:1; fill:none\" points=\"\n",
       "  1632.05,1320.11 1615.82,1291.99 1583.35,1291.99 1567.12,1320.11 1583.35,1348.22 1615.82,1348.22 1632.05,1320.11 \n",
       "  \"/>\n",
       "<path clip-path=\"url(#clip882)\" d=\"\n",
       "M1770.15 1248.19 L1753.92 1220.08 L1721.45 1220.08 L1705.22 1248.19 L1721.45 1276.31 L1753.92 1276.31 L1770.15 1248.19 L1770.15 1248.19  Z\n",
       "  \" fill=\"#009af9\" fill-rule=\"evenodd\" fill-opacity=\"1\"/>\n",
       "<polyline clip-path=\"url(#clip882)\" style=\"stroke:#000000; stroke-linecap:butt; stroke-linejoin:round; stroke-width:4; stroke-opacity:1; fill:none\" points=\"\n",
       "  1770.15,1248.19 1753.92,1220.08 1721.45,1220.08 1705.22,1248.19 1721.45,1276.31 1753.92,1276.31 1770.15,1248.19 \n",
       "  \"/>\n",
       "<path clip-path=\"url(#clip882)\" d=\"\n",
       "M1696.07 1223.52 L1679.84 1195.41 L1647.37 1195.41 L1631.14 1223.52 L1647.37 1251.64 L1679.84 1251.64 L1696.07 1223.52 L1696.07 1223.52  Z\n",
       "  \" fill=\"#009af9\" fill-rule=\"evenodd\" fill-opacity=\"1\"/>\n",
       "<polyline clip-path=\"url(#clip882)\" style=\"stroke:#000000; stroke-linecap:butt; stroke-linejoin:round; stroke-width:4; stroke-opacity:1; fill:none\" points=\"\n",
       "  1696.07,1223.52 1679.84,1195.41 1647.37,1195.41 1631.14,1223.52 1647.37,1251.64 1679.84,1251.64 1696.07,1223.52 \n",
       "  \"/>\n",
       "<path clip-path=\"url(#clip882)\" d=\"\n",
       "M1421.19 1307.89 L1407.16 1283.59 L1379.1 1283.59 L1365.07 1307.89 L1379.1 1332.19 L1407.16 1332.19 L1421.19 1307.89 L1421.19 1307.89  Z\n",
       "  \" fill=\"#009af9\" fill-rule=\"evenodd\" fill-opacity=\"1\"/>\n",
       "<polyline clip-path=\"url(#clip882)\" style=\"stroke:#000000; stroke-linecap:butt; stroke-linejoin:round; stroke-width:4; stroke-opacity:1; fill:none\" points=\"\n",
       "  1421.19,1307.89 1407.16,1283.59 1379.1,1283.59 1365.07,1307.89 1379.1,1332.19 1407.16,1332.19 1421.19,1307.89 \n",
       "  \"/>\n",
       "<circle clip-path=\"url(#clip882)\" style=\"fill:#009af9; stroke:none; fill-opacity:1\" cx=\"1282.43\" cy=\"262.317\" r=\"2\"/>\n",
       "<circle clip-path=\"url(#clip882)\" style=\"fill:#009af9; stroke:none; fill-opacity:1\" cx=\"1157.84\" cy=\"423.708\" r=\"2\"/>\n",
       "<circle clip-path=\"url(#clip882)\" style=\"fill:#009af9; stroke:none; fill-opacity:1\" cx=\"1176.85\" cy=\"632.871\" r=\"2\"/>\n",
       "<circle clip-path=\"url(#clip882)\" style=\"fill:#009af9; stroke:none; fill-opacity:1\" cx=\"1190.42\" cy=\"819.907\" r=\"2\"/>\n",
       "<circle clip-path=\"url(#clip882)\" style=\"fill:#009af9; stroke:none; fill-opacity:1\" cx=\"1303.34\" cy=\"1012.05\" r=\"2\"/>\n",
       "<circle clip-path=\"url(#clip882)\" style=\"fill:#009af9; stroke:none; fill-opacity:1\" cx=\"1223.1\" cy=\"1123.78\" r=\"2\"/>\n",
       "<circle clip-path=\"url(#clip882)\" style=\"fill:#009af9; stroke:none; fill-opacity:1\" cx=\"1100.41\" cy=\"1038.43\" r=\"2\"/>\n",
       "<circle clip-path=\"url(#clip882)\" style=\"fill:#009af9; stroke:none; fill-opacity:1\" cx=\"921.444\" cy=\"1119.66\" r=\"2\"/>\n",
       "<circle clip-path=\"url(#clip882)\" style=\"fill:#009af9; stroke:none; fill-opacity:1\" cx=\"989.4\" cy=\"1337.68\" r=\"2\"/>\n",
       "<circle clip-path=\"url(#clip882)\" style=\"fill:#009af9; stroke:none; fill-opacity:1\" cx=\"1041.92\" cy=\"1248.69\" r=\"2\"/>\n",
       "<circle clip-path=\"url(#clip882)\" style=\"fill:#009af9; stroke:none; fill-opacity:1\" cx=\"860.376\" cy=\"1330.29\" r=\"2\"/>\n",
       "<circle clip-path=\"url(#clip882)\" style=\"fill:#009af9; stroke:none; fill-opacity:1\" cx=\"780.557\" cy=\"1254.29\" r=\"2\"/>\n",
       "<circle clip-path=\"url(#clip882)\" style=\"fill:#009af9; stroke:none; fill-opacity:1\" cx=\"693.752\" cy=\"1238.79\" r=\"2\"/>\n",
       "<circle clip-path=\"url(#clip882)\" style=\"fill:#009af9; stroke:none; fill-opacity:1\" cx=\"662.317\" cy=\"1284.64\" r=\"2\"/>\n",
       "<circle clip-path=\"url(#clip882)\" style=\"fill:#009af9; stroke:none; fill-opacity:1\" cx=\"1480.9\" cy=\"1063.89\" r=\"2\"/>\n",
       "<circle clip-path=\"url(#clip882)\" style=\"fill:#009af9; stroke:none; fill-opacity:1\" cx=\"1501.56\" cy=\"1287.07\" r=\"2\"/>\n",
       "<circle clip-path=\"url(#clip882)\" style=\"fill:#009af9; stroke:none; fill-opacity:1\" cx=\"1599.59\" cy=\"1320.11\" r=\"2\"/>\n",
       "<circle clip-path=\"url(#clip882)\" style=\"fill:#009af9; stroke:none; fill-opacity:1\" cx=\"1737.68\" cy=\"1248.19\" r=\"2\"/>\n",
       "<circle clip-path=\"url(#clip882)\" style=\"fill:#009af9; stroke:none; fill-opacity:1\" cx=\"1663.6\" cy=\"1223.52\" r=\"2\"/>\n",
       "<circle clip-path=\"url(#clip882)\" style=\"fill:#009af9; stroke:none; fill-opacity:1\" cx=\"1393.13\" cy=\"1307.89\" r=\"2\"/>\n",
       "<path clip-path=\"url(#clip880)\" d=\"M1268.16 255.98 L1264.99 264.58 L1271.34 264.58 L1268.16 255.98 M1266.84 253.677 L1269.49 253.677 L1276.08 270.957 L1273.64 270.957 L1272.07 266.524 L1264.28 266.524 L1262.71 270.957 L1260.24 270.957 L1266.84 253.677 Z\" fill=\"#000000\" fill-rule=\"evenodd\" fill-opacity=\"1\" /><path clip-path=\"url(#clip880)\" d=\"M1289.28 263.133 L1289.28 270.957 L1287.15 270.957 L1287.15 263.203 Q1287.15 261.362 1286.43 260.448 Q1285.72 259.534 1284.28 259.534 Q1282.56 259.534 1281.56 260.633 Q1280.57 261.733 1280.57 263.631 L1280.57 270.957 L1278.42 270.957 L1278.42 257.994 L1280.57 257.994 L1280.57 260.008 Q1281.33 258.839 1282.36 258.261 Q1283.4 257.682 1284.76 257.682 Q1286.99 257.682 1288.14 259.071 Q1289.28 260.448 1289.28 263.133 Z\" fill=\"#000000\" fill-rule=\"evenodd\" fill-opacity=\"1\" /><path clip-path=\"url(#clip880)\" d=\"M1298.92 272.161 Q1298.02 274.476 1297.16 275.182 Q1296.31 275.888 1294.87 275.888 L1293.17 275.888 L1293.17 274.105 L1294.42 274.105 Q1295.3 274.105 1295.79 273.689 Q1296.27 273.272 1296.86 271.721 L1297.24 270.749 L1292 257.994 L1294.26 257.994 L1298.31 268.133 L1302.36 257.994 L1304.62 257.994 L1298.92 272.161 Z\" fill=\"#000000\" fill-rule=\"evenodd\" fill-opacity=\"1\" /><path clip-path=\"url(#clip880)\" d=\"M1111.4 415.068 L1114.54 415.068 L1122.21 429.524 L1122.21 415.068 L1124.47 415.068 L1124.47 432.348 L1121.33 432.348 L1113.66 417.892 L1113.66 432.348 L1111.4 432.348 L1111.4 415.068 Z\" fill=\"#000000\" fill-rule=\"evenodd\" fill-opacity=\"1\" /><path clip-path=\"url(#clip880)\" d=\"M1128.82 427.232 L1128.82 419.385 L1130.94 419.385 L1130.94 427.151 Q1130.94 428.991 1131.66 429.917 Q1132.38 430.832 1133.82 430.832 Q1135.54 430.832 1136.54 429.732 Q1137.54 428.633 1137.54 426.735 L1137.54 419.385 L1139.67 419.385 L1139.67 432.348 L1137.54 432.348 L1137.54 430.357 Q1136.77 431.538 1135.74 432.116 Q1134.72 432.684 1133.36 432.684 Q1131.13 432.684 1129.97 431.295 Q1128.82 429.906 1128.82 427.232 M1134.17 419.073 L1134.17 419.073 Z\" fill=\"#000000\" fill-rule=\"evenodd\" fill-opacity=\"1\" /><path clip-path=\"url(#clip880)\" d=\"M1154.15 421.873 Q1154.95 420.438 1156.06 419.755 Q1157.17 419.073 1158.68 419.073 Q1160.7 419.073 1161.8 420.496 Q1162.9 421.908 1162.9 424.524 L1162.9 432.348 L1160.76 432.348 L1160.76 424.593 Q1160.76 422.73 1160.1 421.827 Q1159.44 420.924 1158.09 420.924 Q1156.43 420.924 1155.47 422.024 Q1154.51 423.123 1154.51 425.022 L1154.51 432.348 L1152.37 432.348 L1152.37 424.593 Q1152.37 422.718 1151.71 421.827 Q1151.05 420.924 1149.67 420.924 Q1148.04 420.924 1147.08 422.035 Q1146.12 423.135 1146.12 425.022 L1146.12 432.348 L1143.98 432.348 L1143.98 419.385 L1146.12 419.385 L1146.12 421.399 Q1146.85 420.207 1147.87 419.64 Q1148.88 419.073 1150.28 419.073 Q1151.7 419.073 1152.68 419.79 Q1153.68 420.508 1154.15 421.873 Z\" fill=\"#000000\" fill-rule=\"evenodd\" fill-opacity=\"1\" /><path clip-path=\"url(#clip880)\" d=\"M1176.45 425.878 Q1176.45 423.529 1175.48 422.198 Q1174.52 420.855 1172.83 420.855 Q1171.14 420.855 1170.17 422.198 Q1169.21 423.529 1169.21 425.878 Q1169.21 428.228 1170.17 429.57 Q1171.14 430.901 1172.83 430.901 Q1174.52 430.901 1175.48 429.57 Q1176.45 428.228 1176.45 425.878 M1169.21 421.353 Q1169.88 420.195 1170.9 419.64 Q1171.93 419.073 1173.35 419.073 Q1175.71 419.073 1177.18 420.948 Q1178.66 422.823 1178.66 425.878 Q1178.66 428.934 1177.18 430.809 Q1175.71 432.684 1173.35 432.684 Q1171.93 432.684 1170.9 432.128 Q1169.88 431.561 1169.21 430.403 L1169.21 432.348 L1167.07 432.348 L1167.07 414.339 L1169.21 414.339 L1169.21 421.353 Z\" fill=\"#000000\" fill-rule=\"evenodd\" fill-opacity=\"1\" /><path clip-path=\"url(#clip880)\" d=\"M1193.28 425.334 L1193.28 426.376 L1183.49 426.376 Q1183.63 428.575 1184.81 429.732 Q1186 430.878 1188.12 430.878 Q1189.35 430.878 1190.49 430.577 Q1191.65 430.276 1192.78 429.674 L1192.78 431.688 Q1191.64 432.174 1190.44 432.429 Q1189.23 432.684 1187.99 432.684 Q1184.89 432.684 1183.07 430.878 Q1181.27 429.072 1181.27 425.994 Q1181.27 422.811 1182.98 420.948 Q1184.71 419.073 1187.62 419.073 Q1190.24 419.073 1191.75 420.762 Q1193.28 422.441 1193.28 425.334 M1191.15 424.709 Q1191.13 422.961 1190.17 421.92 Q1189.22 420.878 1187.65 420.878 Q1185.86 420.878 1184.79 421.885 Q1183.72 422.892 1183.56 424.721 L1191.15 424.709 Z\" fill=\"#000000\" fill-rule=\"evenodd\" fill-opacity=\"1\" /><path clip-path=\"url(#clip880)\" d=\"M1204.29 421.376 Q1203.93 421.167 1203.5 421.075 Q1203.09 420.971 1202.58 420.971 Q1200.77 420.971 1199.8 422.151 Q1198.84 423.32 1198.84 425.519 L1198.84 432.348 L1196.7 432.348 L1196.7 419.385 L1198.84 419.385 L1198.84 421.399 Q1199.51 420.218 1200.59 419.651 Q1201.66 419.073 1203.2 419.073 Q1203.42 419.073 1203.69 419.107 Q1203.95 419.13 1204.28 419.188 L1204.29 421.376 Z\" fill=\"#000000\" fill-rule=\"evenodd\" fill-opacity=\"1\" /><path clip-path=\"url(#clip880)\" d=\"M1161.77 633.41 Q1162.52 633.664 1163.22 634.498 Q1163.94 635.331 1164.66 636.789 L1167.03 641.511 L1164.52 641.511 L1162.31 637.079 Q1161.45 635.342 1160.64 634.775 Q1159.84 634.208 1158.46 634.208 L1155.91 634.208 L1155.91 641.511 L1153.57 641.511 L1153.57 624.231 L1158.85 624.231 Q1161.81 624.231 1163.27 625.47 Q1164.73 626.708 1164.73 629.208 Q1164.73 630.84 1163.96 631.917 Q1163.21 632.993 1161.77 633.41 M1155.91 626.153 L1155.91 632.287 L1158.85 632.287 Q1160.54 632.287 1161.4 631.511 Q1162.26 630.724 1162.26 629.208 Q1162.26 627.692 1161.4 626.928 Q1160.54 626.153 1158.85 626.153 L1155.91 626.153 Z\" fill=\"#000000\" fill-rule=\"evenodd\" fill-opacity=\"1\" /><path clip-path=\"url(#clip880)\" d=\"M1179.97 634.498 L1179.97 635.539 L1170.18 635.539 Q1170.32 637.738 1171.5 638.896 Q1172.69 640.042 1174.81 640.042 Q1176.04 640.042 1177.18 639.741 Q1178.34 639.44 1179.47 638.838 L1179.47 640.852 Q1178.33 641.338 1177.12 641.592 Q1175.92 641.847 1174.68 641.847 Q1171.58 641.847 1169.76 640.042 Q1167.96 638.236 1167.96 635.157 Q1167.96 631.974 1169.67 630.111 Q1171.4 628.236 1174.31 628.236 Q1176.93 628.236 1178.44 629.926 Q1179.97 631.604 1179.97 634.498 M1177.84 633.873 Q1177.82 632.125 1176.86 631.083 Q1175.91 630.042 1174.34 630.042 Q1172.55 630.042 1171.48 631.049 Q1170.41 632.055 1170.25 633.884 L1177.84 633.873 Z\" fill=\"#000000\" fill-rule=\"evenodd\" fill-opacity=\"1\" /><path clip-path=\"url(#clip880)\" d=\"M1189.36 634.995 Q1186.78 634.995 1185.78 635.586 Q1184.79 636.176 1184.79 637.599 Q1184.79 638.734 1185.53 639.405 Q1186.28 640.065 1187.56 640.065 Q1189.34 640.065 1190.4 638.815 Q1191.48 637.553 1191.48 635.47 L1191.48 634.995 L1189.36 634.995 M1193.61 634.116 L1193.61 641.511 L1191.48 641.511 L1191.48 639.544 Q1190.75 640.724 1189.66 641.292 Q1188.57 641.847 1187 641.847 Q1185.01 641.847 1183.83 640.736 Q1182.66 639.613 1182.66 637.738 Q1182.66 635.551 1184.12 634.44 Q1185.59 633.329 1188.49 633.329 L1191.48 633.329 L1191.48 633.12 Q1191.48 631.65 1190.5 630.852 Q1189.54 630.042 1187.8 630.042 Q1186.68 630.042 1185.63 630.308 Q1184.58 630.574 1183.61 631.106 L1183.61 629.139 Q1184.78 628.687 1185.87 628.468 Q1186.97 628.236 1188.02 628.236 Q1190.83 628.236 1192.22 629.694 Q1193.61 631.153 1193.61 634.116 Z\" fill=\"#000000\" fill-rule=\"evenodd\" fill-opacity=\"1\" /><path clip-path=\"url(#clip880)\" d=\"M1197.99 623.502 L1200.12 623.502 L1200.12 641.511 L1197.99 641.511 L1197.99 623.502 Z\" fill=\"#000000\" fill-rule=\"evenodd\" fill-opacity=\"1\" /><path clip-path=\"url(#clip880)\" d=\"M1148.95 811.267 L1151.28 811.267 L1151.28 828.547 L1148.95 828.547 L1148.95 811.267 Z\" fill=\"#000000\" fill-rule=\"evenodd\" fill-opacity=\"1\" /><path clip-path=\"url(#clip880)\" d=\"M1166.62 820.723 L1166.62 828.547 L1164.49 828.547 L1164.49 820.793 Q1164.49 818.952 1163.77 818.038 Q1163.05 817.124 1161.62 817.124 Q1159.89 817.124 1158.9 818.223 Q1157.9 819.323 1157.9 821.221 L1157.9 828.547 L1155.76 828.547 L1155.76 815.584 L1157.9 815.584 L1157.9 817.598 Q1158.67 816.429 1159.7 815.851 Q1160.74 815.272 1162.09 815.272 Q1164.33 815.272 1165.47 816.661 Q1166.62 818.038 1166.62 820.723 Z\" fill=\"#000000\" fill-rule=\"evenodd\" fill-opacity=\"1\" /><path clip-path=\"url(#clip880)\" d=\"M1172.97 811.904 L1172.97 815.584 L1177.36 815.584 L1177.36 817.239 L1172.97 817.239 L1172.97 824.276 Q1172.97 825.862 1173.4 826.313 Q1173.84 826.765 1175.17 826.765 L1177.36 826.765 L1177.36 828.547 L1175.17 828.547 Q1172.71 828.547 1171.77 827.633 Q1170.83 826.707 1170.83 824.276 L1170.83 817.239 L1169.27 817.239 L1169.27 815.584 L1170.83 815.584 L1170.83 811.904 L1172.97 811.904 Z\" fill=\"#000000\" fill-rule=\"evenodd\" fill-opacity=\"1\" /><path clip-path=\"url(#clip880)\" d=\"M1191.25 821.533 L1191.25 822.575 L1181.46 822.575 Q1181.6 824.774 1182.78 825.932 Q1183.97 827.077 1186.09 827.077 Q1187.31 827.077 1188.46 826.776 Q1189.62 826.475 1190.75 825.874 L1190.75 827.888 Q1189.61 828.374 1188.4 828.628 Q1187.2 828.883 1185.96 828.883 Q1182.86 828.883 1181.04 827.077 Q1179.23 825.272 1179.23 822.193 Q1179.23 819.01 1180.95 817.147 Q1182.67 815.272 1185.59 815.272 Q1188.2 815.272 1189.72 816.962 Q1191.25 818.64 1191.25 821.533 M1189.12 820.908 Q1189.1 819.161 1188.14 818.119 Q1187.19 817.077 1185.61 817.077 Q1183.83 817.077 1182.75 818.084 Q1181.69 819.091 1181.53 820.92 L1189.12 820.908 Z\" fill=\"#000000\" fill-rule=\"evenodd\" fill-opacity=\"1\" /><path clip-path=\"url(#clip880)\" d=\"M1203.27 821.915 Q1203.27 819.601 1202.31 818.327 Q1201.36 817.054 1199.64 817.054 Q1197.93 817.054 1196.97 818.327 Q1196.02 819.601 1196.02 821.915 Q1196.02 824.219 1196.97 825.492 Q1197.93 826.765 1199.64 826.765 Q1201.36 826.765 1202.31 825.492 Q1203.27 824.219 1203.27 821.915 M1205.4 826.938 Q1205.4 830.249 1203.93 831.857 Q1202.46 833.478 1199.43 833.478 Q1198.31 833.478 1197.31 833.304 Q1196.32 833.142 1195.38 832.795 L1195.38 830.723 Q1196.32 831.232 1197.23 831.475 Q1198.15 831.719 1199.1 831.719 Q1201.19 831.719 1202.23 830.619 Q1203.27 829.531 1203.27 827.32 L1203.27 826.267 Q1202.61 827.413 1201.58 827.98 Q1200.55 828.547 1199.12 828.547 Q1196.73 828.547 1195.28 826.73 Q1193.82 824.913 1193.82 821.915 Q1193.82 818.906 1195.28 817.089 Q1196.73 815.272 1199.12 815.272 Q1200.55 815.272 1201.58 815.839 Q1202.61 816.406 1203.27 817.552 L1203.27 815.584 L1205.4 815.584 L1205.4 826.938 Z\" fill=\"#000000\" fill-rule=\"evenodd\" fill-opacity=\"1\" /><path clip-path=\"url(#clip880)\" d=\"M1220.88 821.533 L1220.88 822.575 L1211.09 822.575 Q1211.23 824.774 1212.41 825.932 Q1213.6 827.077 1215.72 827.077 Q1216.94 827.077 1218.09 826.776 Q1219.25 826.475 1220.38 825.874 L1220.38 827.888 Q1219.23 828.374 1218.03 828.628 Q1216.83 828.883 1215.59 828.883 Q1212.49 828.883 1210.67 827.077 Q1208.86 825.272 1208.86 822.193 Q1208.86 819.01 1210.58 817.147 Q1212.3 815.272 1215.22 815.272 Q1217.83 815.272 1219.35 816.962 Q1220.88 818.64 1220.88 821.533 M1218.75 820.908 Q1218.73 819.161 1217.76 818.119 Q1216.82 817.077 1215.24 817.077 Q1213.46 817.077 1212.38 818.084 Q1211.32 819.091 1211.16 820.92 L1218.75 820.908 Z\" fill=\"#000000\" fill-rule=\"evenodd\" fill-opacity=\"1\" /><path clip-path=\"url(#clip880)\" d=\"M1231.88 817.575 Q1231.53 817.367 1231.1 817.274 Q1230.68 817.17 1230.17 817.17 Q1228.37 817.17 1227.39 818.351 Q1226.43 819.52 1226.43 821.719 L1226.43 828.547 L1224.29 828.547 L1224.29 815.584 L1226.43 815.584 L1226.43 817.598 Q1227.1 816.418 1228.18 815.851 Q1229.26 815.272 1230.8 815.272 Q1231.02 815.272 1231.28 815.307 Q1231.55 815.33 1231.87 815.388 L1231.88 817.575 Z\" fill=\"#000000\" fill-rule=\"evenodd\" fill-opacity=\"1\" /><path clip-path=\"url(#clip880)\" d=\"M1282.03 1012.44 L1282.03 1018.77 L1285.78 1018.77 Q1287.66 1018.77 1288.57 1018 Q1289.48 1017.21 1289.48 1015.6 Q1289.48 1013.98 1288.57 1013.22 Q1287.66 1012.44 1285.78 1012.44 L1282.03 1012.44 M1282.03 1005.34 L1282.03 1010.54 L1285.49 1010.54 Q1287.2 1010.54 1288.03 1009.91 Q1288.88 1009.26 1288.88 1007.94 Q1288.88 1006.63 1288.03 1005.98 Q1287.2 1005.34 1285.49 1005.34 L1282.03 1005.34 M1279.69 1003.41 L1285.66 1003.41 Q1288.33 1003.41 1289.78 1004.52 Q1291.23 1005.64 1291.23 1007.68 Q1291.23 1009.27 1290.49 1010.21 Q1289.75 1011.15 1288.31 1011.38 Q1290.04 1011.75 1290.99 1012.93 Q1291.95 1014.1 1291.95 1015.86 Q1291.95 1018.17 1290.37 1019.43 Q1288.8 1020.69 1285.89 1020.69 L1279.69 1020.69 L1279.69 1003.41 Z\" fill=\"#000000\" fill-rule=\"evenodd\" fill-opacity=\"1\" /><path clip-path=\"url(#clip880)\" d=\"M1300.88 1009.22 Q1299.17 1009.22 1298.17 1010.57 Q1297.18 1011.9 1297.18 1014.22 Q1297.18 1016.55 1298.16 1017.89 Q1299.16 1019.22 1300.88 1019.22 Q1302.58 1019.22 1303.58 1017.88 Q1304.57 1016.54 1304.57 1014.22 Q1304.57 1011.92 1303.58 1010.58 Q1302.58 1009.22 1300.88 1009.22 M1300.88 1007.42 Q1303.66 1007.42 1305.24 1009.22 Q1306.83 1011.03 1306.83 1014.22 Q1306.83 1017.41 1305.24 1019.22 Q1303.66 1021.03 1300.88 1021.03 Q1298.09 1021.03 1296.51 1019.22 Q1294.93 1017.41 1294.93 1014.22 Q1294.93 1011.03 1296.51 1009.22 Q1298.09 1007.42 1300.88 1007.42 Z\" fill=\"#000000\" fill-rule=\"evenodd\" fill-opacity=\"1\" /><path clip-path=\"url(#clip880)\" d=\"M1315.38 1009.22 Q1313.67 1009.22 1312.68 1010.57 Q1311.68 1011.9 1311.68 1014.22 Q1311.68 1016.55 1312.66 1017.89 Q1313.66 1019.22 1315.38 1019.22 Q1317.08 1019.22 1318.08 1017.88 Q1319.08 1016.54 1319.08 1014.22 Q1319.08 1011.92 1318.08 1010.58 Q1317.08 1009.22 1315.38 1009.22 M1315.38 1007.42 Q1318.16 1007.42 1319.75 1009.22 Q1321.33 1011.03 1321.33 1014.22 Q1321.33 1017.41 1319.75 1019.22 Q1318.16 1021.03 1315.38 1021.03 Q1312.59 1021.03 1311.01 1019.22 Q1309.43 1017.41 1309.43 1014.22 Q1309.43 1011.03 1311.01 1009.22 Q1312.59 1007.42 1315.38 1007.42 Z\" fill=\"#000000\" fill-rule=\"evenodd\" fill-opacity=\"1\" /><path clip-path=\"url(#clip880)\" d=\"M1324.86 1002.68 L1326.99 1002.68 L1326.99 1020.69 L1324.86 1020.69 L1324.86 1002.68 Z\" fill=\"#000000\" fill-rule=\"evenodd\" fill-opacity=\"1\" /><path clip-path=\"url(#clip880)\" d=\"M1153.36 1116.72 Q1150.81 1116.72 1149.31 1118.62 Q1147.82 1120.52 1147.82 1123.79 Q1147.82 1127.06 1149.31 1128.96 Q1150.81 1130.85 1153.36 1130.85 Q1155.91 1130.85 1157.39 1128.96 Q1158.88 1127.06 1158.88 1123.79 Q1158.88 1120.52 1157.39 1118.62 Q1155.91 1116.72 1153.36 1116.72 M1153.36 1114.82 Q1156.99 1114.82 1159.17 1117.27 Q1161.35 1119.7 1161.35 1123.79 Q1161.35 1127.88 1159.17 1130.32 Q1156.99 1132.75 1153.36 1132.75 Q1149.71 1132.75 1147.53 1130.32 Q1145.35 1127.89 1145.35 1123.79 Q1145.35 1119.7 1147.53 1117.27 Q1149.71 1114.82 1153.36 1114.82 Z\" fill=\"#000000\" fill-rule=\"evenodd\" fill-opacity=\"1\" /><path clip-path=\"url(#clip880)\" d=\"M1171.47 1114.41 L1171.47 1116.18 L1169.44 1116.18 Q1168.29 1116.18 1167.84 1116.64 Q1167.4 1117.1 1167.4 1118.31 L1167.4 1119.45 L1170.91 1119.45 L1170.91 1121.11 L1167.4 1121.11 L1167.4 1132.42 L1165.26 1132.42 L1165.26 1121.11 L1163.22 1121.11 L1163.22 1119.45 L1165.26 1119.45 L1165.26 1118.55 Q1165.26 1116.39 1166.26 1115.4 Q1167.27 1114.41 1169.46 1114.41 L1171.47 1114.41 Z\" fill=\"#000000\" fill-rule=\"evenodd\" fill-opacity=\"1\" /><path clip-path=\"url(#clip880)\" d=\"M1179.82 1114.41 L1179.82 1116.18 L1177.78 1116.18 Q1176.63 1116.18 1176.18 1116.64 Q1175.74 1117.1 1175.74 1118.31 L1175.74 1119.45 L1179.25 1119.45 L1179.25 1121.11 L1175.74 1121.11 L1175.74 1132.42 L1173.6 1132.42 L1173.6 1121.11 L1171.56 1121.11 L1171.56 1119.45 L1173.6 1119.45 L1173.6 1118.55 Q1173.6 1116.39 1174.61 1115.4 Q1175.62 1114.41 1177.8 1114.41 L1179.82 1114.41 Z\" fill=\"#000000\" fill-rule=\"evenodd\" fill-opacity=\"1\" /><path clip-path=\"url(#clip880)\" d=\"M1189.86 1119.83 L1189.86 1121.85 Q1188.96 1121.39 1187.99 1121.15 Q1187.02 1120.92 1185.97 1120.92 Q1184.39 1120.92 1183.59 1121.41 Q1182.8 1121.89 1182.8 1122.87 Q1182.8 1123.61 1183.37 1124.04 Q1183.94 1124.45 1185.65 1124.83 L1186.38 1125 Q1188.65 1125.48 1189.6 1126.37 Q1190.56 1127.25 1190.56 1128.84 Q1190.56 1130.64 1189.12 1131.7 Q1187.7 1132.75 1185.2 1132.75 Q1184.16 1132.75 1183.02 1132.54 Q1181.9 1132.35 1180.65 1131.94 L1180.65 1129.74 Q1181.83 1130.36 1182.98 1130.67 Q1184.12 1130.97 1185.25 1130.97 Q1186.75 1130.97 1187.56 1130.46 Q1188.37 1129.94 1188.37 1129 Q1188.37 1128.13 1187.78 1127.67 Q1187.2 1127.21 1185.22 1126.78 L1184.48 1126.61 Q1182.5 1126.19 1181.62 1125.33 Q1180.74 1124.46 1180.74 1122.96 Q1180.74 1121.13 1182.04 1120.14 Q1183.34 1119.14 1185.72 1119.14 Q1186.9 1119.14 1187.94 1119.31 Q1188.98 1119.49 1189.86 1119.83 Z\" fill=\"#000000\" fill-rule=\"evenodd\" fill-opacity=\"1\" /><path clip-path=\"url(#clip880)\" d=\"M1205.04 1125.4 L1205.04 1126.44 L1195.25 1126.44 Q1195.38 1128.64 1196.56 1129.8 Q1197.76 1130.95 1199.88 1130.95 Q1201.1 1130.95 1202.25 1130.64 Q1203.41 1130.34 1204.54 1129.74 L1204.54 1131.76 Q1203.39 1132.24 1202.19 1132.5 Q1200.99 1132.75 1199.75 1132.75 Q1196.65 1132.75 1194.83 1130.95 Q1193.02 1129.14 1193.02 1126.06 Q1193.02 1122.88 1194.74 1121.02 Q1196.46 1119.14 1199.38 1119.14 Q1201.99 1119.14 1203.51 1120.83 Q1205.04 1122.51 1205.04 1125.4 M1202.91 1124.78 Q1202.88 1123.03 1201.92 1121.99 Q1200.97 1120.95 1199.4 1120.95 Q1197.62 1120.95 1196.54 1121.95 Q1195.48 1122.96 1195.31 1124.79 L1202.91 1124.78 Z\" fill=\"#000000\" fill-rule=\"evenodd\" fill-opacity=\"1\" /><path clip-path=\"url(#clip880)\" d=\"M1210.64 1115.77 L1210.64 1119.45 L1215.03 1119.45 L1215.03 1121.11 L1210.64 1121.11 L1210.64 1128.14 Q1210.64 1129.73 1211.07 1130.18 Q1211.51 1130.63 1212.84 1130.63 L1215.03 1130.63 L1215.03 1132.42 L1212.84 1132.42 Q1210.37 1132.42 1209.44 1131.5 Q1208.5 1130.58 1208.5 1128.14 L1208.5 1121.11 L1206.94 1121.11 L1206.94 1119.45 L1208.5 1119.45 L1208.5 1115.77 L1210.64 1115.77 Z\" fill=\"#000000\" fill-rule=\"evenodd\" fill-opacity=\"1\" /><path clip-path=\"url(#clip880)\" d=\"M1217.92 1115.14 L1220.26 1115.14 L1220.26 1132.42 L1217.92 1132.42 L1217.92 1115.14 Z\" fill=\"#000000\" fill-rule=\"evenodd\" fill-opacity=\"1\" /><path clip-path=\"url(#clip880)\" d=\"M1235.59 1124.59 L1235.59 1132.42 L1233.46 1132.42 L1233.46 1124.66 Q1233.46 1122.82 1232.75 1121.91 Q1232.03 1120.99 1230.59 1120.99 Q1228.87 1120.99 1227.87 1122.09 Q1226.88 1123.19 1226.88 1125.09 L1226.88 1132.42 L1224.74 1132.42 L1224.74 1119.45 L1226.88 1119.45 L1226.88 1121.47 Q1227.64 1120.3 1228.67 1119.72 Q1229.71 1119.14 1231.07 1119.14 Q1233.3 1119.14 1234.45 1120.53 Q1235.59 1121.91 1235.59 1124.59 Z\" fill=\"#000000\" fill-rule=\"evenodd\" fill-opacity=\"1\" /><path clip-path=\"url(#clip880)\" d=\"M1241.95 1115.77 L1241.95 1119.45 L1246.33 1119.45 L1246.33 1121.11 L1241.95 1121.11 L1241.95 1128.14 Q1241.95 1129.73 1242.37 1130.18 Q1242.81 1130.63 1244.15 1130.63 L1246.33 1130.63 L1246.33 1132.42 L1244.15 1132.42 Q1241.68 1132.42 1240.74 1131.5 Q1239.81 1130.58 1239.81 1128.14 L1239.81 1121.11 L1238.24 1121.11 L1238.24 1119.45 L1239.81 1119.45 L1239.81 1115.77 L1241.95 1115.77 Z\" fill=\"#000000\" fill-rule=\"evenodd\" fill-opacity=\"1\" /><path clip-path=\"url(#clip880)\" d=\"M1260.22 1125.4 L1260.22 1126.44 L1250.43 1126.44 Q1250.57 1128.64 1251.75 1129.8 Q1252.94 1130.95 1255.06 1130.95 Q1256.29 1130.95 1257.43 1130.64 Q1258.59 1130.34 1259.72 1129.74 L1259.72 1131.76 Q1258.58 1132.24 1257.37 1132.5 Q1256.17 1132.75 1254.93 1132.75 Q1251.83 1132.75 1250.01 1130.95 Q1248.21 1129.14 1248.21 1126.06 Q1248.21 1122.88 1249.92 1121.02 Q1251.65 1119.14 1254.56 1119.14 Q1257.18 1119.14 1258.69 1120.83 Q1260.22 1122.51 1260.22 1125.4 M1258.09 1124.78 Q1258.07 1123.03 1257.11 1121.99 Q1256.16 1120.95 1254.59 1120.95 Q1252.8 1120.95 1251.73 1121.95 Q1250.66 1122.96 1250.5 1124.79 L1258.09 1124.78 Z\" fill=\"#000000\" fill-rule=\"evenodd\" fill-opacity=\"1\" /><path clip-path=\"url(#clip880)\" d=\"M1272.25 1125.78 Q1272.25 1123.47 1271.29 1122.2 Q1270.34 1120.92 1268.61 1120.92 Q1266.9 1120.92 1265.94 1122.2 Q1264.99 1123.47 1264.99 1125.78 Q1264.99 1128.09 1265.94 1129.36 Q1266.9 1130.63 1268.61 1130.63 Q1270.34 1130.63 1271.29 1129.36 Q1272.25 1128.09 1272.25 1125.78 M1274.38 1130.81 Q1274.38 1134.12 1272.91 1135.73 Q1271.44 1137.35 1268.4 1137.35 Q1267.28 1137.35 1266.29 1137.17 Q1265.29 1137.01 1264.35 1136.66 L1264.35 1134.59 Q1265.29 1135.1 1266.21 1135.34 Q1267.12 1135.59 1268.07 1135.59 Q1270.16 1135.59 1271.21 1134.49 Q1272.25 1133.4 1272.25 1131.19 L1272.25 1130.14 Q1271.59 1131.28 1270.56 1131.85 Q1269.53 1132.42 1268.09 1132.42 Q1265.71 1132.42 1264.25 1130.6 Q1262.79 1128.78 1262.79 1125.78 Q1262.79 1122.77 1264.25 1120.96 Q1265.71 1119.14 1268.09 1119.14 Q1269.53 1119.14 1270.56 1119.71 Q1271.59 1120.27 1272.25 1121.42 L1272.25 1119.45 L1274.38 1119.45 L1274.38 1130.81 Z\" fill=\"#000000\" fill-rule=\"evenodd\" fill-opacity=\"1\" /><path clip-path=\"url(#clip880)\" d=\"M1289.85 1125.4 L1289.85 1126.44 L1280.06 1126.44 Q1280.2 1128.64 1281.38 1129.8 Q1282.57 1130.95 1284.69 1130.95 Q1285.92 1130.95 1287.06 1130.64 Q1288.22 1130.34 1289.35 1129.74 L1289.35 1131.76 Q1288.21 1132.24 1287 1132.5 Q1285.8 1132.75 1284.56 1132.75 Q1281.46 1132.75 1279.64 1130.95 Q1277.84 1129.14 1277.84 1126.06 Q1277.84 1122.88 1279.55 1121.02 Q1281.28 1119.14 1284.19 1119.14 Q1286.81 1119.14 1288.32 1120.83 Q1289.85 1122.51 1289.85 1125.4 M1287.72 1124.78 Q1287.7 1123.03 1286.74 1121.99 Q1285.79 1120.95 1284.21 1120.95 Q1282.43 1120.95 1281.36 1121.95 Q1280.29 1122.96 1280.13 1124.79 L1287.72 1124.78 Z\" fill=\"#000000\" fill-rule=\"evenodd\" fill-opacity=\"1\" /><path clip-path=\"url(#clip880)\" d=\"M1300.86 1121.44 Q1300.5 1121.24 1300.07 1121.14 Q1299.65 1121.04 1299.15 1121.04 Q1297.34 1121.04 1296.37 1122.22 Q1295.41 1123.39 1295.41 1125.59 L1295.41 1132.42 L1293.27 1132.42 L1293.27 1119.45 L1295.41 1119.45 L1295.41 1121.47 Q1296.08 1120.29 1297.15 1119.72 Q1298.23 1119.14 1299.77 1119.14 Q1299.99 1119.14 1300.26 1119.18 Q1300.52 1119.2 1300.85 1119.26 L1300.86 1121.44 Z\" fill=\"#000000\" fill-rule=\"evenodd\" fill-opacity=\"1\" /><path clip-path=\"url(#clip880)\" d=\"M1030.67 1031.38 Q1028.12 1031.38 1026.62 1033.28 Q1025.13 1035.18 1025.13 1038.45 Q1025.13 1041.71 1026.62 1043.61 Q1028.12 1045.51 1030.67 1045.51 Q1033.22 1045.51 1034.7 1043.61 Q1036.19 1041.71 1036.19 1038.45 Q1036.19 1035.18 1034.7 1033.28 Q1033.22 1031.38 1030.67 1031.38 M1030.67 1029.48 Q1034.3 1029.48 1036.48 1031.92 Q1038.66 1034.35 1038.66 1038.45 Q1038.66 1042.54 1036.48 1044.98 Q1034.3 1047.41 1030.67 1047.41 Q1027.02 1047.41 1024.84 1044.98 Q1022.66 1042.55 1022.66 1038.45 Q1022.66 1034.35 1024.84 1031.92 Q1027.02 1029.48 1030.67 1029.48 Z\" fill=\"#000000\" fill-rule=\"evenodd\" fill-opacity=\"1\" /><path clip-path=\"url(#clip880)\" d=\"M1048.78 1029.06 L1048.78 1030.84 L1046.75 1030.84 Q1045.6 1030.84 1045.15 1031.3 Q1044.71 1031.76 1044.71 1032.96 L1044.71 1034.11 L1048.22 1034.11 L1048.22 1035.77 L1044.71 1035.77 L1044.71 1047.07 L1042.57 1047.07 L1042.57 1035.77 L1040.53 1035.77 L1040.53 1034.11 L1042.57 1034.11 L1042.57 1033.21 Q1042.57 1031.04 1043.57 1030.06 Q1044.58 1029.06 1046.77 1029.06 L1048.78 1029.06 Z\" fill=\"#000000\" fill-rule=\"evenodd\" fill-opacity=\"1\" /><path clip-path=\"url(#clip880)\" d=\"M1057.13 1029.06 L1057.13 1030.84 L1055.09 1030.84 Q1053.95 1030.84 1053.49 1031.3 Q1053.05 1031.76 1053.05 1032.96 L1053.05 1034.11 L1056.56 1034.11 L1056.56 1035.77 L1053.05 1035.77 L1053.05 1047.07 L1050.91 1047.07 L1050.91 1035.77 L1048.88 1035.77 L1048.88 1034.11 L1050.91 1034.11 L1050.91 1033.21 Q1050.91 1031.04 1051.92 1030.06 Q1052.93 1029.06 1055.11 1029.06 L1057.13 1029.06 Z\" fill=\"#000000\" fill-rule=\"evenodd\" fill-opacity=\"1\" /><path clip-path=\"url(#clip880)\" d=\"M1067.17 1034.49 L1067.17 1036.51 Q1066.27 1036.04 1065.3 1035.81 Q1064.33 1035.58 1063.29 1035.58 Q1061.7 1035.58 1060.9 1036.07 Q1060.11 1036.55 1060.11 1037.52 Q1060.11 1038.27 1060.68 1038.69 Q1061.25 1039.11 1062.96 1039.49 L1063.69 1039.65 Q1065.96 1040.14 1066.91 1041.03 Q1067.87 1041.91 1067.87 1043.5 Q1067.87 1045.3 1066.43 1046.36 Q1065.01 1047.41 1062.51 1047.41 Q1061.47 1047.41 1060.33 1047.2 Q1059.21 1047 1057.96 1046.6 L1057.96 1044.4 Q1059.14 1045.01 1060.29 1045.33 Q1061.43 1045.63 1062.56 1045.63 Q1064.06 1045.63 1064.87 1045.12 Q1065.68 1044.6 1065.68 1043.66 Q1065.68 1042.79 1065.09 1042.33 Q1064.51 1041.87 1062.53 1041.44 L1061.79 1041.26 Q1059.81 1040.85 1058.93 1039.99 Q1058.05 1039.12 1058.05 1037.62 Q1058.05 1035.79 1059.35 1034.79 Q1060.65 1033.8 1063.03 1033.8 Q1064.21 1033.8 1065.25 1033.97 Q1066.29 1034.15 1067.17 1034.49 Z\" fill=\"#000000\" fill-rule=\"evenodd\" fill-opacity=\"1\" /><path clip-path=\"url(#clip880)\" d=\"M1082.35 1040.06 L1082.35 1041.1 L1072.56 1041.1 Q1072.69 1043.3 1073.88 1044.46 Q1075.07 1045.6 1077.19 1045.6 Q1078.41 1045.6 1079.56 1045.3 Q1080.72 1045 1081.85 1044.4 L1081.85 1046.41 Q1080.7 1046.9 1079.5 1047.15 Q1078.3 1047.41 1077.06 1047.41 Q1073.96 1047.41 1072.14 1045.6 Q1070.33 1043.8 1070.33 1040.72 Q1070.33 1037.54 1072.05 1035.67 Q1073.77 1033.8 1076.69 1033.8 Q1079.3 1033.8 1080.82 1035.49 Q1082.35 1037.17 1082.35 1040.06 M1080.22 1039.43 Q1080.19 1037.69 1079.23 1036.65 Q1078.29 1035.6 1076.71 1035.6 Q1074.93 1035.6 1073.85 1036.61 Q1072.79 1037.62 1072.63 1039.45 L1080.22 1039.43 Z\" fill=\"#000000\" fill-rule=\"evenodd\" fill-opacity=\"1\" /><path clip-path=\"url(#clip880)\" d=\"M1087.95 1030.43 L1087.95 1034.11 L1092.34 1034.11 L1092.34 1035.77 L1087.95 1035.77 L1087.95 1042.8 Q1087.95 1044.39 1088.38 1044.84 Q1088.82 1045.29 1090.15 1045.29 L1092.34 1045.29 L1092.34 1047.07 L1090.15 1047.07 Q1087.68 1047.07 1086.75 1046.16 Q1085.81 1045.23 1085.81 1042.8 L1085.81 1035.77 L1084.25 1035.77 L1084.25 1034.11 L1085.81 1034.11 L1085.81 1030.43 L1087.95 1030.43 Z\" fill=\"#000000\" fill-rule=\"evenodd\" fill-opacity=\"1\" /><path clip-path=\"url(#clip880)\" d=\"M1095.23 1029.79 L1097.57 1029.79 L1097.57 1047.07 L1095.23 1047.07 L1095.23 1029.79 Z\" fill=\"#000000\" fill-rule=\"evenodd\" fill-opacity=\"1\" /><path clip-path=\"url(#clip880)\" d=\"M1112.9 1039.25 L1112.9 1047.07 L1110.77 1047.07 L1110.77 1039.32 Q1110.77 1037.48 1110.06 1036.56 Q1109.34 1035.65 1107.9 1035.65 Q1106.18 1035.65 1105.18 1036.75 Q1104.19 1037.85 1104.19 1039.75 L1104.19 1047.07 L1102.05 1047.07 L1102.05 1034.11 L1104.19 1034.11 L1104.19 1036.12 Q1104.95 1034.96 1105.98 1034.38 Q1107.02 1033.8 1108.38 1033.8 Q1110.61 1033.8 1111.76 1035.19 Q1112.9 1036.56 1112.9 1039.25 Z\" fill=\"#000000\" fill-rule=\"evenodd\" fill-opacity=\"1\" /><path clip-path=\"url(#clip880)\" d=\"M1119.26 1030.43 L1119.26 1034.11 L1123.64 1034.11 L1123.64 1035.77 L1119.26 1035.77 L1119.26 1042.8 Q1119.26 1044.39 1119.69 1044.84 Q1120.13 1045.29 1121.46 1045.29 L1123.64 1045.29 L1123.64 1047.07 L1121.46 1047.07 Q1118.99 1047.07 1118.05 1046.16 Q1117.12 1045.23 1117.12 1042.8 L1117.12 1035.77 L1115.55 1035.77 L1115.55 1034.11 L1117.12 1034.11 L1117.12 1030.43 L1119.26 1030.43 Z\" fill=\"#000000\" fill-rule=\"evenodd\" fill-opacity=\"1\" /><path clip-path=\"url(#clip880)\" d=\"M1137.53 1040.06 L1137.53 1041.1 L1127.74 1041.1 Q1127.88 1043.3 1129.06 1044.46 Q1130.25 1045.6 1132.37 1045.6 Q1133.6 1045.6 1134.74 1045.3 Q1135.9 1045 1137.03 1044.4 L1137.03 1046.41 Q1135.89 1046.9 1134.69 1047.15 Q1133.48 1047.41 1132.24 1047.41 Q1129.14 1047.41 1127.32 1045.6 Q1125.52 1043.8 1125.52 1040.72 Q1125.52 1037.54 1127.23 1035.67 Q1128.96 1033.8 1131.87 1033.8 Q1134.49 1033.8 1136 1035.49 Q1137.53 1037.17 1137.53 1040.06 M1135.4 1039.43 Q1135.38 1037.69 1134.42 1036.65 Q1133.47 1035.6 1131.9 1035.6 Q1130.11 1035.6 1129.04 1036.61 Q1127.97 1037.62 1127.81 1039.45 L1135.4 1039.43 Z\" fill=\"#000000\" fill-rule=\"evenodd\" fill-opacity=\"1\" /><path clip-path=\"url(#clip880)\" d=\"M1149.56 1040.44 Q1149.56 1038.13 1148.6 1036.85 Q1147.65 1035.58 1145.92 1035.58 Q1144.21 1035.58 1143.25 1036.85 Q1142.3 1038.13 1142.3 1040.44 Q1142.3 1042.74 1143.25 1044.02 Q1144.21 1045.29 1145.92 1045.29 Q1147.65 1045.29 1148.6 1044.02 Q1149.56 1042.74 1149.56 1040.44 M1151.69 1045.46 Q1151.69 1048.77 1150.22 1050.38 Q1148.75 1052 1145.72 1052 Q1144.59 1052 1143.6 1051.83 Q1142.6 1051.67 1141.66 1051.32 L1141.66 1049.25 Q1142.6 1049.76 1143.52 1050 Q1144.43 1050.24 1145.38 1050.24 Q1147.47 1050.24 1148.52 1049.15 Q1149.56 1048.06 1149.56 1045.85 L1149.56 1044.79 Q1148.9 1045.94 1147.87 1046.51 Q1146.84 1047.07 1145.4 1047.07 Q1143.02 1047.07 1141.56 1045.26 Q1140.1 1043.44 1140.1 1040.44 Q1140.1 1037.43 1141.56 1035.62 Q1143.02 1033.8 1145.4 1033.8 Q1146.84 1033.8 1147.87 1034.37 Q1148.9 1034.93 1149.56 1036.08 L1149.56 1034.11 L1151.69 1034.11 L1151.69 1045.46 Z\" fill=\"#000000\" fill-rule=\"evenodd\" fill-opacity=\"1\" /><path clip-path=\"url(#clip880)\" d=\"M1167.16 1040.06 L1167.16 1041.1 L1157.37 1041.1 Q1157.51 1043.3 1158.69 1044.46 Q1159.88 1045.6 1162 1045.6 Q1163.23 1045.6 1164.37 1045.3 Q1165.53 1045 1166.66 1044.4 L1166.66 1046.41 Q1165.52 1046.9 1164.31 1047.15 Q1163.11 1047.41 1161.87 1047.41 Q1158.77 1047.41 1156.95 1045.6 Q1155.15 1043.8 1155.15 1040.72 Q1155.15 1037.54 1156.86 1035.67 Q1158.59 1033.8 1161.5 1033.8 Q1164.12 1033.8 1165.63 1035.49 Q1167.16 1037.17 1167.16 1040.06 M1165.03 1039.43 Q1165.01 1037.69 1164.05 1036.65 Q1163.1 1035.6 1161.53 1035.6 Q1159.74 1035.6 1158.67 1036.61 Q1157.6 1037.62 1157.44 1039.45 L1165.03 1039.43 Z\" fill=\"#000000\" fill-rule=\"evenodd\" fill-opacity=\"1\" /><path clip-path=\"url(#clip880)\" d=\"M1178.17 1036.1 Q1177.81 1035.89 1177.38 1035.8 Q1176.97 1035.7 1176.46 1035.7 Q1174.65 1035.7 1173.68 1036.88 Q1172.72 1038.05 1172.72 1040.24 L1172.72 1047.07 L1170.58 1047.07 L1170.58 1034.11 L1172.72 1034.11 L1172.72 1036.12 Q1173.39 1034.94 1174.47 1034.38 Q1175.54 1033.8 1177.08 1033.8 Q1177.3 1033.8 1177.57 1033.83 Q1177.83 1033.86 1178.16 1033.91 L1178.17 1036.1 Z\" fill=\"#000000\" fill-rule=\"evenodd\" fill-opacity=\"1\" /><path clip-path=\"url(#clip880)\" d=\"M893.759 1111.58 L893.759 1113.86 Q892.428 1113.23 891.248 1112.92 Q890.067 1112.6 888.968 1112.6 Q887.058 1112.6 886.016 1113.34 Q884.986 1114.08 884.986 1115.45 Q884.986 1116.6 885.669 1117.19 Q886.364 1117.77 888.285 1118.12 L889.697 1118.41 Q892.313 1118.91 893.551 1120.17 Q894.801 1121.42 894.801 1123.53 Q894.801 1126.04 893.111 1127.34 Q891.433 1128.63 888.181 1128.63 Q886.954 1128.63 885.565 1128.36 Q884.188 1128.08 882.706 1127.53 L882.706 1125.13 Q884.13 1125.92 885.496 1126.33 Q886.861 1126.74 888.181 1126.74 Q890.183 1126.74 891.271 1125.95 Q892.359 1125.16 892.359 1123.7 Q892.359 1122.43 891.572 1121.71 Q890.796 1120.99 889.014 1120.64 L887.59 1120.36 Q884.975 1119.84 883.806 1118.73 Q882.637 1117.61 882.637 1115.64 Q882.637 1113.34 884.246 1112.02 Q885.866 1110.71 888.702 1110.71 Q889.917 1110.71 891.178 1110.93 Q892.44 1111.14 893.759 1111.58 Z\" fill=\"#000000\" fill-rule=\"evenodd\" fill-opacity=\"1\" /><path clip-path=\"url(#clip880)\" d=\"M898.354 1115.33 L900.484 1115.33 L900.484 1128.3 L898.354 1128.3 L898.354 1115.33 M898.354 1110.29 L900.484 1110.29 L900.484 1112.99 L898.354 1112.99 L898.354 1110.29 Z\" fill=\"#000000\" fill-rule=\"evenodd\" fill-opacity=\"1\" /><path clip-path=\"url(#clip880)\" d=\"M913.47 1121.67 Q913.47 1119.35 912.509 1118.08 Q911.56 1116.8 909.836 1116.8 Q908.123 1116.8 907.162 1118.08 Q906.213 1119.35 906.213 1121.67 Q906.213 1123.97 907.162 1125.24 Q908.123 1126.52 909.836 1126.52 Q911.56 1126.52 912.509 1125.24 Q913.47 1123.97 913.47 1121.67 M915.6 1126.69 Q915.6 1130 914.13 1131.61 Q912.66 1133.23 909.627 1133.23 Q908.505 1133.23 907.509 1133.05 Q906.514 1132.89 905.576 1132.55 L905.576 1130.47 Q906.514 1130.98 907.428 1131.23 Q908.343 1131.47 909.292 1131.47 Q911.387 1131.47 912.428 1130.37 Q913.47 1129.28 913.47 1127.07 L913.47 1126.02 Q912.81 1127.16 911.78 1127.73 Q910.75 1128.3 909.315 1128.3 Q906.931 1128.3 905.472 1126.48 Q904.014 1124.66 904.014 1121.67 Q904.014 1118.66 905.472 1116.84 Q906.931 1115.02 909.315 1115.02 Q910.75 1115.02 911.78 1115.59 Q912.81 1116.16 913.47 1117.3 L913.47 1115.33 L915.6 1115.33 L915.6 1126.69 Z\" fill=\"#000000\" fill-rule=\"evenodd\" fill-opacity=\"1\" /><path clip-path=\"url(#clip880)\" d=\"M930.761 1120.47 L930.761 1128.3 L928.632 1128.3 L928.632 1120.54 Q928.632 1118.7 927.914 1117.79 Q927.197 1116.87 925.761 1116.87 Q924.037 1116.87 923.042 1117.97 Q922.046 1119.07 922.046 1120.97 L922.046 1128.3 L919.905 1128.3 L919.905 1115.33 L922.046 1115.33 L922.046 1117.35 Q922.81 1116.18 923.84 1115.6 Q924.882 1115.02 926.236 1115.02 Q928.47 1115.02 929.616 1116.41 Q930.761 1117.79 930.761 1120.47 Z\" fill=\"#000000\" fill-rule=\"evenodd\" fill-opacity=\"1\" /><path clip-path=\"url(#clip880)\" d=\"M946.097 1121.28 L946.097 1122.33 L936.305 1122.33 Q936.444 1124.52 937.625 1125.68 Q938.817 1126.83 940.935 1126.83 Q942.162 1126.83 943.308 1126.53 Q944.465 1126.23 945.599 1125.62 L945.599 1127.64 Q944.454 1128.12 943.25 1128.38 Q942.046 1128.63 940.808 1128.63 Q937.706 1128.63 935.889 1126.83 Q934.083 1125.02 934.083 1121.94 Q934.083 1118.76 935.796 1116.9 Q937.521 1115.02 940.437 1115.02 Q943.053 1115.02 944.569 1116.71 Q946.097 1118.39 946.097 1121.28 M943.967 1120.66 Q943.944 1118.91 942.984 1117.87 Q942.035 1116.83 940.46 1116.83 Q938.678 1116.83 937.602 1117.83 Q936.537 1118.84 936.375 1120.67 L943.967 1120.66 Z\" fill=\"#000000\" fill-rule=\"evenodd\" fill-opacity=\"1\" /><path clip-path=\"url(#clip880)\" d=\"M958.122 1117.3 L958.122 1110.29 L960.252 1110.29 L960.252 1128.3 L958.122 1128.3 L958.122 1126.35 Q957.451 1127.51 956.421 1128.08 Q955.403 1128.63 953.967 1128.63 Q951.618 1128.63 950.136 1126.76 Q948.666 1124.88 948.666 1121.83 Q948.666 1118.77 950.136 1116.9 Q951.618 1115.02 953.967 1115.02 Q955.403 1115.02 956.421 1115.59 Q957.451 1116.14 958.122 1117.3 M950.866 1121.83 Q950.866 1124.18 951.826 1125.52 Q952.798 1126.85 954.488 1126.85 Q956.178 1126.85 957.15 1125.52 Q958.122 1124.18 958.122 1121.83 Q958.122 1119.48 957.15 1118.15 Q956.178 1116.8 954.488 1116.8 Q952.798 1116.8 951.826 1118.15 Q950.866 1119.48 950.866 1121.83 Z\" fill=\"#000000\" fill-rule=\"evenodd\" fill-opacity=\"1\" /><path clip-path=\"url(#clip880)\" d=\"M958.584 1338.07 L958.584 1344.4 L962.334 1344.4 Q964.221 1344.4 965.123 1343.63 Q966.038 1342.84 966.038 1341.23 Q966.038 1339.61 965.123 1338.85 Q964.221 1338.07 962.334 1338.07 L958.584 1338.07 M958.584 1330.96 L958.584 1336.17 L962.045 1336.17 Q963.758 1336.17 964.591 1335.54 Q965.436 1334.89 965.436 1333.57 Q965.436 1332.26 964.591 1331.61 Q963.758 1330.96 962.045 1330.96 L958.584 1330.96 M956.246 1329.04 L962.218 1329.04 Q964.892 1329.04 966.339 1330.15 Q967.785 1331.26 967.785 1333.31 Q967.785 1334.9 967.045 1335.84 Q966.304 1336.77 964.869 1337.01 Q966.593 1337.38 967.542 1338.56 Q968.503 1339.73 968.503 1341.48 Q968.503 1343.8 966.929 1345.06 Q965.355 1346.32 962.45 1346.32 L956.246 1346.32 L956.246 1329.04 Z\" fill=\"#000000\" fill-rule=\"evenodd\" fill-opacity=\"1\" /><path clip-path=\"url(#clip880)\" d=\"M972.415 1333.36 L974.545 1333.36 L974.545 1346.32 L972.415 1346.32 L972.415 1333.36 M972.415 1328.31 L974.545 1328.31 L974.545 1331.01 L972.415 1331.01 L972.415 1328.31 Z\" fill=\"#000000\" fill-rule=\"evenodd\" fill-opacity=\"1\" /><path clip-path=\"url(#clip880)\" d=\"M987.531 1339.69 Q987.531 1337.38 986.57 1336.1 Q985.621 1334.83 983.896 1334.83 Q982.184 1334.83 981.223 1336.1 Q980.274 1337.38 980.274 1339.69 Q980.274 1341.99 981.223 1343.27 Q982.184 1344.54 983.896 1344.54 Q985.621 1344.54 986.57 1343.27 Q987.531 1341.99 987.531 1339.69 M989.66 1344.71 Q989.66 1348.02 988.19 1349.63 Q986.721 1351.25 983.688 1351.25 Q982.565 1351.25 981.57 1351.08 Q980.575 1350.92 979.637 1350.57 L979.637 1348.5 Q980.575 1349.01 981.489 1349.25 Q982.403 1349.49 983.352 1349.49 Q985.447 1349.49 986.489 1348.39 Q987.531 1347.31 987.531 1345.1 L987.531 1344.04 Q986.871 1345.19 985.841 1345.76 Q984.811 1346.32 983.376 1346.32 Q980.991 1346.32 979.533 1344.51 Q978.075 1342.69 978.075 1339.69 Q978.075 1336.68 979.533 1334.86 Q980.991 1333.05 983.376 1333.05 Q984.811 1333.05 985.841 1333.61 Q986.871 1334.18 987.531 1335.33 L987.531 1333.36 L989.66 1333.36 L989.66 1344.71 Z\" fill=\"#000000\" fill-rule=\"evenodd\" fill-opacity=\"1\" /><path clip-path=\"url(#clip880)\" d=\"M994.139 1329.04 L996.477 1329.04 L996.477 1346.32 L994.139 1346.32 L994.139 1329.04 Z\" fill=\"#000000\" fill-rule=\"evenodd\" fill-opacity=\"1\" /><path clip-path=\"url(#clip880)\" d=\"M1011.81 1338.5 L1011.81 1346.32 L1009.68 1346.32 L1009.68 1338.57 Q1009.68 1336.73 1008.97 1335.81 Q1008.25 1334.9 1006.81 1334.9 Q1005.09 1334.9 1004.09 1336 Q1003.1 1337.1 1003.1 1339 L1003.1 1346.32 L1000.96 1346.32 L1000.96 1333.36 L1003.1 1333.36 L1003.1 1335.37 Q1003.86 1334.2 1004.89 1333.63 Q1005.93 1333.05 1007.29 1333.05 Q1009.52 1333.05 1010.67 1334.44 Q1011.81 1335.81 1011.81 1338.5 Z\" fill=\"#000000\" fill-rule=\"evenodd\" fill-opacity=\"1\" /><path clip-path=\"url(#clip880)\" d=\"M1018.17 1329.68 L1018.17 1333.36 L1022.55 1333.36 L1022.55 1335.01 L1018.17 1335.01 L1018.17 1342.05 Q1018.17 1343.64 1018.6 1344.09 Q1019.04 1344.54 1020.37 1344.54 L1022.55 1344.54 L1022.55 1346.32 L1020.37 1346.32 Q1017.9 1346.32 1016.96 1345.41 Q1016.03 1344.48 1016.03 1342.05 L1016.03 1335.01 L1014.46 1335.01 L1014.46 1333.36 L1016.03 1333.36 L1016.03 1329.68 L1018.17 1329.68 Z\" fill=\"#000000\" fill-rule=\"evenodd\" fill-opacity=\"1\" /><path clip-path=\"url(#clip880)\" d=\"M1005.62 1240.05 L1007.96 1240.05 L1007.96 1257.33 L1005.62 1257.33 L1005.62 1240.05 Z\" fill=\"#000000\" fill-rule=\"evenodd\" fill-opacity=\"1\" /><path clip-path=\"url(#clip880)\" d=\"M1023.29 1249.51 L1023.29 1257.33 L1021.16 1257.33 L1021.16 1249.58 Q1021.16 1247.74 1020.45 1246.82 Q1019.73 1245.91 1018.29 1245.91 Q1016.57 1245.91 1015.57 1247.01 Q1014.58 1248.11 1014.58 1250 L1014.58 1257.33 L1012.44 1257.33 L1012.44 1244.37 L1014.58 1244.37 L1014.58 1246.38 Q1015.34 1245.21 1016.37 1244.63 Q1017.41 1244.06 1018.77 1244.06 Q1021 1244.06 1022.15 1245.44 Q1023.29 1246.82 1023.29 1249.51 Z\" fill=\"#000000\" fill-rule=\"evenodd\" fill-opacity=\"1\" /><path clip-path=\"url(#clip880)\" d=\"M1029.65 1240.69 L1029.65 1244.37 L1034.03 1244.37 L1034.03 1246.02 L1029.65 1246.02 L1029.65 1253.06 Q1029.65 1254.65 1030.08 1255.1 Q1030.52 1255.55 1031.85 1255.55 L1034.03 1255.55 L1034.03 1257.33 L1031.85 1257.33 Q1029.38 1257.33 1028.44 1256.42 Q1027.51 1255.49 1027.51 1253.06 L1027.51 1246.02 L1025.94 1246.02 L1025.94 1244.37 L1027.51 1244.37 L1027.51 1240.69 L1029.65 1240.69 Z\" fill=\"#000000\" fill-rule=\"evenodd\" fill-opacity=\"1\" /><path clip-path=\"url(#clip880)\" d=\"M1037.54 1255.36 L1041.36 1255.36 L1041.36 1242.18 L1037.21 1243.01 L1037.21 1240.88 L1041.34 1240.05 L1043.67 1240.05 L1043.67 1255.36 L1047.49 1255.36 L1047.49 1257.33 L1037.54 1257.33 L1037.54 1255.36 Z\" fill=\"#000000\" fill-rule=\"evenodd\" fill-opacity=\"1\" /><path clip-path=\"url(#clip880)\" d=\"M1054.23 1255.36 L1062.39 1255.36 L1062.39 1257.33 L1051.42 1257.33 L1051.42 1255.36 Q1052.75 1253.99 1055.04 1251.67 Q1057.34 1249.34 1057.93 1248.67 Q1059.06 1247.41 1059.5 1246.54 Q1059.95 1245.66 1059.95 1244.82 Q1059.95 1243.44 1058.98 1242.57 Q1058.02 1241.71 1056.46 1241.71 Q1055.36 1241.71 1054.14 1242.09 Q1052.92 1242.47 1051.53 1243.24 L1051.53 1240.88 Q1052.95 1240.32 1054.17 1240.03 Q1055.4 1239.74 1056.42 1239.74 Q1059.1 1239.74 1060.7 1241.08 Q1062.3 1242.42 1062.3 1244.67 Q1062.3 1245.73 1061.89 1246.69 Q1061.5 1247.64 1060.45 1248.94 Q1060.16 1249.27 1058.61 1250.88 Q1057.05 1252.48 1054.23 1255.36 Z\" fill=\"#000000\" fill-rule=\"evenodd\" fill-opacity=\"1\" /><path clip-path=\"url(#clip880)\" d=\"M1072.3 1249.12 Q1070.63 1249.12 1069.67 1250.02 Q1068.72 1250.91 1068.72 1252.47 Q1068.72 1254.03 1069.67 1254.92 Q1070.63 1255.81 1072.3 1255.81 Q1073.96 1255.81 1074.92 1254.92 Q1075.89 1254.02 1075.89 1252.47 Q1075.89 1250.91 1074.92 1250.02 Q1073.98 1249.12 1072.3 1249.12 M1069.96 1248.13 Q1068.45 1247.76 1067.61 1246.73 Q1066.78 1245.7 1066.78 1244.22 Q1066.78 1242.15 1068.25 1240.94 Q1069.73 1239.74 1072.3 1239.74 Q1074.88 1239.74 1076.35 1240.94 Q1077.82 1242.15 1077.82 1244.22 Q1077.82 1245.7 1076.97 1246.73 Q1076.14 1247.76 1074.65 1248.13 Q1076.34 1248.52 1077.27 1249.67 Q1078.22 1250.81 1078.22 1252.47 Q1078.22 1254.98 1076.68 1256.32 Q1075.16 1257.67 1072.3 1257.67 Q1069.44 1257.67 1067.9 1256.32 Q1066.37 1254.98 1066.37 1252.47 Q1066.37 1250.81 1067.32 1249.67 Q1068.27 1248.52 1069.96 1248.13 M1069.1 1244.44 Q1069.1 1245.78 1069.94 1246.53 Q1070.78 1247.28 1072.3 1247.28 Q1073.8 1247.28 1074.65 1246.53 Q1075.5 1245.78 1075.5 1244.44 Q1075.5 1243.09 1074.65 1242.34 Q1073.8 1241.59 1072.3 1241.59 Q1070.78 1241.59 1069.94 1242.34 Q1069.1 1243.09 1069.1 1244.44 Z\" fill=\"#000000\" fill-rule=\"evenodd\" fill-opacity=\"1\" /><path clip-path=\"url(#clip880)\" d=\"M831.551 1321.65 L833.889 1321.65 L833.889 1338.93 L831.551 1338.93 L831.551 1321.65 Z\" fill=\"#000000\" fill-rule=\"evenodd\" fill-opacity=\"1\" /><path clip-path=\"url(#clip880)\" d=\"M849.225 1331.11 L849.225 1338.93 L847.095 1338.93 L847.095 1331.18 Q847.095 1329.34 846.377 1328.43 Q845.66 1327.51 844.225 1327.51 Q842.5 1327.51 841.505 1328.61 Q840.509 1329.71 840.509 1331.61 L840.509 1338.93 L838.368 1338.93 L838.368 1325.97 L840.509 1325.97 L840.509 1327.99 Q841.273 1326.82 842.303 1326.24 Q843.345 1325.66 844.699 1325.66 Q846.933 1325.66 848.079 1327.05 Q849.225 1328.43 849.225 1331.11 Z\" fill=\"#000000\" fill-rule=\"evenodd\" fill-opacity=\"1\" /><path clip-path=\"url(#clip880)\" d=\"M855.579 1322.29 L855.579 1325.97 L859.965 1325.97 L859.965 1327.63 L855.579 1327.63 L855.579 1334.66 Q855.579 1336.25 856.007 1336.7 Q856.447 1337.15 857.778 1337.15 L859.965 1337.15 L859.965 1338.93 L857.778 1338.93 Q855.312 1338.93 854.375 1338.02 Q853.437 1337.09 853.437 1334.66 L853.437 1327.63 L851.875 1327.63 L851.875 1325.97 L853.437 1325.97 L853.437 1322.29 L855.579 1322.29 Z\" fill=\"#000000\" fill-rule=\"evenodd\" fill-opacity=\"1\" /><path clip-path=\"url(#clip880)\" d=\"M863.472 1336.97 L867.292 1336.97 L867.292 1323.78 L863.136 1324.62 L863.136 1322.49 L867.268 1321.65 L869.606 1321.65 L869.606 1336.97 L873.426 1336.97 L873.426 1338.93 L863.472 1338.93 L863.472 1336.97 Z\" fill=\"#000000\" fill-rule=\"evenodd\" fill-opacity=\"1\" /><path clip-path=\"url(#clip880)\" d=\"M883.437 1329.36 Q881.863 1329.36 880.937 1330.44 Q880.023 1331.52 880.023 1333.39 Q880.023 1335.25 880.937 1336.34 Q881.863 1337.42 883.437 1337.42 Q885.011 1337.42 885.926 1336.34 Q886.852 1335.25 886.852 1333.39 Q886.852 1331.52 885.926 1330.44 Q885.011 1329.36 883.437 1329.36 M888.078 1322.04 L888.078 1324.17 Q887.199 1323.75 886.296 1323.53 Q885.405 1323.31 884.525 1323.31 Q882.21 1323.31 880.984 1324.87 Q879.768 1326.44 879.595 1329.59 Q880.278 1328.59 881.308 1328.06 Q882.338 1327.51 883.576 1327.51 Q886.18 1327.51 887.685 1329.1 Q889.201 1330.67 889.201 1333.39 Q889.201 1336.05 887.627 1337.66 Q886.053 1339.27 883.437 1339.27 Q880.44 1339.27 878.854 1336.98 Q877.268 1334.68 877.268 1330.31 Q877.268 1326.22 879.213 1323.78 Q881.157 1321.34 884.433 1321.34 Q885.312 1321.34 886.203 1321.52 Q887.106 1321.69 888.078 1322.04 Z\" fill=\"#000000\" fill-rule=\"evenodd\" fill-opacity=\"1\" /><path clip-path=\"url(#clip880)\" d=\"M752.171 1245.65 L754.509 1245.65 L754.509 1262.93 L752.171 1262.93 L752.171 1245.65 Z\" fill=\"#000000\" fill-rule=\"evenodd\" fill-opacity=\"1\" /><path clip-path=\"url(#clip880)\" d=\"M769.845 1255.11 L769.845 1262.93 L767.715 1262.93 L767.715 1255.18 Q767.715 1253.34 766.998 1252.42 Q766.28 1251.51 764.845 1251.51 Q763.12 1251.51 762.125 1252.61 Q761.13 1253.71 761.13 1255.61 L761.13 1262.93 L758.988 1262.93 L758.988 1249.97 L761.13 1249.97 L761.13 1251.98 Q761.894 1250.82 762.924 1250.24 Q763.965 1249.66 765.319 1249.66 Q767.553 1249.66 768.699 1251.05 Q769.845 1252.42 769.845 1255.11 Z\" fill=\"#000000\" fill-rule=\"evenodd\" fill-opacity=\"1\" /><path clip-path=\"url(#clip880)\" d=\"M776.199 1246.29 L776.199 1249.97 L780.586 1249.97 L780.586 1251.63 L776.199 1251.63 L776.199 1258.66 Q776.199 1260.25 776.627 1260.7 Q777.067 1261.15 778.398 1261.15 L780.586 1261.15 L780.586 1262.93 L778.398 1262.93 Q775.933 1262.93 774.995 1262.02 Q774.058 1261.09 774.058 1258.66 L774.058 1251.63 L772.495 1251.63 L772.495 1249.97 L774.058 1249.97 L774.058 1246.29 L776.199 1246.29 Z\" fill=\"#000000\" fill-rule=\"evenodd\" fill-opacity=\"1\" /><path clip-path=\"url(#clip880)\" d=\"M790.771 1253.62 Q792.449 1253.98 793.386 1255.11 Q794.336 1256.24 794.336 1257.91 Q794.336 1260.47 792.576 1261.87 Q790.817 1263.27 787.576 1263.27 Q786.488 1263.27 785.331 1263.05 Q784.185 1262.84 782.958 1262.41 L782.958 1260.16 Q783.93 1260.72 785.088 1261.01 Q786.245 1261.3 787.507 1261.3 Q789.706 1261.3 790.852 1260.43 Q792.009 1259.57 792.009 1257.91 Q792.009 1256.38 790.933 1255.53 Q789.868 1254.66 787.958 1254.66 L785.944 1254.66 L785.944 1252.74 L788.051 1252.74 Q789.775 1252.74 790.69 1252.05 Q791.604 1251.36 791.604 1250.06 Q791.604 1248.73 790.655 1248.03 Q789.717 1247.31 787.958 1247.31 Q786.998 1247.31 785.898 1247.52 Q784.799 1247.73 783.479 1248.16 L783.479 1246.08 Q784.81 1245.71 785.967 1245.53 Q787.136 1245.34 788.167 1245.34 Q790.829 1245.34 792.379 1246.56 Q793.93 1247.76 793.93 1249.82 Q793.93 1251.26 793.109 1252.25 Q792.287 1253.23 790.771 1253.62 Z\" fill=\"#000000\" fill-rule=\"evenodd\" fill-opacity=\"1\" /><path clip-path=\"url(#clip880)\" d=\"M800.782 1260.97 L808.942 1260.97 L808.942 1262.93 L797.97 1262.93 L797.97 1260.97 Q799.301 1259.59 801.592 1257.27 Q803.896 1254.95 804.486 1254.28 Q805.609 1253.01 806.048 1252.15 Q806.5 1251.27 806.5 1250.42 Q806.5 1249.04 805.528 1248.18 Q804.567 1247.31 803.016 1247.31 Q801.916 1247.31 800.69 1247.69 Q799.474 1248.07 798.085 1248.85 L798.085 1246.49 Q799.498 1245.92 800.724 1245.63 Q801.951 1245.34 802.97 1245.34 Q805.655 1245.34 807.252 1246.68 Q808.849 1248.03 808.849 1250.27 Q808.849 1251.34 808.444 1252.3 Q808.051 1253.25 806.997 1254.54 Q806.708 1254.88 805.157 1256.49 Q803.606 1258.08 800.782 1260.97 Z\" fill=\"#000000\" fill-rule=\"evenodd\" fill-opacity=\"1\" /><path clip-path=\"url(#clip880)\" d=\"M664.846 1230.15 L667.184 1230.15 L667.184 1247.43 L664.846 1247.43 L664.846 1230.15 Z\" fill=\"#000000\" fill-rule=\"evenodd\" fill-opacity=\"1\" /><path clip-path=\"url(#clip880)\" d=\"M682.519 1239.61 L682.519 1247.43 L680.389 1247.43 L680.389 1239.68 Q680.389 1237.84 679.672 1236.92 Q678.954 1236.01 677.519 1236.01 Q675.795 1236.01 674.799 1237.11 Q673.804 1238.21 673.804 1240.1 L673.804 1247.43 L671.663 1247.43 L671.663 1234.47 L673.804 1234.47 L673.804 1236.48 Q674.568 1235.31 675.598 1234.73 Q676.639 1234.15 677.994 1234.15 Q680.227 1234.15 681.373 1235.54 Q682.519 1236.92 682.519 1239.61 Z\" fill=\"#000000\" fill-rule=\"evenodd\" fill-opacity=\"1\" /><path clip-path=\"url(#clip880)\" d=\"M688.873 1230.79 L688.873 1234.47 L693.26 1234.47 L693.26 1236.12 L688.873 1236.12 L688.873 1243.16 Q688.873 1244.74 689.301 1245.2 Q689.741 1245.65 691.072 1245.65 L693.26 1245.65 L693.26 1247.43 L691.072 1247.43 Q688.607 1247.43 687.67 1246.52 Q686.732 1245.59 686.732 1243.16 L686.732 1236.12 L685.17 1236.12 L685.17 1234.47 L686.732 1234.47 L686.732 1230.79 L688.873 1230.79 Z\" fill=\"#000000\" fill-rule=\"evenodd\" fill-opacity=\"1\" /><path clip-path=\"url(#clip880)\" d=\"M701.651 1237.86 Q700.077 1237.86 699.151 1238.93 Q698.237 1240.01 698.237 1241.89 Q698.237 1243.75 699.151 1244.84 Q700.077 1245.91 701.651 1245.91 Q703.225 1245.91 704.139 1244.84 Q705.065 1243.75 705.065 1241.89 Q705.065 1240.01 704.139 1238.93 Q703.225 1237.86 701.651 1237.86 M706.292 1230.53 L706.292 1232.66 Q705.412 1232.24 704.51 1232.02 Q703.619 1231.81 702.739 1231.81 Q700.424 1231.81 699.197 1233.37 Q697.982 1234.93 697.808 1238.09 Q698.491 1237.08 699.521 1236.55 Q700.551 1236.01 701.79 1236.01 Q704.394 1236.01 705.899 1237.59 Q707.415 1239.17 707.415 1241.89 Q707.415 1244.55 705.841 1246.16 Q704.267 1247.77 701.651 1247.77 Q698.653 1247.77 697.068 1245.47 Q695.482 1243.17 695.482 1238.81 Q695.482 1234.71 697.426 1232.28 Q699.371 1229.84 702.646 1229.84 Q703.526 1229.84 704.417 1230.01 Q705.32 1230.18 706.292 1230.53 Z\" fill=\"#000000\" fill-rule=\"evenodd\" fill-opacity=\"1\" /><path clip-path=\"url(#clip880)\" d=\"M717.866 1232.19 L711.963 1241.41 L717.866 1241.41 L717.866 1232.19 M717.253 1230.15 L720.192 1230.15 L720.192 1241.41 L722.658 1241.41 L722.658 1243.36 L720.192 1243.36 L720.192 1247.43 L717.866 1247.43 L717.866 1243.36 L710.065 1243.36 L710.065 1241.1 L717.253 1230.15 Z\" fill=\"#000000\" fill-rule=\"evenodd\" fill-opacity=\"1\" /><path clip-path=\"url(#clip880)\" d=\"M641.096 1276 L643.434 1276 L643.434 1293.28 L641.096 1293.28 L641.096 1276 Z\" fill=\"#000000\" fill-rule=\"evenodd\" fill-opacity=\"1\" /><path clip-path=\"url(#clip880)\" d=\"M658.77 1285.45 L658.77 1293.28 L656.64 1293.28 L656.64 1285.52 Q656.64 1283.68 655.923 1282.77 Q655.205 1281.85 653.77 1281.85 Q652.045 1281.85 651.05 1282.95 Q650.055 1284.05 650.055 1285.95 L650.055 1293.28 L647.913 1293.28 L647.913 1280.31 L650.055 1280.31 L650.055 1282.33 Q650.818 1281.16 651.849 1280.58 Q652.89 1280 654.244 1280 Q656.478 1280 657.624 1281.39 Q658.77 1282.77 658.77 1285.45 Z\" fill=\"#000000\" fill-rule=\"evenodd\" fill-opacity=\"1\" /><path clip-path=\"url(#clip880)\" d=\"M665.124 1276.63 L665.124 1280.31 L669.51 1280.31 L669.51 1281.97 L665.124 1281.97 L665.124 1289 Q665.124 1290.59 665.552 1291.04 Q665.992 1291.49 667.323 1291.49 L669.51 1291.49 L669.51 1293.28 L667.323 1293.28 Q664.858 1293.28 663.92 1292.36 Q662.983 1291.44 662.983 1289 L662.983 1281.97 L661.42 1281.97 L661.42 1280.31 L662.983 1280.31 L662.983 1276.63 L665.124 1276.63 Z\" fill=\"#000000\" fill-rule=\"evenodd\" fill-opacity=\"1\" /><path clip-path=\"url(#clip880)\" d=\"M677.612 1285.07 Q675.946 1285.07 674.985 1285.96 Q674.036 1286.85 674.036 1288.41 Q674.036 1289.98 674.985 1290.87 Q675.946 1291.76 677.612 1291.76 Q679.279 1291.76 680.24 1290.87 Q681.2 1289.97 681.2 1288.41 Q681.2 1286.85 680.24 1285.96 Q679.29 1285.07 677.612 1285.07 M675.274 1284.07 Q673.77 1283.7 672.925 1282.67 Q672.091 1281.64 672.091 1280.16 Q672.091 1278.09 673.561 1276.89 Q675.043 1275.68 677.612 1275.68 Q680.193 1275.68 681.663 1276.89 Q683.133 1278.09 683.133 1280.16 Q683.133 1281.64 682.288 1282.67 Q681.455 1283.7 679.962 1284.07 Q681.652 1284.47 682.589 1285.61 Q683.538 1286.76 683.538 1288.41 Q683.538 1290.93 681.999 1292.27 Q680.471 1293.61 677.612 1293.61 Q674.753 1293.61 673.214 1292.27 Q671.686 1290.93 671.686 1288.41 Q671.686 1286.76 672.635 1285.61 Q673.585 1284.47 675.274 1284.07 M674.418 1280.38 Q674.418 1281.72 675.251 1282.48 Q676.096 1283.23 677.612 1283.23 Q679.117 1283.23 679.962 1282.48 Q680.818 1281.72 680.818 1280.38 Q680.818 1279.04 679.962 1278.29 Q679.117 1277.53 677.612 1277.53 Q676.096 1277.53 675.251 1278.29 Q674.418 1279.04 674.418 1280.38 Z\" fill=\"#000000\" fill-rule=\"evenodd\" fill-opacity=\"1\" /><path clip-path=\"url(#clip880)\" d=\"M1427.51 1055.25 L1429.86 1055.25 L1429.86 1065.75 Q1429.86 1068.53 1430.86 1069.75 Q1431.87 1070.97 1434.13 1070.97 Q1436.37 1070.97 1437.38 1069.75 Q1438.39 1068.53 1438.39 1065.75 L1438.39 1055.25 L1440.74 1055.25 L1440.74 1066.04 Q1440.74 1069.42 1439.06 1071.14 Q1437.39 1072.87 1434.13 1072.87 Q1430.85 1072.87 1429.17 1071.14 Q1427.51 1069.42 1427.51 1066.04 L1427.51 1055.25 Z\" fill=\"#000000\" fill-rule=\"evenodd\" fill-opacity=\"1\" /><path clip-path=\"url(#clip880)\" d=\"M1455.8 1064.71 L1455.8 1072.53 L1453.68 1072.53 L1453.68 1064.78 Q1453.68 1062.94 1452.96 1062.02 Q1452.24 1061.11 1450.81 1061.11 Q1449.08 1061.11 1448.09 1062.21 Q1447.09 1063.31 1447.09 1065.2 L1447.09 1072.53 L1444.95 1072.53 L1444.95 1059.57 L1447.09 1059.57 L1447.09 1061.58 Q1447.85 1060.41 1448.88 1059.83 Q1449.93 1059.25 1451.28 1059.25 Q1453.51 1059.25 1454.66 1060.64 Q1455.8 1062.02 1455.8 1064.71 Z\" fill=\"#000000\" fill-rule=\"evenodd\" fill-opacity=\"1\" /><path clip-path=\"url(#clip880)\" d=\"M1468.32 1059.95 L1468.32 1061.96 Q1467.41 1061.5 1466.44 1061.27 Q1465.47 1061.04 1464.43 1061.04 Q1462.84 1061.04 1462.04 1061.52 Q1461.26 1062.01 1461.26 1062.98 Q1461.26 1063.72 1461.82 1064.15 Q1462.39 1064.57 1464.1 1064.95 L1464.83 1065.11 Q1467.1 1065.6 1468.05 1066.49 Q1469.01 1067.37 1469.01 1068.95 Q1469.01 1070.76 1467.58 1071.81 Q1466.15 1072.87 1463.65 1072.87 Q1462.61 1072.87 1461.48 1072.66 Q1460.35 1072.46 1459.1 1072.06 L1459.1 1069.86 Q1460.28 1070.47 1461.43 1070.78 Q1462.58 1071.08 1463.7 1071.08 Q1465.2 1071.08 1466.01 1070.57 Q1466.82 1070.05 1466.82 1069.12 Q1466.82 1068.25 1466.23 1067.78 Q1465.65 1067.32 1463.68 1066.89 L1462.93 1066.72 Q1460.96 1066.3 1460.08 1065.45 Q1459.2 1064.58 1459.2 1063.07 Q1459.2 1061.25 1460.49 1060.25 Q1461.79 1059.25 1464.17 1059.25 Q1465.35 1059.25 1466.4 1059.43 Q1467.44 1059.6 1468.32 1059.95 Z\" fill=\"#000000\" fill-rule=\"evenodd\" fill-opacity=\"1\" /><path clip-path=\"url(#clip880)\" d=\"M1472.4 1059.57 L1474.53 1059.57 L1474.53 1072.53 L1472.4 1072.53 L1472.4 1059.57 M1472.4 1054.52 L1474.53 1054.52 L1474.53 1057.22 L1472.4 1057.22 L1472.4 1054.52 Z\" fill=\"#000000\" fill-rule=\"evenodd\" fill-opacity=\"1\" /><path clip-path=\"url(#clip880)\" d=\"M1487.52 1065.9 Q1487.52 1063.58 1486.56 1062.31 Q1485.61 1061.04 1483.88 1061.04 Q1482.17 1061.04 1481.21 1062.31 Q1480.26 1063.58 1480.26 1065.9 Q1480.26 1068.2 1481.21 1069.47 Q1482.17 1070.75 1483.88 1070.75 Q1485.61 1070.75 1486.56 1069.47 Q1487.52 1068.2 1487.52 1065.9 M1489.65 1070.92 Q1489.65 1074.23 1488.18 1075.84 Q1486.71 1077.46 1483.68 1077.46 Q1482.55 1077.46 1481.56 1077.29 Q1480.56 1077.13 1479.62 1076.78 L1479.62 1074.71 Q1480.56 1075.22 1481.48 1075.46 Q1482.39 1075.7 1483.34 1075.7 Q1485.43 1075.7 1486.48 1074.6 Q1487.52 1073.51 1487.52 1071.3 L1487.52 1070.25 Q1486.86 1071.4 1485.83 1071.96 Q1484.8 1072.53 1483.36 1072.53 Q1480.98 1072.53 1479.52 1070.71 Q1478.06 1068.9 1478.06 1065.9 Q1478.06 1062.89 1479.52 1061.07 Q1480.98 1059.25 1483.36 1059.25 Q1484.8 1059.25 1485.83 1059.82 Q1486.86 1060.39 1487.52 1061.54 L1487.52 1059.57 L1489.65 1059.57 L1489.65 1070.92 Z\" fill=\"#000000\" fill-rule=\"evenodd\" fill-opacity=\"1\" /><path clip-path=\"url(#clip880)\" d=\"M1504.81 1064.71 L1504.81 1072.53 L1502.68 1072.53 L1502.68 1064.78 Q1502.68 1062.94 1501.96 1062.02 Q1501.24 1061.11 1499.81 1061.11 Q1498.08 1061.11 1497.09 1062.21 Q1496.09 1063.31 1496.09 1065.2 L1496.09 1072.53 L1493.95 1072.53 L1493.95 1059.57 L1496.09 1059.57 L1496.09 1061.58 Q1496.86 1060.41 1497.89 1059.83 Q1498.93 1059.25 1500.28 1059.25 Q1502.52 1059.25 1503.66 1060.64 Q1504.81 1062.02 1504.81 1064.71 Z\" fill=\"#000000\" fill-rule=\"evenodd\" fill-opacity=\"1\" /><path clip-path=\"url(#clip880)\" d=\"M1520.14 1065.52 L1520.14 1066.56 L1510.35 1066.56 Q1510.49 1068.76 1511.67 1069.91 Q1512.86 1071.06 1514.98 1071.06 Q1516.21 1071.06 1517.36 1070.76 Q1518.51 1070.46 1519.65 1069.86 L1519.65 1071.87 Q1518.5 1072.36 1517.3 1072.61 Q1516.09 1072.87 1514.86 1072.87 Q1511.75 1072.87 1509.94 1071.06 Q1508.13 1069.25 1508.13 1066.18 Q1508.13 1062.99 1509.84 1061.13 Q1511.57 1059.25 1514.49 1059.25 Q1517.1 1059.25 1518.62 1060.94 Q1520.14 1062.62 1520.14 1065.52 M1518.02 1064.89 Q1517.99 1063.14 1517.03 1062.1 Q1516.08 1061.06 1514.51 1061.06 Q1512.73 1061.06 1511.65 1062.07 Q1510.58 1063.07 1510.42 1064.9 L1518.02 1064.89 Z\" fill=\"#000000\" fill-rule=\"evenodd\" fill-opacity=\"1\" /><path clip-path=\"url(#clip880)\" d=\"M1532.17 1061.54 L1532.17 1054.52 L1534.3 1054.52 L1534.3 1072.53 L1532.17 1072.53 L1532.17 1070.59 Q1531.5 1071.74 1530.47 1072.31 Q1529.45 1072.87 1528.02 1072.87 Q1525.67 1072.87 1524.18 1070.99 Q1522.71 1069.12 1522.71 1066.06 Q1522.71 1063 1524.18 1061.13 Q1525.67 1059.25 1528.02 1059.25 Q1529.45 1059.25 1530.47 1059.82 Q1531.5 1060.38 1532.17 1061.54 M1524.91 1066.06 Q1524.91 1068.41 1525.87 1069.75 Q1526.85 1071.08 1528.54 1071.08 Q1530.23 1071.08 1531.2 1069.75 Q1532.17 1068.41 1532.17 1066.06 Q1532.17 1063.71 1531.2 1062.38 Q1530.23 1061.04 1528.54 1061.04 Q1526.85 1061.04 1525.87 1062.38 Q1524.91 1063.71 1524.91 1066.06 Z\" fill=\"#000000\" fill-rule=\"evenodd\" fill-opacity=\"1\" /><path clip-path=\"url(#clip880)\" d=\"M1456.45 1278.43 L1458.8 1278.43 L1458.8 1288.93 Q1458.8 1291.71 1459.8 1292.93 Q1460.81 1294.15 1463.07 1294.15 Q1465.31 1294.15 1466.32 1292.93 Q1467.33 1291.71 1467.33 1288.93 L1467.33 1278.43 L1469.68 1278.43 L1469.68 1289.22 Q1469.68 1292.6 1468 1294.32 Q1466.33 1296.05 1463.07 1296.05 Q1459.79 1296.05 1458.11 1294.32 Q1456.45 1292.6 1456.45 1289.22 L1456.45 1278.43 Z\" fill=\"#000000\" fill-rule=\"evenodd\" fill-opacity=\"1\" /><path clip-path=\"url(#clip880)\" d=\"M1474.06 1278.43 L1476.4 1278.43 L1476.4 1295.71 L1474.06 1295.71 L1474.06 1278.43 Z\" fill=\"#000000\" fill-rule=\"evenodd\" fill-opacity=\"1\" /><path clip-path=\"url(#clip880)\" d=\"M1491.74 1287.89 L1491.74 1295.71 L1489.61 1295.71 L1489.61 1287.96 Q1489.61 1286.12 1488.89 1285.2 Q1488.17 1284.29 1486.74 1284.29 Q1485.01 1284.29 1484.02 1285.39 Q1483.02 1286.49 1483.02 1288.38 L1483.02 1295.71 L1480.88 1295.71 L1480.88 1282.75 L1483.02 1282.75 L1483.02 1284.76 Q1483.79 1283.59 1484.82 1283.01 Q1485.86 1282.44 1487.21 1282.44 Q1489.45 1282.44 1490.59 1283.82 Q1491.74 1285.2 1491.74 1287.89 Z\" fill=\"#000000\" fill-rule=\"evenodd\" fill-opacity=\"1\" /><path clip-path=\"url(#clip880)\" d=\"M1498.09 1279.07 L1498.09 1282.75 L1502.48 1282.75 L1502.48 1284.4 L1498.09 1284.4 L1498.09 1291.44 Q1498.09 1293.03 1498.52 1293.48 Q1498.96 1293.93 1500.29 1293.93 L1502.48 1293.93 L1502.48 1295.71 L1500.29 1295.71 Q1497.83 1295.71 1496.89 1294.8 Q1495.95 1293.87 1495.95 1291.44 L1495.95 1284.4 L1494.39 1284.4 L1494.39 1282.75 L1495.95 1282.75 L1495.95 1279.07 L1498.09 1279.07 Z\" fill=\"#000000\" fill-rule=\"evenodd\" fill-opacity=\"1\" /><path clip-path=\"url(#clip880)\" d=\"M1505.98 1293.74 L1509.8 1293.74 L1509.8 1280.56 L1505.65 1281.39 L1505.65 1279.26 L1509.78 1278.43 L1512.12 1278.43 L1512.12 1293.74 L1515.94 1293.74 L1515.94 1295.71 L1505.98 1295.71 L1505.98 1293.74 Z\" fill=\"#000000\" fill-rule=\"evenodd\" fill-opacity=\"1\" /><path clip-path=\"url(#clip880)\" d=\"M1522.67 1293.74 L1530.83 1293.74 L1530.83 1295.71 L1519.86 1295.71 L1519.86 1293.74 Q1521.19 1292.37 1523.48 1290.05 Q1525.79 1287.73 1526.38 1287.05 Q1527.5 1285.79 1527.94 1284.92 Q1528.39 1284.04 1528.39 1283.2 Q1528.39 1281.82 1527.42 1280.95 Q1526.46 1280.09 1524.91 1280.09 Q1523.81 1280.09 1522.58 1280.47 Q1521.37 1280.85 1519.98 1281.63 L1519.98 1279.26 Q1521.39 1278.7 1522.62 1278.41 Q1523.84 1278.12 1524.86 1278.12 Q1527.55 1278.12 1529.14 1279.46 Q1530.74 1280.8 1530.74 1283.05 Q1530.74 1284.11 1530.34 1285.07 Q1529.94 1286.02 1528.89 1287.32 Q1528.6 1287.66 1527.05 1289.26 Q1525.5 1290.86 1522.67 1293.74 Z\" fill=\"#000000\" fill-rule=\"evenodd\" fill-opacity=\"1\" /><path clip-path=\"url(#clip880)\" d=\"M1540.74 1287.51 Q1539.07 1287.51 1538.11 1288.4 Q1537.17 1289.29 1537.17 1290.85 Q1537.17 1292.41 1538.11 1293.3 Q1539.07 1294.19 1540.74 1294.19 Q1542.41 1294.19 1543.37 1293.3 Q1544.33 1292.4 1544.33 1290.85 Q1544.33 1289.29 1543.37 1288.4 Q1542.42 1287.51 1540.74 1287.51 M1538.4 1286.51 Q1536.9 1286.14 1536.05 1285.11 Q1535.22 1284.08 1535.22 1282.6 Q1535.22 1280.53 1536.69 1279.32 Q1538.17 1278.12 1540.74 1278.12 Q1543.32 1278.12 1544.79 1279.32 Q1546.26 1280.53 1546.26 1282.6 Q1546.26 1284.08 1545.42 1285.11 Q1544.58 1286.14 1543.09 1286.51 Q1544.78 1286.9 1545.72 1288.05 Q1546.67 1289.19 1546.67 1290.85 Q1546.67 1293.36 1545.13 1294.7 Q1543.6 1296.05 1540.74 1296.05 Q1537.88 1296.05 1536.34 1294.7 Q1534.82 1293.36 1534.82 1290.85 Q1534.82 1289.19 1535.76 1288.05 Q1536.71 1286.9 1538.4 1286.51 M1537.55 1282.82 Q1537.55 1284.16 1538.38 1284.91 Q1539.23 1285.66 1540.74 1285.66 Q1542.25 1285.66 1543.09 1284.91 Q1543.95 1284.16 1543.95 1282.82 Q1543.95 1281.48 1543.09 1280.72 Q1542.25 1279.97 1540.74 1279.97 Q1539.23 1279.97 1538.38 1280.72 Q1537.55 1281.48 1537.55 1282.82 Z\" fill=\"#000000\" fill-rule=\"evenodd\" fill-opacity=\"1\" /><path clip-path=\"url(#clip880)\" d=\"M1561.95 1311.47 L1564.3 1311.47 L1564.3 1321.96 Q1564.3 1324.74 1565.31 1325.97 Q1566.32 1327.18 1568.57 1327.18 Q1570.82 1327.18 1571.83 1325.97 Q1572.83 1324.74 1572.83 1321.96 L1572.83 1311.47 L1575.18 1311.47 L1575.18 1322.25 Q1575.18 1325.63 1573.5 1327.36 Q1571.84 1329.08 1568.57 1329.08 Q1565.3 1329.08 1563.62 1327.36 Q1561.95 1325.63 1561.95 1322.25 L1561.95 1311.47 Z\" fill=\"#000000\" fill-rule=\"evenodd\" fill-opacity=\"1\" /><path clip-path=\"url(#clip880)\" d=\"M1579.57 1311.47 L1581.91 1311.47 L1581.91 1328.75 L1579.57 1328.75 L1579.57 1311.47 Z\" fill=\"#000000\" fill-rule=\"evenodd\" fill-opacity=\"1\" /><path clip-path=\"url(#clip880)\" d=\"M1597.24 1320.92 L1597.24 1328.75 L1595.11 1328.75 L1595.11 1320.99 Q1595.11 1319.15 1594.4 1318.24 Q1593.68 1317.32 1592.24 1317.32 Q1590.52 1317.32 1589.52 1318.42 Q1588.53 1319.52 1588.53 1321.42 L1588.53 1328.75 L1586.39 1328.75 L1586.39 1315.78 L1588.53 1315.78 L1588.53 1317.8 Q1589.29 1316.63 1590.32 1316.05 Q1591.36 1315.47 1592.72 1315.47 Q1594.95 1315.47 1596.1 1316.86 Q1597.24 1318.24 1597.24 1320.92 Z\" fill=\"#000000\" fill-rule=\"evenodd\" fill-opacity=\"1\" /><path clip-path=\"url(#clip880)\" d=\"M1603.6 1312.1 L1603.6 1315.78 L1607.98 1315.78 L1607.98 1317.44 L1603.6 1317.44 L1603.6 1324.48 Q1603.6 1326.06 1604.03 1326.51 Q1604.47 1326.96 1605.8 1326.96 L1607.98 1326.96 L1607.98 1328.75 L1605.8 1328.75 Q1603.33 1328.75 1602.39 1327.83 Q1601.46 1326.91 1601.46 1324.48 L1601.46 1317.44 L1599.89 1317.44 L1599.89 1315.78 L1601.46 1315.78 L1601.46 1312.1 L1603.6 1312.1 Z\" fill=\"#000000\" fill-rule=\"evenodd\" fill-opacity=\"1\" /><path clip-path=\"url(#clip880)\" d=\"M1611.49 1326.78 L1615.31 1326.78 L1615.31 1313.6 L1611.15 1314.43 L1611.15 1312.3 L1615.29 1311.47 L1617.62 1311.47 L1617.62 1326.78 L1621.44 1326.78 L1621.44 1328.75 L1611.49 1328.75 L1611.49 1326.78 Z\" fill=\"#000000\" fill-rule=\"evenodd\" fill-opacity=\"1\" /><path clip-path=\"url(#clip880)\" d=\"M1631.46 1319.17 Q1629.88 1319.17 1628.96 1320.25 Q1628.04 1321.33 1628.04 1323.2 Q1628.04 1325.07 1628.96 1326.15 Q1629.88 1327.23 1631.46 1327.23 Q1633.03 1327.23 1633.94 1326.15 Q1634.87 1325.07 1634.87 1323.2 Q1634.87 1321.33 1633.94 1320.25 Q1633.03 1319.17 1631.46 1319.17 M1636.1 1311.85 L1636.1 1313.98 Q1635.22 1313.56 1634.31 1313.34 Q1633.42 1313.12 1632.54 1313.12 Q1630.23 1313.12 1629 1314.68 Q1627.79 1316.25 1627.61 1319.41 Q1628.3 1318.4 1629.33 1317.87 Q1630.36 1317.32 1631.59 1317.32 Q1634.2 1317.32 1635.7 1318.91 Q1637.22 1320.48 1637.22 1323.2 Q1637.22 1325.86 1635.65 1327.47 Q1634.07 1329.08 1631.46 1329.08 Q1628.46 1329.08 1626.87 1326.79 Q1625.29 1324.49 1625.29 1320.12 Q1625.29 1316.03 1627.23 1313.6 Q1629.18 1311.15 1632.45 1311.15 Q1633.33 1311.15 1634.22 1311.33 Q1635.12 1311.5 1636.1 1311.85 Z\" fill=\"#000000\" fill-rule=\"evenodd\" fill-opacity=\"1\" /><path clip-path=\"url(#clip880)\" d=\"M1700.49 1239.55 L1702.84 1239.55 L1702.84 1250.05 Q1702.84 1252.83 1703.85 1254.05 Q1704.85 1255.27 1707.11 1255.27 Q1709.36 1255.27 1710.36 1254.05 Q1711.37 1252.83 1711.37 1250.05 L1711.37 1239.55 L1713.72 1239.55 L1713.72 1250.34 Q1713.72 1253.72 1712.04 1255.44 Q1710.37 1257.17 1707.11 1257.17 Q1703.83 1257.17 1702.16 1255.44 Q1700.49 1253.72 1700.49 1250.34 L1700.49 1239.55 Z\" fill=\"#000000\" fill-rule=\"evenodd\" fill-opacity=\"1\" /><path clip-path=\"url(#clip880)\" d=\"M1718.11 1239.55 L1720.44 1239.55 L1720.44 1256.83 L1718.11 1256.83 L1718.11 1239.55 Z\" fill=\"#000000\" fill-rule=\"evenodd\" fill-opacity=\"1\" /><path clip-path=\"url(#clip880)\" d=\"M1735.78 1249.01 L1735.78 1256.83 L1733.65 1256.83 L1733.65 1249.08 Q1733.65 1247.24 1732.93 1246.32 Q1732.21 1245.41 1730.78 1245.41 Q1729.05 1245.41 1728.06 1246.51 Q1727.06 1247.61 1727.06 1249.5 L1727.06 1256.83 L1724.92 1256.83 L1724.92 1243.87 L1727.06 1243.87 L1727.06 1245.88 Q1727.83 1244.71 1728.86 1244.13 Q1729.9 1243.55 1731.25 1243.55 Q1733.49 1243.55 1734.63 1244.94 Q1735.78 1246.32 1735.78 1249.01 Z\" fill=\"#000000\" fill-rule=\"evenodd\" fill-opacity=\"1\" /><path clip-path=\"url(#clip880)\" d=\"M1742.13 1240.19 L1742.13 1243.87 L1746.52 1243.87 L1746.52 1245.52 L1742.13 1245.52 L1742.13 1252.56 Q1742.13 1254.15 1742.56 1254.6 Q1743 1255.05 1744.33 1255.05 L1746.52 1255.05 L1746.52 1256.83 L1744.33 1256.83 Q1741.87 1256.83 1740.93 1255.92 Q1739.99 1254.99 1739.99 1252.56 L1739.99 1245.52 L1738.43 1245.52 L1738.43 1243.87 L1739.99 1243.87 L1739.99 1240.19 L1742.13 1240.19 Z\" fill=\"#000000\" fill-rule=\"evenodd\" fill-opacity=\"1\" /><path clip-path=\"url(#clip880)\" d=\"M1756.7 1247.51 Q1758.38 1247.87 1759.32 1249.01 Q1760.27 1250.14 1760.27 1251.81 Q1760.27 1254.37 1758.51 1255.77 Q1756.75 1257.17 1753.51 1257.17 Q1752.42 1257.17 1751.26 1256.95 Q1750.12 1256.74 1748.89 1256.31 L1748.89 1254.05 Q1749.86 1254.62 1751.02 1254.91 Q1752.18 1255.2 1753.44 1255.2 Q1755.64 1255.2 1756.79 1254.33 Q1757.94 1253.46 1757.94 1251.81 Q1757.94 1250.28 1756.87 1249.42 Q1755.8 1248.55 1753.89 1248.55 L1751.88 1248.55 L1751.88 1246.63 L1753.98 1246.63 Q1755.71 1246.63 1756.62 1245.95 Q1757.54 1245.26 1757.54 1243.96 Q1757.54 1242.63 1756.59 1241.92 Q1755.65 1241.21 1753.89 1241.21 Q1752.93 1241.21 1751.83 1241.41 Q1750.73 1241.62 1749.41 1242.06 L1749.41 1239.98 Q1750.74 1239.61 1751.9 1239.42 Q1753.07 1239.24 1754.1 1239.24 Q1756.76 1239.24 1758.31 1240.45 Q1759.86 1241.66 1759.86 1243.72 Q1759.86 1245.15 1759.04 1246.15 Q1758.22 1247.13 1756.7 1247.51 Z\" fill=\"#000000\" fill-rule=\"evenodd\" fill-opacity=\"1\" /><path clip-path=\"url(#clip880)\" d=\"M1766.72 1254.86 L1774.88 1254.86 L1774.88 1256.83 L1763.9 1256.83 L1763.9 1254.86 Q1765.23 1253.49 1767.53 1251.17 Q1769.83 1248.84 1770.42 1248.17 Q1771.54 1246.91 1771.98 1246.04 Q1772.43 1245.16 1772.43 1244.32 Q1772.43 1242.94 1771.46 1242.07 Q1770.5 1241.21 1768.95 1241.21 Q1767.85 1241.21 1766.62 1241.59 Q1765.41 1241.97 1764.02 1242.74 L1764.02 1240.38 Q1765.43 1239.82 1766.66 1239.53 Q1767.89 1239.24 1768.9 1239.24 Q1771.59 1239.24 1773.19 1240.58 Q1774.78 1241.92 1774.78 1244.17 Q1774.78 1245.23 1774.38 1246.19 Q1773.98 1247.14 1772.93 1248.44 Q1772.64 1248.77 1771.09 1250.38 Q1769.54 1251.98 1766.72 1254.86 Z\" fill=\"#000000\" fill-rule=\"evenodd\" fill-opacity=\"1\" /><path clip-path=\"url(#clip880)\" d=\"M1625.89 1214.88 L1628.24 1214.88 L1628.24 1225.38 Q1628.24 1228.16 1629.25 1229.39 Q1630.25 1230.6 1632.51 1230.6 Q1634.76 1230.6 1635.76 1229.39 Q1636.77 1228.16 1636.77 1225.38 L1636.77 1214.88 L1639.12 1214.88 L1639.12 1225.67 Q1639.12 1229.05 1637.44 1230.77 Q1635.77 1232.5 1632.51 1232.5 Q1629.24 1232.5 1627.56 1230.77 Q1625.89 1229.05 1625.89 1225.67 L1625.89 1214.88 Z\" fill=\"#000000\" fill-rule=\"evenodd\" fill-opacity=\"1\" /><path clip-path=\"url(#clip880)\" d=\"M1643.51 1214.88 L1645.84 1214.88 L1645.84 1232.16 L1643.51 1232.16 L1643.51 1214.88 Z\" fill=\"#000000\" fill-rule=\"evenodd\" fill-opacity=\"1\" /><path clip-path=\"url(#clip880)\" d=\"M1661.18 1224.34 L1661.18 1232.16 L1659.05 1232.16 L1659.05 1224.41 Q1659.05 1222.57 1658.33 1221.65 Q1657.61 1220.74 1656.18 1220.74 Q1654.46 1220.74 1653.46 1221.84 Q1652.46 1222.94 1652.46 1224.84 L1652.46 1232.16 L1650.32 1232.16 L1650.32 1219.2 L1652.46 1219.2 L1652.46 1221.21 Q1653.23 1220.04 1654.26 1219.47 Q1655.3 1218.89 1656.65 1218.89 Q1658.89 1218.89 1660.03 1220.28 Q1661.18 1221.65 1661.18 1224.34 Z\" fill=\"#000000\" fill-rule=\"evenodd\" fill-opacity=\"1\" /><path clip-path=\"url(#clip880)\" d=\"M1667.53 1215.52 L1667.53 1219.2 L1671.92 1219.2 L1671.92 1220.85 L1667.53 1220.85 L1667.53 1227.89 Q1667.53 1229.48 1667.96 1229.93 Q1668.4 1230.38 1669.73 1230.38 L1671.92 1230.38 L1671.92 1232.16 L1669.73 1232.16 Q1667.27 1232.16 1666.33 1231.25 Q1665.39 1230.32 1665.39 1227.89 L1665.39 1220.85 L1663.83 1220.85 L1663.83 1219.2 L1665.39 1219.2 L1665.39 1215.52 L1667.53 1215.52 Z\" fill=\"#000000\" fill-rule=\"evenodd\" fill-opacity=\"1\" /><path clip-path=\"url(#clip880)\" d=\"M1680.31 1222.59 Q1678.74 1222.59 1677.81 1223.67 Q1676.9 1224.74 1676.9 1226.62 Q1676.9 1228.48 1677.81 1229.57 Q1678.74 1230.65 1680.31 1230.65 Q1681.89 1230.65 1682.8 1229.57 Q1683.73 1228.48 1683.73 1226.62 Q1683.73 1224.74 1682.8 1223.67 Q1681.89 1222.59 1680.31 1222.59 M1684.95 1215.26 L1684.95 1217.39 Q1684.07 1216.98 1683.17 1216.76 Q1682.28 1216.54 1681.4 1216.54 Q1679.08 1216.54 1677.86 1218.1 Q1676.64 1219.66 1676.47 1222.82 Q1677.15 1221.82 1678.18 1221.28 Q1679.21 1220.74 1680.45 1220.74 Q1683.05 1220.74 1684.56 1222.32 Q1686.08 1223.9 1686.08 1226.62 Q1686.08 1229.28 1684.5 1230.89 Q1682.93 1232.5 1680.31 1232.5 Q1677.31 1232.5 1675.73 1230.21 Q1674.14 1227.9 1674.14 1223.54 Q1674.14 1219.44 1676.09 1217.01 Q1678.03 1214.57 1681.31 1214.57 Q1682.19 1214.57 1683.08 1214.74 Q1683.98 1214.92 1684.95 1215.26 Z\" fill=\"#000000\" fill-rule=\"evenodd\" fill-opacity=\"1\" /><path clip-path=\"url(#clip880)\" d=\"M1696.53 1216.92 L1690.62 1226.14 L1696.53 1226.14 L1696.53 1216.92 M1695.91 1214.88 L1698.85 1214.88 L1698.85 1226.14 L1701.32 1226.14 L1701.32 1228.09 L1698.85 1228.09 L1698.85 1232.16 L1696.53 1232.16 L1696.53 1228.09 L1688.73 1228.09 L1688.73 1225.83 L1695.91 1214.88 Z\" fill=\"#000000\" fill-rule=\"evenodd\" fill-opacity=\"1\" /><path clip-path=\"url(#clip880)\" d=\"M1363.1 1299.25 L1365.45 1299.25 L1365.45 1309.75 Q1365.45 1312.52 1366.46 1313.75 Q1367.46 1314.97 1369.72 1314.97 Q1371.96 1314.97 1372.97 1313.75 Q1373.98 1312.52 1373.98 1309.75 L1373.98 1299.25 L1376.33 1299.25 L1376.33 1310.04 Q1376.33 1313.42 1374.65 1315.14 Q1372.98 1316.86 1369.72 1316.86 Q1366.44 1316.86 1364.77 1315.14 Q1363.1 1313.42 1363.1 1310.04 L1363.1 1299.25 Z\" fill=\"#000000\" fill-rule=\"evenodd\" fill-opacity=\"1\" /><path clip-path=\"url(#clip880)\" d=\"M1380.71 1299.25 L1383.05 1299.25 L1383.05 1316.53 L1380.71 1316.53 L1380.71 1299.25 Z\" fill=\"#000000\" fill-rule=\"evenodd\" fill-opacity=\"1\" /><path clip-path=\"url(#clip880)\" d=\"M1398.39 1308.7 L1398.39 1316.53 L1396.26 1316.53 L1396.26 1308.77 Q1396.26 1306.93 1395.54 1306.02 Q1394.82 1305.11 1393.39 1305.11 Q1391.66 1305.11 1390.67 1306.2 Q1389.67 1307.3 1389.67 1309.2 L1389.67 1316.53 L1387.53 1316.53 L1387.53 1303.57 L1389.67 1303.57 L1389.67 1305.58 Q1390.44 1304.41 1391.47 1303.83 Q1392.51 1303.25 1393.86 1303.25 Q1396.1 1303.25 1397.24 1304.64 Q1398.39 1306.02 1398.39 1308.7 Z\" fill=\"#000000\" fill-rule=\"evenodd\" fill-opacity=\"1\" /><path clip-path=\"url(#clip880)\" d=\"M1404.74 1299.89 L1404.74 1303.57 L1409.13 1303.57 L1409.13 1305.22 L1404.74 1305.22 L1404.74 1312.26 Q1404.74 1313.84 1405.17 1314.3 Q1405.61 1314.75 1406.94 1314.75 L1409.13 1314.75 L1409.13 1316.53 L1406.94 1316.53 Q1404.48 1316.53 1403.54 1315.61 Q1402.6 1314.69 1402.6 1312.26 L1402.6 1305.22 L1401.04 1305.22 L1401.04 1303.57 L1402.6 1303.57 L1402.6 1299.89 L1404.74 1299.89 Z\" fill=\"#000000\" fill-rule=\"evenodd\" fill-opacity=\"1\" /><path clip-path=\"url(#clip880)\" d=\"M1417.23 1308.32 Q1415.56 1308.32 1414.6 1309.21 Q1413.65 1310.11 1413.65 1311.67 Q1413.65 1313.23 1414.6 1314.12 Q1415.56 1315.01 1417.23 1315.01 Q1418.9 1315.01 1419.86 1314.12 Q1420.82 1313.22 1420.82 1311.67 Q1420.82 1310.11 1419.86 1309.21 Q1418.91 1308.32 1417.23 1308.32 M1414.89 1307.33 Q1413.39 1306.96 1412.54 1305.93 Q1411.71 1304.9 1411.71 1303.42 Q1411.71 1301.34 1413.18 1300.14 Q1414.66 1298.94 1417.23 1298.94 Q1419.81 1298.94 1421.28 1300.14 Q1422.75 1301.34 1422.75 1303.42 Q1422.75 1304.9 1421.91 1305.93 Q1421.07 1306.96 1419.58 1307.33 Q1421.27 1307.72 1422.21 1308.87 Q1423.16 1310.01 1423.16 1311.67 Q1423.16 1314.18 1421.62 1315.52 Q1420.09 1316.86 1417.23 1316.86 Q1414.37 1316.86 1412.83 1315.52 Q1411.3 1314.18 1411.3 1311.67 Q1411.3 1310.01 1412.25 1308.87 Q1413.2 1307.72 1414.89 1307.33 M1414.04 1303.64 Q1414.04 1304.98 1414.87 1305.73 Q1415.71 1306.48 1417.23 1306.48 Q1418.74 1306.48 1419.58 1305.73 Q1420.44 1304.98 1420.44 1303.64 Q1420.44 1302.29 1419.58 1301.54 Q1418.74 1300.79 1417.23 1300.79 Q1415.71 1300.79 1414.87 1301.54 Q1414.04 1302.29 1414.04 1303.64 Z\" fill=\"#000000\" fill-rule=\"evenodd\" fill-opacity=\"1\" /></svg>\n"
      ]
     },
     "execution_count": 9,
     "metadata": {},
     "output_type": "execute_result"
    }
   ],
   "source": [
    "using GraphRecipes, Plots\n",
    "\n",
    "gr(size = (600, 400))\n",
    "theme(:default)\n",
    "\n",
    "plot(Integer, method=:tree, fontsize=4)"
   ]
  },
  {
   "cell_type": "markdown",
   "metadata": {},
   "source": [
    "source: [Visualizing Graphs in Julia using Plots and PlotRecipes](http://www.breloff.com/Graphs/)"
   ]
  },
  {
   "cell_type": "markdown",
   "metadata": {},
   "source": [
    "### Unsigned integers\n",
    "\n",
    "* Model for $\\mathbb{N}\\cup\\{0\\}$.\n",
    "\n",
    "* For unsigned integers, the range is $[0, 2^M-1]$.\n",
    "\n",
    "* Julia functions `typemin(T)` and `typemax(T)` give the lowest and highest representable number of type `T` respectively."
   ]
  },
  {
   "cell_type": "code",
   "execution_count": 10,
   "metadata": {},
   "outputs": [
    {
     "name": "stdout",
     "output_type": "stream",
     "text": [
      "UInt8\t0\t255\n",
      "UInt16\t0\t65535\n",
      "UInt32\t0\t4294967295\n",
      "UInt64\t0\t18446744073709551615\n",
      "UInt128\t0\t340282366920938463463374607431768211455\n"
     ]
    }
   ],
   "source": [
    "for t in [UInt8, UInt16, UInt32, UInt64, UInt128]\n",
    "    println(t, '\\t', typemin(t), '\\t', typemax(t))\n",
    "end"
   ]
  },
  {
   "cell_type": "markdown",
   "metadata": {},
   "source": [
    "### Signed integers\n",
    "\n",
    "* Model of $\\mathbb{Z}$. Can do subtraction.\n",
    "\n",
    "* First bit (\"most significant bit\" or MSB) is the sign bit.\n",
    "    - `0` for nonnegative numbers\n",
    "    - `1` for negative numbers\n",
    "\n",
    "* **Two's complement representation** for negative numbers\n",
    "    - Set the sign bit to 1\n",
    "    - Negate (`0`->`1`,`1`->`0`) the remaining bits\n",
    "    - Add `1` to the result\n",
    "    - Two's complement representation of a negative integer $x$ is the same as the unsigned integer $2^M-x$."
   ]
  },
  {
   "cell_type": "code",
   "execution_count": 13,
   "metadata": {},
   "outputs": [
    {
     "name": "stdout",
     "output_type": "stream",
     "text": [
      "typeof(5) = Int64\n",
      "bitstring(5) = \"0000000000000000000000000000000000000000000000000000000000000101\"\n",
      "bitstring(-5) = \"1111111111111111111111111111111111111111111111111111111111111011\"\n",
      "bitstring(UInt(Int128(2) ^ 64 - 5)) == bitstring(-5) = true\n",
      "bitstring(2 * 5) = \"0000000000000000000000000000000000000000000000000000000000001010\"\n",
      "bitstring(2 * -5) = \"1111111111111111111111111111111111111111111111111111111111110110\"\n"
     ]
    }
   ],
   "source": [
    "@show typeof(5)\n",
    "@show bitstring(5)\n",
    "@show bitstring(-5)\n",
    "@show bitstring(UInt(Int128(2)^64 - 5)) == bitstring(-5)\n",
    "@show bitstring(2 * 5) # shift bits of 5 to the left\n",
    "@show bitstring(2 * -5); # shift bits of -5 to left"
   ]
  },
  {
   "cell_type": "markdown",
   "metadata": {},
   "source": [
    "* Two's complement representation respects modular arithmetic nicely.\n",
    "    Addition of any two signed integers are just bitwise addition, possibily modulo $2^M$"
   ]
  },
  {
   "cell_type": "markdown",
   "metadata": {},
   "source": [
    "* **Range** of representable integers by $M$-bit **signed integer** is $[-2^{M-1},2^{M-1}-1]$:"
   ]
  },
  {
   "cell_type": "code",
   "execution_count": 14,
   "metadata": {},
   "outputs": [
    {
     "data": {
      "text/plain": [
       "(-9223372036854775808, 9223372036854775807)"
      ]
     },
     "execution_count": 14,
     "metadata": {},
     "output_type": "execute_result"
    }
   ],
   "source": [
    "typemin(Int64), typemax(Int64)"
   ]
  },
  {
   "cell_type": "code",
   "execution_count": 15,
   "metadata": {},
   "outputs": [
    {
     "name": "stdout",
     "output_type": "stream",
     "text": [
      "Int8\t-128\t127\n",
      "Int16\t-32768\t32767\n",
      "Int32\t-2147483648\t2147483647\n",
      "Int64\t-9223372036854775808\t9223372036854775807\n",
      "Int128\t-170141183460469231731687303715884105728\t170141183460469231731687303715884105727\n"
     ]
    }
   ],
   "source": [
    "for T in [Int8, Int16, Int32, Int64, Int128]\n",
    "    println(T, '\\t', typemin(T), '\\t', typemax(T))\n",
    "end"
   ]
  },
  {
   "cell_type": "markdown",
   "metadata": {},
   "source": [
    "`BigInt`\n",
    "\n",
    "Julia `BigInt` type is arbitrary precision."
   ]
  },
  {
   "cell_type": "code",
   "execution_count": 16,
   "metadata": {},
   "outputs": [
    {
     "name": "stdout",
     "output_type": "stream",
     "text": [
      "typemax(Int128) = 170141183460469231731687303715884105727\n",
      "typemax(Int128) + 1 = -170141183460469231731687303715884105728\n",
      "BigInt(typemax(Int128)) + 1 = 170141183460469231731687303715884105728\n"
     ]
    }
   ],
   "source": [
    "@show typemax(Int128)\n",
    "@show typemax(Int128) + 1 # overflow!\n",
    "@show BigInt(typemax(Int128)) + 1;"
   ]
  },
  {
   "cell_type": "markdown",
   "metadata": {},
   "source": [
    "### Overflow in integer arithmetic\n",
    "\n",
    "R reports `NA` for integer overflow. **Julia outputs the result according to modular arithmetic**."
   ]
  },
  {
   "cell_type": "code",
   "execution_count": 17,
   "metadata": {},
   "outputs": [
    {
     "name": "stdout",
     "output_type": "stream",
     "text": [
      "typemax(Int32) = 2147483647\n",
      "typemax(Int32) + Int32(1) = -2147483648\n"
     ]
    }
   ],
   "source": [
    "@show typemax(Int32)\n",
    "@show typemax(Int32) + Int32(1); # modular arithmetics!"
   ]
  },
  {
   "cell_type": "code",
   "execution_count": 18,
   "metadata": {},
   "outputs": [
    {
     "data": {
      "text/plain": [
       "RObject{IntSxp}\n",
       "[1] 2147483647\n"
      ]
     },
     "execution_count": 18,
     "metadata": {},
     "output_type": "execute_result"
    }
   ],
   "source": [
    "using RCall\n",
    "# the largest integer R can hold\n",
    "R\"\"\"\n",
    ".Machine$integer.max\n",
    "\"\"\""
   ]
  },
  {
   "cell_type": "code",
   "execution_count": 19,
   "metadata": {},
   "outputs": [
    {
     "data": {
      "text/plain": [
       "RObject{IntSxp}\n",
       "[1] 2147483647\n"
      ]
     },
     "execution_count": 19,
     "metadata": {},
     "output_type": "execute_result"
    }
   ],
   "source": [
    "R\"\"\"\n",
    "M <- 32\n",
    "big <- 2^(M-1) - 1\n",
    "as.integer(big)\n",
    "\"\"\""
   ]
  },
  {
   "cell_type": "code",
   "execution_count": 20,
   "metadata": {},
   "outputs": [
    {
     "name": "stderr",
     "output_type": "stream",
     "text": [
      "┌ Warning: RCall.jl: 경고: NAs introduced by coercion to integer range\n",
      "└ @ RCall /Users/hongseung-gi/.julia/packages/RCall/iMDW2/src/io.jl:160\n"
     ]
    },
    {
     "data": {
      "text/plain": [
       "RObject{IntSxp}\n",
       "[1] NA\n"
      ]
     },
     "execution_count": 20,
     "metadata": {},
     "output_type": "execute_result"
    }
   ],
   "source": [
    "R\"\"\"\n",
    "as.integer(big + 1)\n",
    "\"\"\""
   ]
  },
  {
   "cell_type": "markdown",
   "metadata": {},
   "source": [
    "## Real numbers: floating-point number system\n",
    "\n",
    "Floating-point number system is a computer model for the real line $\\mathbb{R}$.\n",
    "\n",
    "* Most computer systems adpot the [IEEE 754 standard](https://en.wikipedia.org/wiki/IEEE_floating_point), established in 1985, for floating-point arithmetics.  \n",
    "For the history, see an [interview with William Kahan](http://www.cs.berkeley.edu/~wkahan/ieee754status/754story.html).\n",
    "\n",
    "* In the scientific notation, a real number is represented as\n",
    "$$\n",
    "\\pm d_1.d_2d_3 \\cdots d_p \\times b^e, \\quad 0 \\le d_i < b.\n",
    "$$\n",
    "Humans use the *base* $b = 10$ and *digits* $d_i = 0,1,\\dotsc,9$.\\\n",
    "    In computer, the base is $b = 2$ and the digits $d_i$ are 0 or 1. The *exponent* $e$ is between $e_{\\min}$ and $e_{\\max}$.\n",
    "    \n",
    "* **Normalized** vs **denormalized** numbers. For example, decimal number 18 is\n",
    "$$ +1.0010 \\times 2^4 \\quad (\\text{normalized})$$\n",
    "or, equivalently,\n",
    "$$ +0.1001 \\times 2^5 \\quad (\\text{denormalized}).$$\n",
    "\n",
    "* In the floating-number system, computer stores\n",
    "    - sign bit\n",
    "    - the *fraction*(or *mantissa*, or *significand*) of the **normalized** representation (except some special cases)\n",
    "    - the actual exponent plus a *bias*\n",
    "        + Because $e_{\\min}$ is likely negative and $e_{\\max}$ is positive, the exponent requires a sign. IEEE 754 handles the sign of the exponent by subtracting the bias from the value of the exponent evaluated as an unsigned integer.\n"
   ]
  },
  {
   "cell_type": "markdown",
   "metadata": {},
   "source": [
    "* Julia provides `Float16` (half precision, implemented in software using `Float32`), `Float32`(sign precision), `Float64` (double precision), and `BigFloat` (arbitrary precision)."
   ]
  },
  {
   "cell_type": "code",
   "execution_count": 21,
   "metadata": {},
   "outputs": [
    {
     "data": {
      "image/svg+xml": [
       "<?xml version=\"1.0\" encoding=\"utf-8\"?>\n",
       "<svg xmlns=\"http://www.w3.org/2000/svg\" xmlns:xlink=\"http://www.w3.org/1999/xlink\" width=\"600\" height=\"400\" viewBox=\"0 0 2400 1600\">\n",
       "<defs>\n",
       "  <clipPath id=\"clip910\">\n",
       "    <rect x=\"0\" y=\"0\" width=\"2400\" height=\"1600\"/>\n",
       "  </clipPath>\n",
       "</defs>\n",
       "<path clip-path=\"url(#clip910)\" d=\"\n",
       "M0 1600 L2400 1600 L2400 0 L0 0  Z\n",
       "  \" fill=\"#ffffff\" fill-rule=\"evenodd\" fill-opacity=\"1\"/>\n",
       "<defs>\n",
       "  <clipPath id=\"clip911\">\n",
       "    <rect x=\"480\" y=\"0\" width=\"1681\" height=\"1600\"/>\n",
       "  </clipPath>\n",
       "</defs>\n",
       "<path clip-path=\"url(#clip910)\" d=\"\n",
       "M447.244 1552.76 L1952.76 1552.76 L1952.76 47.2441 L447.244 47.2441  Z\n",
       "  \" fill=\"#ffffff\" fill-rule=\"evenodd\" fill-opacity=\"1\"/>\n",
       "<defs>\n",
       "  <clipPath id=\"clip912\">\n",
       "    <rect x=\"447\" y=\"47\" width=\"1507\" height=\"1507\"/>\n",
       "  </clipPath>\n",
       "</defs>\n",
       "<polyline clip-path=\"url(#clip912)\" style=\"stroke:#000000; stroke-linecap:butt; stroke-linejoin:round; stroke-width:4; stroke-opacity:1; fill:none\" points=\"\n",
       "  983.99,262.317 984.675,271.763 986.669,280.944 989.872,289.88 994.19,298.589 999.524,307.092 1005.78,315.408 1012.86,323.557 1020.66,331.559 1029.09,339.433 \n",
       "  1038.06,347.199 1047.46,354.876 1057.2,362.485 1067.18,370.044 1077.31,377.574 1087.49,385.095 1097.61,392.625 1107.6,400.184 1117.34,407.793 1126.74,415.47 \n",
       "  1135.7,423.236 1144.14,431.11 1151.94,439.112 1159.02,447.261 1165.27,455.577 1170.61,464.08 1174.92,472.789 1178.13,481.725 1180.12,490.906 1180.81,500.352 \n",
       "  \n",
       "  \"/>\n",
       "<polyline clip-path=\"url(#clip912)\" style=\"stroke:#000000; stroke-linecap:butt; stroke-linejoin:round; stroke-width:4; stroke-opacity:1; fill:none\" points=\"\n",
       "  1180.81,500.352 1180.76,509.621 1180.62,519.085 1180.4,528.728 1180.1,538.537 1179.73,548.497 1179.29,558.593 1178.8,568.811 1178.26,579.138 1177.67,589.557 \n",
       "  1177.05,600.056 1176.39,610.62 1175.72,621.233 1175.02,631.883 1174.32,642.555 1173.61,653.233 1172.91,663.905 1172.21,674.554 1171.54,685.168 1170.88,695.732 \n",
       "  1170.26,706.231 1169.67,716.65 1169.13,726.977 1168.64,737.195 1168.21,747.291 1167.83,757.251 1167.53,767.06 1167.31,776.703 1167.17,786.167 1167.13,795.436 \n",
       "  \n",
       "  \"/>\n",
       "<polyline clip-path=\"url(#clip912)\" style=\"stroke:#000000; stroke-linecap:butt; stroke-linejoin:round; stroke-width:4; stroke-opacity:1; fill:none\" points=\"\n",
       "  1167.13,795.436 1167.16,804.535 1167.28,813.825 1167.46,823.292 1167.71,832.921 1168.02,842.7 1168.38,852.613 1168.78,862.646 1169.23,872.785 1169.71,883.017 \n",
       "  1170.23,893.326 1170.77,903.699 1171.32,914.122 1171.9,924.58 1172.48,935.059 1173.06,945.545 1173.64,956.025 1174.21,966.483 1174.77,976.905 1175.31,987.278 \n",
       "  1175.83,997.588 1176.31,1007.82 1176.76,1017.96 1177.16,1027.99 1177.52,1037.9 1177.83,1047.68 1178.08,1057.31 1178.26,1066.78 1178.37,1076.07 1178.41,1085.17 \n",
       "  \n",
       "  \"/>\n",
       "<polyline clip-path=\"url(#clip912)\" style=\"stroke:#000000; stroke-linecap:butt; stroke-linejoin:round; stroke-width:4; stroke-opacity:1; fill:none\" points=\"\n",
       "  1178.41,1085.17 1176.61,1097.79 1171.39,1109.57 1162.99,1120.58 1151.67,1130.87 1137.68,1140.51 1121.28,1149.56 1102.72,1158.08 1082.26,1166.13 1060.14,1173.79 \n",
       "  1036.63,1181.09 1011.98,1188.12 986.441,1194.94 960.264,1201.59 933.707,1208.16 907.023,1214.69 880.466,1221.26 854.29,1227.91 828.749,1234.73 804.096,1241.76 \n",
       "  780.586,1249.07 758.473,1256.72 738.01,1264.77 719.452,1273.29 703.052,1282.34 689.065,1291.98 677.744,1302.27 669.343,1313.28 664.116,1325.06 662.317,1337.68 \n",
       "  \n",
       "  \"/>\n",
       "<polyline clip-path=\"url(#clip912)\" style=\"stroke:#000000; stroke-linecap:butt; stroke-linejoin:round; stroke-width:4; stroke-opacity:1; fill:none\" points=\"\n",
       "  1178.41,1085.17 1180.36,1094.97 1186.03,1104.12 1195.13,1112.66 1207.4,1120.65 1222.56,1128.14 1240.33,1135.16 1260.44,1141.78 1282.61,1148.04 1306.58,1153.98 \n",
       "  1332.05,1159.65 1358.77,1165.11 1386.45,1170.4 1414.81,1175.57 1443.59,1180.67 1472.51,1185.74 1501.28,1190.84 1529.65,1196 1557.33,1201.29 1584.04,1206.75 \n",
       "  1609.52,1212.43 1633.48,1218.37 1655.66,1224.62 1675.77,1231.24 1693.54,1238.27 1708.7,1245.75 1720.97,1253.74 1730.07,1262.29 1735.73,1271.44 1737.68,1281.24 \n",
       "  \n",
       "  \"/>\n",
       "<polyline clip-path=\"url(#clip912)\" style=\"stroke:#000000; stroke-linecap:butt; stroke-linejoin:round; stroke-width:4; stroke-opacity:1; fill:none\" points=\"\n",
       "  1178.41,1085.17 1177.32,1094.19 1174.16,1102.62 1169.07,1110.48 1162.21,1117.84 1153.74,1124.73 1143.81,1131.2 1132.57,1137.3 1120.17,1143.05 1106.78,1148.52 \n",
       "  1092.54,1153.75 1077.6,1158.78 1062.13,1163.65 1046.28,1168.41 1030.19,1173.1 1014.03,1177.77 997.945,1182.46 982.09,1187.22 966.62,1192.09 951.687,1197.12 \n",
       "  937.447,1202.35 924.053,1207.82 911.659,1213.58 900.418,1219.67 890.485,1226.14 882.012,1233.03 875.155,1240.39 870.067,1248.26 866.901,1256.68 865.811,1265.7 \n",
       "  \n",
       "  \"/>\n",
       "<polyline clip-path=\"url(#clip912)\" style=\"stroke:#000000; stroke-linecap:butt; stroke-linejoin:round; stroke-width:4; stroke-opacity:1; fill:none\" points=\"\n",
       "  1178.41,1085.17 1179.3,1095.07 1181.89,1104.39 1186.05,1113.16 1191.66,1121.43 1198.58,1129.24 1206.7,1136.64 1215.89,1143.66 1226.02,1150.36 1236.97,1156.77 \n",
       "  1248.61,1162.94 1260.82,1168.92 1273.47,1174.74 1286.43,1180.45 1299.58,1186.1 1312.79,1191.73 1325.94,1197.38 1338.9,1203.09 1351.55,1208.91 1363.75,1214.89 \n",
       "  1375.39,1221.06 1386.34,1227.47 1396.47,1234.17 1405.66,1241.2 1413.78,1248.59 1420.71,1256.4 1426.31,1264.67 1430.47,1273.44 1433.06,1282.76 1433.95,1292.66 \n",
       "  \n",
       "  \"/>\n",
       "<path clip-path=\"url(#clip912)\" d=\"\n",
       "M1011.96 262.317 L997.974 238.095 L970.005 238.095 L956.021 262.317 L970.005 286.539 L997.974 286.539 L1011.96 262.317 L1011.96 262.317  Z\n",
       "  \" fill=\"#009af9\" fill-rule=\"evenodd\" fill-opacity=\"1\"/>\n",
       "<polyline clip-path=\"url(#clip912)\" style=\"stroke:#000000; stroke-linecap:butt; stroke-linejoin:round; stroke-width:4; stroke-opacity:1; fill:none\" points=\"\n",
       "  1011.96,262.317 997.974,238.095 970.005,238.095 956.021,262.317 970.005,286.539 997.974,286.539 1011.96,262.317 \n",
       "  \"/>\n",
       "<path clip-path=\"url(#clip912)\" d=\"\n",
       "M1229.5 500.352 L1205.15 458.179 L1156.46 458.179 L1132.11 500.352 L1156.46 542.525 L1205.15 542.525 L1229.5 500.352 L1229.5 500.352  Z\n",
       "  \" fill=\"#009af9\" fill-rule=\"evenodd\" fill-opacity=\"1\"/>\n",
       "<polyline clip-path=\"url(#clip912)\" style=\"stroke:#000000; stroke-linecap:butt; stroke-linejoin:round; stroke-width:4; stroke-opacity:1; fill:none\" points=\"\n",
       "  1229.5,500.352 1205.15,458.179 1156.46,458.179 1132.11,500.352 1156.46,542.525 1205.15,542.525 1229.5,500.352 \n",
       "  \"/>\n",
       "<path clip-path=\"url(#clip912)\" d=\"\n",
       "M1202.33 795.436 L1184.73 764.946 L1149.52 764.946 L1131.92 795.436 L1149.52 825.926 L1184.73 825.926 L1202.33 795.436 L1202.33 795.436  Z\n",
       "  \" fill=\"#009af9\" fill-rule=\"evenodd\" fill-opacity=\"1\"/>\n",
       "<polyline clip-path=\"url(#clip912)\" style=\"stroke:#000000; stroke-linecap:butt; stroke-linejoin:round; stroke-width:4; stroke-opacity:1; fill:none\" points=\"\n",
       "  1202.33,795.436 1184.73,764.946 1149.52,764.946 1131.92,795.436 1149.52,825.926 1184.73,825.926 1202.33,795.436 \n",
       "  \"/>\n",
       "<path clip-path=\"url(#clip912)\" d=\"\n",
       "M1268.81 1085.17 L1223.61 1006.89 L1133.22 1006.89 L1088.02 1085.17 L1133.22 1163.45 L1223.61 1163.45 L1268.81 1085.17 L1268.81 1085.17  Z\n",
       "  \" fill=\"#009af9\" fill-rule=\"evenodd\" fill-opacity=\"1\"/>\n",
       "<polyline clip-path=\"url(#clip912)\" style=\"stroke:#000000; stroke-linecap:butt; stroke-linejoin:round; stroke-width:4; stroke-opacity:1; fill:none\" points=\"\n",
       "  1268.81,1085.17 1223.61,1006.89 1133.22,1006.89 1088.02,1085.17 1133.22,1163.45 1223.61,1163.45 1268.81,1085.17 \n",
       "  \"/>\n",
       "<path clip-path=\"url(#clip912)\" d=\"\n",
       "M723.616 1337.68 L692.967 1284.6 L631.668 1284.6 L601.018 1337.68 L631.668 1390.77 L692.967 1390.77 L723.616 1337.68 L723.616 1337.68  Z\n",
       "  \" fill=\"#009af9\" fill-rule=\"evenodd\" fill-opacity=\"1\"/>\n",
       "<polyline clip-path=\"url(#clip912)\" style=\"stroke:#000000; stroke-linecap:butt; stroke-linejoin:round; stroke-width:4; stroke-opacity:1; fill:none\" points=\"\n",
       "  723.616,1337.68 692.967,1284.6 631.668,1284.6 601.018,1337.68 631.668,1390.77 692.967,1390.77 723.616,1337.68 \n",
       "  \"/>\n",
       "<path clip-path=\"url(#clip912)\" d=\"\n",
       "M1792.77 1281.24 L1765.23 1233.53 L1710.14 1233.53 L1682.59 1281.24 L1710.14 1328.94 L1765.23 1328.94 L1792.77 1281.24 L1792.77 1281.24  Z\n",
       "  \" fill=\"#009af9\" fill-rule=\"evenodd\" fill-opacity=\"1\"/>\n",
       "<polyline clip-path=\"url(#clip912)\" style=\"stroke:#000000; stroke-linecap:butt; stroke-linejoin:round; stroke-width:4; stroke-opacity:1; fill:none\" points=\"\n",
       "  1792.77,1281.24 1765.23,1233.53 1710.14,1233.53 1682.59,1281.24 1710.14,1328.94 1765.23,1328.94 1792.77,1281.24 \n",
       "  \"/>\n",
       "<path clip-path=\"url(#clip912)\" d=\"\n",
       "M920.899 1265.7 L893.355 1218 L838.267 1218 L810.723 1265.7 L838.267 1313.41 L893.355 1313.41 L920.899 1265.7 L920.899 1265.7  Z\n",
       "  \" fill=\"#009af9\" fill-rule=\"evenodd\" fill-opacity=\"1\"/>\n",
       "<polyline clip-path=\"url(#clip912)\" style=\"stroke:#000000; stroke-linecap:butt; stroke-linejoin:round; stroke-width:4; stroke-opacity:1; fill:none\" points=\"\n",
       "  920.899,1265.7 893.355,1218 838.267,1218 810.723,1265.7 838.267,1313.41 893.355,1313.41 920.899,1265.7 \n",
       "  \"/>\n",
       "<path clip-path=\"url(#clip912)\" d=\"\n",
       "M1489.04 1292.66 L1461.5 1244.96 L1406.41 1244.96 L1378.86 1292.66 L1406.41 1340.37 L1461.5 1340.37 L1489.04 1292.66 L1489.04 1292.66  Z\n",
       "  \" fill=\"#009af9\" fill-rule=\"evenodd\" fill-opacity=\"1\"/>\n",
       "<polyline clip-path=\"url(#clip912)\" style=\"stroke:#000000; stroke-linecap:butt; stroke-linejoin:round; stroke-width:4; stroke-opacity:1; fill:none\" points=\"\n",
       "  1489.04,1292.66 1461.5,1244.96 1406.41,1244.96 1378.86,1292.66 1406.41,1340.37 1461.5,1340.37 1489.04,1292.66 \n",
       "  \"/>\n",
       "<circle clip-path=\"url(#clip912)\" style=\"fill:#009af9; stroke:none; fill-opacity:1\" cx=\"983.99\" cy=\"262.317\" r=\"2\"/>\n",
       "<circle clip-path=\"url(#clip912)\" style=\"fill:#009af9; stroke:none; fill-opacity:1\" cx=\"1180.81\" cy=\"500.352\" r=\"2\"/>\n",
       "<circle clip-path=\"url(#clip912)\" style=\"fill:#009af9; stroke:none; fill-opacity:1\" cx=\"1167.13\" cy=\"795.436\" r=\"2\"/>\n",
       "<circle clip-path=\"url(#clip912)\" style=\"fill:#009af9; stroke:none; fill-opacity:1\" cx=\"1178.41\" cy=\"1085.17\" r=\"2\"/>\n",
       "<circle clip-path=\"url(#clip912)\" style=\"fill:#009af9; stroke:none; fill-opacity:1\" cx=\"662.317\" cy=\"1337.68\" r=\"2\"/>\n",
       "<circle clip-path=\"url(#clip912)\" style=\"fill:#009af9; stroke:none; fill-opacity:1\" cx=\"1737.68\" cy=\"1281.24\" r=\"2\"/>\n",
       "<circle clip-path=\"url(#clip912)\" style=\"fill:#009af9; stroke:none; fill-opacity:1\" cx=\"865.811\" cy=\"1265.7\" r=\"2\"/>\n",
       "<circle clip-path=\"url(#clip912)\" style=\"fill:#009af9; stroke:none; fill-opacity:1\" cx=\"1433.95\" cy=\"1292.66\" r=\"2\"/>\n",
       "<path clip-path=\"url(#clip910)\" d=\"M969.719 255.98 L966.548 264.58 L972.902 264.58 L969.719 255.98 M968.399 253.677 L971.05 253.677 L977.635 270.957 L975.205 270.957 L973.631 266.524 L965.841 266.524 L964.267 270.957 L961.802 270.957 L968.399 253.677 Z\" fill=\"#000000\" fill-rule=\"evenodd\" fill-opacity=\"1\" /><path clip-path=\"url(#clip910)\" d=\"M990.841 263.133 L990.841 270.957 L988.712 270.957 L988.712 263.203 Q988.712 261.362 987.994 260.448 Q987.277 259.534 985.841 259.534 Q984.117 259.534 983.121 260.633 Q982.126 261.733 982.126 263.631 L982.126 270.957 L979.985 270.957 L979.985 257.994 L982.126 257.994 L982.126 260.008 Q982.89 258.839 983.92 258.261 Q984.962 257.682 986.316 257.682 Q988.55 257.682 989.696 259.071 Q990.841 260.448 990.841 263.133 Z\" fill=\"#000000\" fill-rule=\"evenodd\" fill-opacity=\"1\" /><path clip-path=\"url(#clip910)\" d=\"M1000.48 272.161 Q999.58 274.476 998.723 275.182 Q997.867 275.888 996.432 275.888 L994.73 275.888 L994.73 274.105 L995.98 274.105 Q996.86 274.105 997.346 273.689 Q997.832 273.272 998.422 271.721 L998.804 270.749 L993.561 257.994 L995.818 257.994 L999.869 268.133 L1003.92 257.994 L1006.18 257.994 L1000.48 272.161 Z\" fill=\"#000000\" fill-rule=\"evenodd\" fill-opacity=\"1\" /><path clip-path=\"url(#clip910)\" d=\"M1134.36 491.712 L1137.51 491.712 L1145.17 506.168 L1145.17 491.712 L1147.44 491.712 L1147.44 508.992 L1144.29 508.992 L1136.63 494.536 L1136.63 508.992 L1134.36 508.992 L1134.36 491.712 Z\" fill=\"#000000\" fill-rule=\"evenodd\" fill-opacity=\"1\" /><path clip-path=\"url(#clip910)\" d=\"M1151.78 503.876 L1151.78 496.029 L1153.91 496.029 L1153.91 503.795 Q1153.91 505.635 1154.63 506.561 Q1155.34 507.476 1156.78 507.476 Q1158.5 507.476 1159.5 506.376 Q1160.51 505.277 1160.51 503.378 L1160.51 496.029 L1162.64 496.029 L1162.64 508.992 L1160.51 508.992 L1160.51 507.001 Q1159.73 508.182 1158.7 508.76 Q1157.68 509.327 1156.33 509.327 Q1154.09 509.327 1152.94 507.939 Q1151.78 506.55 1151.78 503.876 M1157.14 495.716 L1157.14 495.716 Z\" fill=\"#000000\" fill-rule=\"evenodd\" fill-opacity=\"1\" /><path clip-path=\"url(#clip910)\" d=\"M1177.11 498.517 Q1177.91 497.082 1179.02 496.399 Q1180.14 495.716 1181.64 495.716 Q1183.67 495.716 1184.76 497.14 Q1185.86 498.552 1185.86 501.168 L1185.86 508.992 L1183.72 508.992 L1183.72 501.237 Q1183.72 499.374 1183.06 498.471 Q1182.4 497.568 1181.05 497.568 Q1179.39 497.568 1178.43 498.668 Q1177.47 499.767 1177.47 501.665 L1177.47 508.992 L1175.33 508.992 L1175.33 501.237 Q1175.33 499.362 1174.67 498.471 Q1174.01 497.568 1172.64 497.568 Q1171 497.568 1170.04 498.679 Q1169.08 499.779 1169.08 501.665 L1169.08 508.992 L1166.94 508.992 L1166.94 496.029 L1169.08 496.029 L1169.08 498.043 Q1169.81 496.851 1170.83 496.284 Q1171.85 495.716 1173.25 495.716 Q1174.66 495.716 1175.64 496.434 Q1176.64 497.152 1177.11 498.517 Z\" fill=\"#000000\" fill-rule=\"evenodd\" fill-opacity=\"1\" /><path clip-path=\"url(#clip910)\" d=\"M1199.42 502.522 Q1199.42 500.172 1198.45 498.841 Q1197.48 497.499 1195.79 497.499 Q1194.1 497.499 1193.13 498.841 Q1192.17 500.172 1192.17 502.522 Q1192.17 504.871 1193.13 506.214 Q1194.1 507.545 1195.79 507.545 Q1197.48 507.545 1198.45 506.214 Q1199.42 504.871 1199.42 502.522 M1192.17 497.997 Q1192.84 496.839 1193.86 496.284 Q1194.89 495.716 1196.32 495.716 Q1198.68 495.716 1200.15 497.591 Q1201.63 499.466 1201.63 502.522 Q1201.63 505.578 1200.15 507.452 Q1198.68 509.327 1196.32 509.327 Q1194.89 509.327 1193.86 508.772 Q1192.84 508.205 1192.17 507.047 L1192.17 508.992 L1190.03 508.992 L1190.03 490.983 L1192.17 490.983 L1192.17 497.997 Z\" fill=\"#000000\" fill-rule=\"evenodd\" fill-opacity=\"1\" /><path clip-path=\"url(#clip910)\" d=\"M1216.25 501.978 L1216.25 503.02 L1206.45 503.02 Q1206.59 505.219 1207.77 506.376 Q1208.97 507.522 1211.08 507.522 Q1212.31 507.522 1213.46 507.221 Q1214.61 506.92 1215.75 506.318 L1215.75 508.332 Q1214.6 508.818 1213.4 509.073 Q1212.2 509.327 1210.96 509.327 Q1207.85 509.327 1206.04 507.522 Q1204.23 505.716 1204.23 502.638 Q1204.23 499.455 1205.95 497.591 Q1207.67 495.716 1210.59 495.716 Q1213.2 495.716 1214.72 497.406 Q1216.25 499.084 1216.25 501.978 M1214.12 501.353 Q1214.09 499.605 1213.13 498.564 Q1212.18 497.522 1210.61 497.522 Q1208.83 497.522 1207.75 498.529 Q1206.69 499.536 1206.52 501.365 L1214.12 501.353 Z\" fill=\"#000000\" fill-rule=\"evenodd\" fill-opacity=\"1\" /><path clip-path=\"url(#clip910)\" d=\"M1227.25 498.02 Q1226.89 497.811 1226.47 497.719 Q1226.05 497.615 1225.54 497.615 Q1223.73 497.615 1222.76 498.795 Q1221.8 499.964 1221.8 502.163 L1221.8 508.992 L1219.66 508.992 L1219.66 496.029 L1221.8 496.029 L1221.8 498.043 Q1222.47 496.862 1223.55 496.295 Q1224.63 495.716 1226.16 495.716 Q1226.38 495.716 1226.65 495.751 Q1226.92 495.774 1227.24 495.832 L1227.25 498.02 Z\" fill=\"#000000\" fill-rule=\"evenodd\" fill-opacity=\"1\" /><path clip-path=\"url(#clip910)\" d=\"M1152.04 795.974 Q1152.8 796.229 1153.5 797.062 Q1154.22 797.896 1154.94 799.354 L1157.31 804.076 L1154.8 804.076 L1152.59 799.643 Q1151.73 797.907 1150.92 797.34 Q1150.12 796.773 1148.73 796.773 L1146.19 796.773 L1146.19 804.076 L1143.85 804.076 L1143.85 786.796 L1149.13 786.796 Q1152.09 786.796 1153.55 788.035 Q1155.01 789.273 1155.01 791.773 Q1155.01 793.405 1154.24 794.481 Q1153.49 795.558 1152.04 795.974 M1146.19 788.717 L1146.19 794.852 L1149.13 794.852 Q1150.82 794.852 1151.67 794.076 Q1152.54 793.289 1152.54 791.773 Q1152.54 790.257 1151.67 789.493 Q1150.82 788.717 1149.13 788.717 L1146.19 788.717 Z\" fill=\"#000000\" fill-rule=\"evenodd\" fill-opacity=\"1\" /><path clip-path=\"url(#clip910)\" d=\"M1170.25 797.062 L1170.25 798.104 L1160.46 798.104 Q1160.6 800.303 1161.78 801.46 Q1162.97 802.606 1165.09 802.606 Q1166.32 802.606 1167.46 802.305 Q1168.62 802.004 1169.75 801.403 L1169.75 803.416 Q1168.61 803.902 1167.4 804.157 Q1166.2 804.412 1164.96 804.412 Q1161.86 804.412 1160.04 802.606 Q1158.24 800.801 1158.24 797.722 Q1158.24 794.539 1159.95 792.676 Q1161.67 790.801 1164.59 790.801 Q1167.21 790.801 1168.72 792.491 Q1170.25 794.169 1170.25 797.062 M1168.12 796.437 Q1168.1 794.69 1167.14 793.648 Q1166.19 792.606 1164.61 792.606 Q1162.83 792.606 1161.76 793.613 Q1160.69 794.62 1160.53 796.449 L1168.12 796.437 Z\" fill=\"#000000\" fill-rule=\"evenodd\" fill-opacity=\"1\" /><path clip-path=\"url(#clip910)\" d=\"M1179.64 797.56 Q1177.06 797.56 1176.06 798.15 Q1175.07 798.74 1175.07 800.164 Q1175.07 801.298 1175.81 801.97 Q1176.56 802.629 1177.84 802.629 Q1179.61 802.629 1180.68 801.379 Q1181.75 800.118 1181.75 798.034 L1181.75 797.56 L1179.64 797.56 M1183.88 796.68 L1183.88 804.076 L1181.75 804.076 L1181.75 802.109 Q1181.03 803.289 1179.94 803.856 Q1178.85 804.412 1177.28 804.412 Q1175.29 804.412 1174.1 803.301 Q1172.94 802.178 1172.94 800.303 Q1172.94 798.115 1174.39 797.004 Q1175.86 795.893 1178.77 795.893 L1181.75 795.893 L1181.75 795.685 Q1181.75 794.215 1180.78 793.416 Q1179.82 792.606 1178.07 792.606 Q1176.96 792.606 1175.91 792.872 Q1174.86 793.139 1173.88 793.671 L1173.88 791.703 Q1175.05 791.252 1176.15 791.032 Q1177.25 790.801 1178.29 790.801 Q1181.11 790.801 1182.5 792.259 Q1183.88 793.717 1183.88 796.68 Z\" fill=\"#000000\" fill-rule=\"evenodd\" fill-opacity=\"1\" /><path clip-path=\"url(#clip910)\" d=\"M1188.27 786.067 L1190.4 786.067 L1190.4 804.076 L1188.27 804.076 L1188.27 786.067 Z\" fill=\"#000000\" fill-rule=\"evenodd\" fill-opacity=\"1\" /><path clip-path=\"url(#clip910)\" d=\"M1107.68 1078.83 L1104.51 1087.43 L1110.87 1087.43 L1107.68 1078.83 M1106.37 1076.53 L1109.02 1076.53 L1115.6 1093.81 L1113.17 1093.81 L1111.6 1089.38 L1103.81 1089.38 L1102.23 1093.81 L1099.77 1093.81 L1106.37 1076.53 Z\" fill=\"#000000\" fill-rule=\"evenodd\" fill-opacity=\"1\" /><path clip-path=\"url(#clip910)\" d=\"M1127.34 1087.34 Q1127.34 1084.99 1126.36 1083.66 Q1125.4 1082.32 1123.71 1082.32 Q1122.02 1082.32 1121.05 1083.66 Q1120.09 1084.99 1120.09 1087.34 Q1120.09 1089.69 1121.05 1091.03 Q1122.02 1092.36 1123.71 1092.36 Q1125.4 1092.36 1126.36 1091.03 Q1127.34 1089.69 1127.34 1087.34 M1120.09 1082.81 Q1120.76 1081.66 1121.78 1081.1 Q1122.81 1080.53 1124.24 1080.53 Q1126.6 1080.53 1128.07 1082.41 Q1129.55 1084.28 1129.55 1087.34 Q1129.55 1090.39 1128.07 1092.27 Q1126.6 1094.14 1124.24 1094.14 Q1122.81 1094.14 1121.78 1093.59 Q1120.76 1093.02 1120.09 1091.86 L1120.09 1093.81 L1117.95 1093.81 L1117.95 1075.8 L1120.09 1075.8 L1120.09 1082.81 Z\" fill=\"#000000\" fill-rule=\"evenodd\" fill-opacity=\"1\" /><path clip-path=\"url(#clip910)\" d=\"M1141.34 1081.23 L1141.34 1083.24 Q1140.44 1082.78 1139.47 1082.55 Q1138.49 1082.32 1137.45 1082.32 Q1135.87 1082.32 1135.07 1082.8 Q1134.28 1083.29 1134.28 1084.26 Q1134.28 1085 1134.85 1085.43 Q1135.42 1085.85 1137.13 1086.23 L1137.86 1086.39 Q1140.13 1086.88 1141.08 1087.77 Q1142.04 1088.65 1142.04 1090.23 Q1142.04 1092.04 1140.6 1093.09 Q1139.18 1094.14 1136.68 1094.14 Q1135.64 1094.14 1134.5 1093.94 Q1133.38 1093.74 1132.13 1093.33 L1132.13 1091.13 Q1133.31 1091.75 1134.46 1092.06 Q1135.6 1092.36 1136.72 1092.36 Q1138.23 1092.36 1139.04 1091.85 Q1139.85 1091.33 1139.85 1090.39 Q1139.85 1089.53 1139.26 1089.06 Q1138.68 1088.6 1136.7 1088.17 L1135.96 1088 Q1133.98 1087.58 1133.1 1086.73 Q1132.22 1085.86 1132.22 1084.35 Q1132.22 1082.52 1133.52 1081.53 Q1134.81 1080.53 1137.2 1080.53 Q1138.38 1080.53 1139.42 1080.71 Q1140.46 1080.88 1141.34 1081.23 Z\" fill=\"#000000\" fill-rule=\"evenodd\" fill-opacity=\"1\" /><path clip-path=\"url(#clip910)\" d=\"M1147.53 1077.16 L1147.53 1080.85 L1151.92 1080.85 L1151.92 1082.5 L1147.53 1082.5 L1147.53 1089.54 Q1147.53 1091.12 1147.96 1091.57 Q1148.4 1092.03 1149.73 1092.03 L1151.92 1092.03 L1151.92 1093.81 L1149.73 1093.81 Q1147.27 1093.81 1146.33 1092.89 Q1145.39 1091.97 1145.39 1089.54 L1145.39 1082.5 L1143.83 1082.5 L1143.83 1080.85 L1145.39 1080.85 L1145.39 1077.16 L1147.53 1077.16 Z\" fill=\"#000000\" fill-rule=\"evenodd\" fill-opacity=\"1\" /><path clip-path=\"url(#clip910)\" d=\"M1162.23 1082.84 Q1161.87 1082.63 1161.45 1082.54 Q1161.03 1082.43 1160.52 1082.43 Q1158.71 1082.43 1157.74 1083.61 Q1156.78 1084.78 1156.78 1086.98 L1156.78 1093.81 L1154.64 1093.81 L1154.64 1080.85 L1156.78 1080.85 L1156.78 1082.86 Q1157.45 1081.68 1158.53 1081.11 Q1159.61 1080.53 1161.14 1080.53 Q1161.36 1080.53 1161.63 1080.57 Q1161.9 1080.59 1162.22 1080.65 L1162.23 1082.84 Z\" fill=\"#000000\" fill-rule=\"evenodd\" fill-opacity=\"1\" /><path clip-path=\"url(#clip910)\" d=\"M1170.36 1087.29 Q1167.78 1087.29 1166.78 1087.88 Q1165.79 1088.47 1165.79 1089.9 Q1165.79 1091.03 1166.53 1091.7 Q1167.28 1092.36 1168.56 1092.36 Q1170.33 1092.36 1171.4 1091.11 Q1172.48 1089.85 1172.48 1087.77 L1172.48 1087.29 L1170.36 1087.29 M1174.61 1086.41 L1174.61 1093.81 L1172.48 1093.81 L1172.48 1091.84 Q1171.75 1093.02 1170.66 1093.59 Q1169.57 1094.14 1168 1094.14 Q1166.01 1094.14 1164.83 1093.03 Q1163.66 1091.91 1163.66 1090.04 Q1163.66 1087.85 1165.11 1086.74 Q1166.58 1085.63 1169.49 1085.63 L1172.48 1085.63 L1172.48 1085.42 Q1172.48 1083.95 1171.5 1083.15 Q1170.54 1082.34 1168.8 1082.34 Q1167.68 1082.34 1166.63 1082.6 Q1165.58 1082.87 1164.61 1083.4 L1164.61 1081.44 Q1165.77 1080.98 1166.87 1080.76 Q1167.97 1080.53 1169.02 1080.53 Q1171.83 1080.53 1173.22 1081.99 Q1174.61 1083.45 1174.61 1086.41 Z\" fill=\"#000000\" fill-rule=\"evenodd\" fill-opacity=\"1\" /><path clip-path=\"url(#clip910)\" d=\"M1188.32 1081.34 L1188.32 1083.33 Q1187.42 1082.84 1186.5 1082.59 Q1185.6 1082.34 1184.67 1082.34 Q1182.6 1082.34 1181.46 1083.66 Q1180.31 1084.97 1180.31 1087.34 Q1180.31 1089.71 1181.46 1091.03 Q1182.6 1092.34 1184.67 1092.34 Q1185.6 1092.34 1186.5 1092.1 Q1187.42 1091.84 1188.32 1091.34 L1188.32 1093.31 Q1187.43 1093.73 1186.47 1093.94 Q1185.52 1094.14 1184.44 1094.14 Q1181.52 1094.14 1179.79 1092.3 Q1178.07 1090.46 1178.07 1087.34 Q1178.07 1084.17 1179.8 1082.35 Q1181.55 1080.53 1184.58 1080.53 Q1185.57 1080.53 1186.5 1080.74 Q1187.44 1080.94 1188.32 1081.34 Z\" fill=\"#000000\" fill-rule=\"evenodd\" fill-opacity=\"1\" /><path clip-path=\"url(#clip910)\" d=\"M1194.13 1077.16 L1194.13 1080.85 L1198.52 1080.85 L1198.52 1082.5 L1194.13 1082.5 L1194.13 1089.54 Q1194.13 1091.12 1194.56 1091.57 Q1195 1092.03 1196.33 1092.03 L1198.52 1092.03 L1198.52 1093.81 L1196.33 1093.81 Q1193.86 1093.81 1192.93 1092.89 Q1191.99 1091.97 1191.99 1089.54 L1191.99 1082.5 L1190.43 1082.5 L1190.43 1080.85 L1191.99 1080.85 L1191.99 1077.16 L1194.13 1077.16 Z\" fill=\"#000000\" fill-rule=\"evenodd\" fill-opacity=\"1\" /><path clip-path=\"url(#clip910)\" d=\"M1201.41 1076.53 L1211.34 1076.53 L1211.34 1078.5 L1203.75 1078.5 L1203.75 1083.59 L1210.6 1083.59 L1210.6 1085.56 L1203.75 1085.56 L1203.75 1093.81 L1201.41 1093.81 L1201.41 1076.53 Z\" fill=\"#000000\" fill-rule=\"evenodd\" fill-opacity=\"1\" /><path clip-path=\"url(#clip910)\" d=\"M1214.95 1075.8 L1217.08 1075.8 L1217.08 1093.81 L1214.95 1093.81 L1214.95 1075.8 Z\" fill=\"#000000\" fill-rule=\"evenodd\" fill-opacity=\"1\" /><path clip-path=\"url(#clip910)\" d=\"M1226.56 1082.34 Q1224.85 1082.34 1223.85 1083.68 Q1222.86 1085.01 1222.86 1087.34 Q1222.86 1089.66 1223.84 1091.01 Q1224.84 1092.34 1226.56 1092.34 Q1228.26 1092.34 1229.26 1091 Q1230.25 1089.65 1230.25 1087.34 Q1230.25 1085.04 1229.26 1083.69 Q1228.26 1082.34 1226.56 1082.34 M1226.56 1080.53 Q1229.34 1080.53 1230.92 1082.34 Q1232.51 1084.14 1232.51 1087.34 Q1232.51 1090.52 1230.92 1092.34 Q1229.34 1094.14 1226.56 1094.14 Q1223.77 1094.14 1222.19 1092.34 Q1220.61 1090.52 1220.61 1087.34 Q1220.61 1084.14 1222.19 1082.34 Q1223.77 1080.53 1226.56 1080.53 Z\" fill=\"#000000\" fill-rule=\"evenodd\" fill-opacity=\"1\" /><path clip-path=\"url(#clip910)\" d=\"M1241.93 1087.29 Q1239.35 1087.29 1238.36 1087.88 Q1237.36 1088.47 1237.36 1089.9 Q1237.36 1091.03 1238.1 1091.7 Q1238.85 1092.36 1240.14 1092.36 Q1241.91 1092.36 1242.97 1091.11 Q1244.05 1089.85 1244.05 1087.77 L1244.05 1087.29 L1241.93 1087.29 M1246.18 1086.41 L1246.18 1093.81 L1244.05 1093.81 L1244.05 1091.84 Q1243.32 1093.02 1242.23 1093.59 Q1241.14 1094.14 1239.57 1094.14 Q1237.58 1094.14 1236.4 1093.03 Q1235.23 1091.91 1235.23 1090.04 Q1235.23 1087.85 1236.69 1086.74 Q1238.16 1085.63 1241.06 1085.63 L1244.05 1085.63 L1244.05 1085.42 Q1244.05 1083.95 1243.08 1083.15 Q1242.12 1082.34 1240.37 1082.34 Q1239.26 1082.34 1238.2 1082.6 Q1237.15 1082.87 1236.18 1083.4 L1236.18 1081.44 Q1237.35 1080.98 1238.45 1080.76 Q1239.55 1080.53 1240.59 1080.53 Q1243.4 1080.53 1244.79 1081.99 Q1246.18 1083.45 1246.18 1086.41 Z\" fill=\"#000000\" fill-rule=\"evenodd\" fill-opacity=\"1\" /><path clip-path=\"url(#clip910)\" d=\"M1252.67 1077.16 L1252.67 1080.85 L1257.06 1080.85 L1257.06 1082.5 L1252.67 1082.5 L1252.67 1089.54 Q1252.67 1091.12 1253.1 1091.57 Q1253.54 1092.03 1254.87 1092.03 L1257.06 1092.03 L1257.06 1093.81 L1254.87 1093.81 Q1252.41 1093.81 1251.47 1092.89 Q1250.53 1091.97 1250.53 1089.54 L1250.53 1082.5 L1248.97 1082.5 L1248.97 1080.85 L1250.53 1080.85 L1250.53 1077.16 L1252.67 1077.16 Z\" fill=\"#000000\" fill-rule=\"evenodd\" fill-opacity=\"1\" /><path clip-path=\"url(#clip910)\" d=\"M617.885 1338.07 L617.885 1344.4 L621.635 1344.4 Q623.521 1344.4 624.424 1343.63 Q625.338 1342.84 625.338 1341.23 Q625.338 1339.61 624.424 1338.85 Q623.521 1338.07 621.635 1338.07 L617.885 1338.07 M617.885 1330.96 L617.885 1336.17 L621.345 1336.17 Q623.058 1336.17 623.891 1335.54 Q624.736 1334.89 624.736 1333.57 Q624.736 1332.26 623.891 1331.61 Q623.058 1330.96 621.345 1330.96 L617.885 1330.96 M615.547 1329.04 L621.519 1329.04 Q624.192 1329.04 625.639 1330.15 Q627.086 1331.26 627.086 1333.31 Q627.086 1334.9 626.345 1335.84 Q625.604 1336.77 624.169 1337.01 Q625.894 1337.38 626.843 1338.56 Q627.804 1339.73 627.804 1341.48 Q627.804 1343.8 626.229 1345.06 Q624.655 1346.32 621.75 1346.32 L615.547 1346.32 L615.547 1329.04 Z\" fill=\"#000000\" fill-rule=\"evenodd\" fill-opacity=\"1\" /><path clip-path=\"url(#clip910)\" d=\"M631.716 1333.36 L633.845 1333.36 L633.845 1346.32 L631.716 1346.32 L631.716 1333.36 M631.716 1328.31 L633.845 1328.31 L633.845 1331.01 L631.716 1331.01 L631.716 1328.31 Z\" fill=\"#000000\" fill-rule=\"evenodd\" fill-opacity=\"1\" /><path clip-path=\"url(#clip910)\" d=\"M646.831 1339.69 Q646.831 1337.38 645.871 1336.1 Q644.921 1334.83 643.197 1334.83 Q641.484 1334.83 640.523 1336.1 Q639.574 1337.38 639.574 1339.69 Q639.574 1341.99 640.523 1343.27 Q641.484 1344.54 643.197 1344.54 Q644.921 1344.54 645.871 1343.27 Q646.831 1341.99 646.831 1339.69 M648.961 1344.71 Q648.961 1348.02 647.491 1349.63 Q646.021 1351.25 642.989 1351.25 Q641.866 1351.25 640.871 1351.08 Q639.875 1350.92 638.938 1350.57 L638.938 1348.5 Q639.875 1349.01 640.79 1349.25 Q641.704 1349.49 642.653 1349.49 Q644.748 1349.49 645.79 1348.39 Q646.831 1347.31 646.831 1345.1 L646.831 1344.04 Q646.171 1345.19 645.141 1345.76 Q644.111 1346.32 642.676 1346.32 Q640.292 1346.32 638.834 1344.51 Q637.375 1342.69 637.375 1339.69 Q637.375 1336.68 638.834 1334.86 Q640.292 1333.05 642.676 1333.05 Q644.111 1333.05 645.141 1333.61 Q646.171 1334.18 646.831 1335.33 L646.831 1333.36 L648.961 1333.36 L648.961 1344.71 Z\" fill=\"#000000\" fill-rule=\"evenodd\" fill-opacity=\"1\" /><path clip-path=\"url(#clip910)\" d=\"M653.44 1329.04 L663.37 1329.04 L663.37 1331.01 L655.778 1331.01 L655.778 1336.1 L662.63 1336.1 L662.63 1338.07 L655.778 1338.07 L655.778 1346.32 L653.44 1346.32 L653.44 1329.04 Z\" fill=\"#000000\" fill-rule=\"evenodd\" fill-opacity=\"1\" /><path clip-path=\"url(#clip910)\" d=\"M666.982 1328.31 L669.111 1328.31 L669.111 1346.32 L666.982 1346.32 L666.982 1328.31 Z\" fill=\"#000000\" fill-rule=\"evenodd\" fill-opacity=\"1\" /><path clip-path=\"url(#clip910)\" d=\"M678.59 1334.85 Q676.877 1334.85 675.882 1336.2 Q674.887 1337.53 674.887 1339.85 Q674.887 1342.18 675.87 1343.52 Q676.866 1344.85 678.59 1344.85 Q680.292 1344.85 681.287 1343.51 Q682.282 1342.17 682.282 1339.85 Q682.282 1337.55 681.287 1336.21 Q680.292 1334.85 678.59 1334.85 M678.59 1333.05 Q681.368 1333.05 682.954 1334.85 Q684.539 1336.66 684.539 1339.85 Q684.539 1343.04 682.954 1344.85 Q681.368 1346.66 678.59 1346.66 Q675.801 1346.66 674.215 1344.85 Q672.641 1343.04 672.641 1339.85 Q672.641 1336.66 674.215 1334.85 Q675.801 1333.05 678.59 1333.05 Z\" fill=\"#000000\" fill-rule=\"evenodd\" fill-opacity=\"1\" /><path clip-path=\"url(#clip910)\" d=\"M693.961 1339.81 Q691.38 1339.81 690.384 1340.4 Q689.389 1340.99 689.389 1342.41 Q689.389 1343.55 690.13 1344.22 Q690.882 1344.88 692.167 1344.88 Q693.937 1344.88 695.002 1343.63 Q696.079 1342.36 696.079 1340.28 L696.079 1339.81 L693.961 1339.81 M698.208 1338.93 L698.208 1346.32 L696.079 1346.32 L696.079 1344.36 Q695.349 1345.54 694.261 1346.1 Q693.174 1346.66 691.599 1346.66 Q689.609 1346.66 688.428 1345.55 Q687.259 1344.42 687.259 1342.55 Q687.259 1340.36 688.718 1339.25 Q690.187 1338.14 693.093 1338.14 L696.079 1338.14 L696.079 1337.93 Q696.079 1336.46 695.106 1335.66 Q694.146 1334.85 692.398 1334.85 Q691.287 1334.85 690.234 1335.12 Q689.18 1335.39 688.208 1335.92 L688.208 1333.95 Q689.377 1333.5 690.477 1333.28 Q691.576 1333.05 692.618 1333.05 Q695.43 1333.05 696.819 1334.51 Q698.208 1335.96 698.208 1338.93 Z\" fill=\"#000000\" fill-rule=\"evenodd\" fill-opacity=\"1\" /><path clip-path=\"url(#clip910)\" d=\"M704.701 1329.68 L704.701 1333.36 L709.088 1333.36 L709.088 1335.01 L704.701 1335.01 L704.701 1342.05 Q704.701 1343.64 705.129 1344.09 Q705.569 1344.54 706.9 1344.54 L709.088 1344.54 L709.088 1346.32 L706.9 1346.32 Q704.435 1346.32 703.498 1345.41 Q702.56 1344.48 702.56 1342.05 L702.56 1335.01 L700.998 1335.01 L700.998 1333.36 L702.56 1333.36 L702.56 1329.68 L704.701 1329.68 Z\" fill=\"#000000\" fill-rule=\"evenodd\" fill-opacity=\"1\" /><path clip-path=\"url(#clip910)\" d=\"M1695.24 1272.6 L1705.17 1272.6 L1705.17 1274.56 L1697.58 1274.56 L1697.58 1279.66 L1704.43 1279.66 L1704.43 1281.62 L1697.58 1281.62 L1697.58 1289.88 L1695.24 1289.88 L1695.24 1272.6 Z\" fill=\"#000000\" fill-rule=\"evenodd\" fill-opacity=\"1\" /><path clip-path=\"url(#clip910)\" d=\"M1708.78 1271.87 L1710.91 1271.87 L1710.91 1289.88 L1708.78 1289.88 L1708.78 1271.87 Z\" fill=\"#000000\" fill-rule=\"evenodd\" fill-opacity=\"1\" /><path clip-path=\"url(#clip910)\" d=\"M1720.39 1278.41 Q1718.68 1278.41 1717.68 1279.75 Q1716.69 1281.08 1716.69 1283.41 Q1716.69 1285.73 1717.67 1287.08 Q1718.67 1288.41 1720.39 1288.41 Q1722.09 1288.41 1723.09 1287.06 Q1724.08 1285.72 1724.08 1283.41 Q1724.08 1281.1 1723.09 1279.76 Q1722.09 1278.41 1720.39 1278.41 M1720.39 1276.6 Q1723.17 1276.6 1724.75 1278.41 Q1726.34 1280.21 1726.34 1283.41 Q1726.34 1286.59 1724.75 1288.41 Q1723.17 1290.21 1720.39 1290.21 Q1717.6 1290.21 1716.02 1288.41 Q1714.44 1286.59 1714.44 1283.41 Q1714.44 1280.21 1716.02 1278.41 Q1717.6 1276.6 1720.39 1276.6 Z\" fill=\"#000000\" fill-rule=\"evenodd\" fill-opacity=\"1\" /><path clip-path=\"url(#clip910)\" d=\"M1735.76 1283.36 Q1733.18 1283.36 1732.19 1283.95 Q1731.19 1284.54 1731.19 1285.96 Q1731.19 1287.1 1731.93 1287.77 Q1732.68 1288.43 1733.97 1288.43 Q1735.74 1288.43 1736.8 1287.18 Q1737.88 1285.92 1737.88 1283.84 L1737.88 1283.36 L1735.76 1283.36 M1740.01 1282.48 L1740.01 1289.88 L1737.88 1289.88 L1737.88 1287.91 Q1737.15 1289.09 1736.06 1289.66 Q1734.97 1290.21 1733.4 1290.21 Q1731.41 1290.21 1730.23 1289.1 Q1729.06 1287.98 1729.06 1286.1 Q1729.06 1283.92 1730.52 1282.8 Q1731.99 1281.69 1734.89 1281.69 L1737.88 1281.69 L1737.88 1281.49 Q1737.88 1280.02 1736.91 1279.22 Q1735.95 1278.41 1734.2 1278.41 Q1733.09 1278.41 1732.03 1278.67 Q1730.98 1278.94 1730.01 1279.47 L1730.01 1277.5 Q1731.18 1277.05 1732.28 1276.83 Q1733.38 1276.6 1734.42 1276.6 Q1737.23 1276.6 1738.62 1278.06 Q1740.01 1279.52 1740.01 1282.48 Z\" fill=\"#000000\" fill-rule=\"evenodd\" fill-opacity=\"1\" /><path clip-path=\"url(#clip910)\" d=\"M1746.5 1273.23 L1746.5 1276.91 L1750.89 1276.91 L1750.89 1278.57 L1746.5 1278.57 L1746.5 1285.61 Q1746.5 1287.19 1746.93 1287.64 Q1747.37 1288.09 1748.7 1288.09 L1750.89 1288.09 L1750.89 1289.88 L1748.7 1289.88 Q1746.24 1289.88 1745.3 1288.96 Q1744.36 1288.04 1744.36 1285.61 L1744.36 1278.57 L1742.8 1278.57 L1742.8 1276.91 L1744.36 1276.91 L1744.36 1273.23 L1746.5 1273.23 Z\" fill=\"#000000\" fill-rule=\"evenodd\" fill-opacity=\"1\" /><path clip-path=\"url(#clip910)\" d=\"M1754.4 1287.91 L1758.22 1287.91 L1758.22 1274.73 L1754.06 1275.56 L1754.06 1273.43 L1758.19 1272.6 L1760.53 1272.6 L1760.53 1287.91 L1764.35 1287.91 L1764.35 1289.88 L1754.4 1289.88 L1754.4 1287.91 Z\" fill=\"#000000\" fill-rule=\"evenodd\" fill-opacity=\"1\" /><path clip-path=\"url(#clip910)\" d=\"M1774.36 1280.3 Q1772.79 1280.3 1771.86 1281.38 Q1770.95 1282.46 1770.95 1284.33 Q1770.95 1286.2 1771.86 1287.28 Q1772.79 1288.36 1774.36 1288.36 Q1775.93 1288.36 1776.85 1287.28 Q1777.78 1286.2 1777.78 1284.33 Q1777.78 1282.46 1776.85 1281.38 Q1775.93 1280.3 1774.36 1280.3 M1779 1272.98 L1779 1275.11 Q1778.12 1274.69 1777.22 1274.47 Q1776.33 1274.25 1775.45 1274.25 Q1773.13 1274.25 1771.91 1275.81 Q1770.69 1277.38 1770.52 1280.54 Q1771.2 1279.53 1772.23 1279 Q1773.26 1278.45 1774.5 1278.45 Q1777.1 1278.45 1778.61 1280.04 Q1780.12 1281.61 1780.12 1284.33 Q1780.12 1286.99 1778.55 1288.6 Q1776.98 1290.21 1774.36 1290.21 Q1771.36 1290.21 1769.78 1287.92 Q1768.19 1285.62 1768.19 1281.25 Q1768.19 1277.16 1770.14 1274.73 Q1772.08 1272.28 1775.36 1272.28 Q1776.24 1272.28 1777.13 1272.46 Q1778.03 1272.63 1779 1272.98 Z\" fill=\"#000000\" fill-rule=\"evenodd\" fill-opacity=\"1\" /><path clip-path=\"url(#clip910)\" d=\"M823.809 1257.06 L833.74 1257.06 L833.74 1259.03 L826.147 1259.03 L826.147 1264.12 L832.999 1264.12 L832.999 1266.09 L826.147 1266.09 L826.147 1274.34 L823.809 1274.34 L823.809 1257.06 Z\" fill=\"#000000\" fill-rule=\"evenodd\" fill-opacity=\"1\" /><path clip-path=\"url(#clip910)\" d=\"M837.351 1256.33 L839.48 1256.33 L839.48 1274.34 L837.351 1274.34 L837.351 1256.33 Z\" fill=\"#000000\" fill-rule=\"evenodd\" fill-opacity=\"1\" /><path clip-path=\"url(#clip910)\" d=\"M848.96 1262.87 Q847.247 1262.87 846.251 1264.22 Q845.256 1265.55 845.256 1267.87 Q845.256 1270.2 846.24 1271.54 Q847.235 1272.87 848.96 1272.87 Q850.661 1272.87 851.656 1271.53 Q852.652 1270.19 852.652 1267.87 Q852.652 1265.57 851.656 1264.23 Q850.661 1262.87 848.96 1262.87 M848.96 1261.07 Q851.737 1261.07 853.323 1262.87 Q854.909 1264.68 854.909 1267.87 Q854.909 1271.06 853.323 1272.87 Q851.737 1274.68 848.96 1274.68 Q846.17 1274.68 844.585 1272.87 Q843.01 1271.06 843.01 1267.87 Q843.01 1264.68 844.585 1262.87 Q846.17 1261.07 848.96 1261.07 Z\" fill=\"#000000\" fill-rule=\"evenodd\" fill-opacity=\"1\" /><path clip-path=\"url(#clip910)\" d=\"M864.33 1267.83 Q861.749 1267.83 860.753 1268.42 Q859.758 1269.01 859.758 1270.43 Q859.758 1271.57 860.499 1272.24 Q861.251 1272.9 862.536 1272.9 Q864.307 1272.9 865.371 1271.65 Q866.448 1270.39 866.448 1268.3 L866.448 1267.83 L864.33 1267.83 M868.577 1266.95 L868.577 1274.34 L866.448 1274.34 L866.448 1272.38 Q865.719 1273.56 864.631 1274.12 Q863.543 1274.68 861.969 1274.68 Q859.978 1274.68 858.797 1273.57 Q857.628 1272.45 857.628 1270.57 Q857.628 1268.38 859.087 1267.27 Q860.557 1266.16 863.462 1266.16 L866.448 1266.16 L866.448 1265.95 Q866.448 1264.48 865.476 1263.68 Q864.515 1262.87 862.767 1262.87 Q861.656 1262.87 860.603 1263.14 Q859.55 1263.41 858.578 1263.94 L858.578 1261.97 Q859.747 1261.52 860.846 1261.3 Q861.946 1261.07 862.987 1261.07 Q865.8 1261.07 867.189 1262.53 Q868.577 1263.98 868.577 1266.95 Z\" fill=\"#000000\" fill-rule=\"evenodd\" fill-opacity=\"1\" /><path clip-path=\"url(#clip910)\" d=\"M875.07 1257.7 L875.07 1261.38 L879.457 1261.38 L879.457 1263.04 L875.07 1263.04 L875.07 1270.07 Q875.07 1271.66 875.499 1272.11 Q875.939 1272.56 877.27 1272.56 L879.457 1272.56 L879.457 1274.34 L877.27 1274.34 Q874.804 1274.34 873.867 1273.43 Q872.929 1272.5 872.929 1270.07 L872.929 1263.04 L871.367 1263.04 L871.367 1261.38 L872.929 1261.38 L872.929 1257.7 L875.07 1257.7 Z\" fill=\"#000000\" fill-rule=\"evenodd\" fill-opacity=\"1\" /><path clip-path=\"url(#clip910)\" d=\"M889.642 1265.03 Q891.32 1265.39 892.258 1266.52 Q893.207 1267.65 893.207 1269.32 Q893.207 1271.88 891.448 1273.28 Q889.688 1274.68 886.448 1274.68 Q885.36 1274.68 884.202 1274.46 Q883.057 1274.25 881.83 1273.82 L881.83 1271.57 Q882.802 1272.13 883.959 1272.42 Q885.117 1272.71 886.378 1272.71 Q888.577 1272.71 889.723 1271.84 Q890.881 1270.98 890.881 1269.32 Q890.881 1267.79 889.804 1266.94 Q888.739 1266.07 886.83 1266.07 L884.816 1266.07 L884.816 1264.15 L886.922 1264.15 Q888.647 1264.15 889.561 1263.46 Q890.476 1262.77 890.476 1261.47 Q890.476 1260.14 889.526 1259.44 Q888.589 1258.72 886.83 1258.72 Q885.869 1258.72 884.77 1258.93 Q883.67 1259.14 882.351 1259.58 L882.351 1257.49 Q883.682 1257.12 884.839 1256.94 Q886.008 1256.75 887.038 1256.75 Q889.7 1256.75 891.251 1257.97 Q892.802 1259.17 892.802 1261.23 Q892.802 1262.67 891.98 1263.66 Q891.158 1264.64 889.642 1265.03 Z\" fill=\"#000000\" fill-rule=\"evenodd\" fill-opacity=\"1\" /><path clip-path=\"url(#clip910)\" d=\"M899.654 1272.38 L907.813 1272.38 L907.813 1274.34 L896.841 1274.34 L896.841 1272.38 Q898.172 1271 900.464 1268.68 Q902.767 1266.36 903.357 1265.69 Q904.48 1264.42 904.92 1263.56 Q905.371 1262.68 905.371 1261.83 Q905.371 1260.45 904.399 1259.59 Q903.438 1258.72 901.887 1258.72 Q900.788 1258.72 899.561 1259.1 Q898.346 1259.48 896.957 1260.26 L896.957 1257.9 Q898.369 1257.33 899.596 1257.04 Q900.823 1256.75 901.841 1256.75 Q904.526 1256.75 906.124 1258.09 Q907.721 1259.44 907.721 1261.68 Q907.721 1262.75 907.316 1263.71 Q906.922 1264.66 905.869 1265.95 Q905.58 1266.29 904.029 1267.9 Q902.478 1269.49 899.654 1272.38 Z\" fill=\"#000000\" fill-rule=\"evenodd\" fill-opacity=\"1\" /><path clip-path=\"url(#clip910)\" d=\"M1391.43 1284.02 L1401.36 1284.02 L1401.36 1285.99 L1393.77 1285.99 L1393.77 1291.08 L1400.62 1291.08 L1400.62 1293.05 L1393.77 1293.05 L1393.77 1301.3 L1391.43 1301.3 L1391.43 1284.02 Z\" fill=\"#000000\" fill-rule=\"evenodd\" fill-opacity=\"1\" /><path clip-path=\"url(#clip910)\" d=\"M1404.97 1283.29 L1407.1 1283.29 L1407.1 1301.3 L1404.97 1301.3 L1404.97 1283.29 Z\" fill=\"#000000\" fill-rule=\"evenodd\" fill-opacity=\"1\" /><path clip-path=\"url(#clip910)\" d=\"M1416.58 1289.83 Q1414.87 1289.83 1413.87 1291.18 Q1412.88 1292.51 1412.88 1294.83 Q1412.88 1297.16 1413.86 1298.5 Q1414.86 1299.83 1416.58 1299.83 Q1418.28 1299.83 1419.28 1298.49 Q1420.27 1297.15 1420.27 1294.83 Q1420.27 1292.53 1419.28 1291.19 Q1418.28 1289.83 1416.58 1289.83 M1416.58 1288.03 Q1419.36 1288.03 1420.94 1289.83 Q1422.53 1291.64 1422.53 1294.83 Q1422.53 1298.02 1420.94 1299.83 Q1419.36 1301.64 1416.58 1301.64 Q1413.79 1301.64 1412.21 1299.83 Q1410.63 1298.02 1410.63 1294.83 Q1410.63 1291.64 1412.21 1289.83 Q1413.79 1288.03 1416.58 1288.03 Z\" fill=\"#000000\" fill-rule=\"evenodd\" fill-opacity=\"1\" /><path clip-path=\"url(#clip910)\" d=\"M1431.95 1294.79 Q1429.37 1294.79 1428.37 1295.38 Q1427.38 1295.97 1427.38 1297.39 Q1427.38 1298.53 1428.12 1299.2 Q1428.87 1299.86 1430.16 1299.86 Q1431.93 1299.86 1432.99 1298.61 Q1434.07 1297.34 1434.07 1295.26 L1434.07 1294.79 L1431.95 1294.79 M1436.2 1293.91 L1436.2 1301.3 L1434.07 1301.3 L1434.07 1299.34 Q1433.34 1300.52 1432.25 1301.08 Q1431.16 1301.64 1429.59 1301.64 Q1427.6 1301.64 1426.42 1300.53 Q1425.25 1299.41 1425.25 1297.53 Q1425.25 1295.34 1426.71 1294.23 Q1428.18 1293.12 1431.08 1293.12 L1434.07 1293.12 L1434.07 1292.91 Q1434.07 1291.44 1433.1 1290.64 Q1432.14 1289.83 1430.39 1289.83 Q1429.28 1289.83 1428.22 1290.1 Q1427.17 1290.37 1426.2 1290.9 L1426.2 1288.93 Q1427.37 1288.48 1428.47 1288.26 Q1429.57 1288.03 1430.61 1288.03 Q1433.42 1288.03 1434.81 1289.49 Q1436.2 1290.94 1436.2 1293.91 Z\" fill=\"#000000\" fill-rule=\"evenodd\" fill-opacity=\"1\" /><path clip-path=\"url(#clip910)\" d=\"M1442.69 1284.66 L1442.69 1288.34 L1447.08 1288.34 L1447.08 1290 L1442.69 1290 L1442.69 1297.03 Q1442.69 1298.62 1443.12 1299.07 Q1443.56 1299.52 1444.89 1299.52 L1447.08 1299.52 L1447.08 1301.3 L1444.89 1301.3 Q1442.43 1301.3 1441.49 1300.39 Q1440.55 1299.46 1440.55 1297.03 L1440.55 1290 L1438.99 1290 L1438.99 1288.34 L1440.55 1288.34 L1440.55 1284.66 L1442.69 1284.66 Z\" fill=\"#000000\" fill-rule=\"evenodd\" fill-opacity=\"1\" /><path clip-path=\"url(#clip910)\" d=\"M1455.47 1291.73 Q1453.9 1291.73 1452.97 1292.81 Q1452.05 1293.88 1452.05 1295.76 Q1452.05 1297.62 1452.97 1298.71 Q1453.9 1299.79 1455.47 1299.79 Q1457.04 1299.79 1457.96 1298.71 Q1458.88 1297.62 1458.88 1295.76 Q1458.88 1293.88 1457.96 1292.81 Q1457.04 1291.73 1455.47 1291.73 M1460.11 1284.41 L1460.11 1286.53 Q1459.23 1286.12 1458.33 1285.9 Q1457.44 1285.68 1456.56 1285.68 Q1454.24 1285.68 1453.02 1287.24 Q1451.8 1288.8 1451.63 1291.96 Q1452.31 1290.96 1453.34 1290.42 Q1454.37 1289.88 1455.61 1289.88 Q1458.21 1289.88 1459.72 1291.47 Q1461.23 1293.04 1461.23 1295.76 Q1461.23 1298.42 1459.66 1300.03 Q1458.08 1301.64 1455.47 1301.64 Q1452.47 1301.64 1450.89 1299.35 Q1449.3 1297.04 1449.3 1292.68 Q1449.3 1288.58 1451.24 1286.15 Q1453.19 1283.71 1456.46 1283.71 Q1457.34 1283.71 1458.24 1283.88 Q1459.14 1284.06 1460.11 1284.41 Z\" fill=\"#000000\" fill-rule=\"evenodd\" fill-opacity=\"1\" /><path clip-path=\"url(#clip910)\" d=\"M1471.68 1286.06 L1465.78 1295.28 L1471.68 1295.28 L1471.68 1286.06 M1471.07 1284.02 L1474.01 1284.02 L1474.01 1295.28 L1476.48 1295.28 L1476.48 1297.23 L1474.01 1297.23 L1474.01 1301.3 L1471.68 1301.3 L1471.68 1297.23 L1463.88 1297.23 L1463.88 1294.97 L1471.07 1284.02 Z\" fill=\"#000000\" fill-rule=\"evenodd\" fill-opacity=\"1\" /></svg>\n"
      ]
     },
     "execution_count": 21,
     "metadata": {},
     "output_type": "execute_result"
    }
   ],
   "source": [
    "using GraphRecipes, Plots\n",
    "\n",
    "#pyplot(size=(800, 600))\n",
    "gr(size=(600, 400))\n",
    "theme(:default)\n",
    "\n",
    "plot(AbstractFloat, method=:tree, fontsize=4)"
   ]
  },
  {
   "cell_type": "markdown",
   "metadata": {},
   "source": [
    "### Half precision (Float16)\n",
    "\n",
    "* In Julia, `Float16` is the type for half precision numbers.\n",
    "\n",
    "* MSB is the sign bit.\n",
    "\n",
    "* 10 significand bits(**fraction**=**mantissa**), hence $p=11$ (why?: $d_1=1$)\n",
    "\n",
    "* 5 exponent bits: $e_{\\max} = 15$, $e_{\\min} = -14$, **bias**=15=$01111_2$ for encoding:\n",
    "    - $e_{\\min}= \\mathbf{00001_2}-01111_2 = -14_{10}$\n",
    "    - $e_{\\max}=\\mathbf{11110_2} - 01111_2 = 15_{10}$\n",
    "\n",
    "* $e_{\\min}-1$ and $e_{\\max}+1$ are reserved for special numbers.\n",
    "\n",
    "* range of **magnitude**: $10^{\\pm 4}$ in decimal because $\\log_{10}(2^{15})\\approx 4$.\n",
    "\n",
    "* **Precision**: $\\log_{10}(2^{11})\\approx 3.311$ decimal digits.\n",
    "$$\n",
    "(value) = (-1)^{b_{15}}\\times 2^{(\\sum_{j=1}^5 b_{15-j}2^{5-j})-15}\\times \\left(1+\\sum_{i=1}^{10}\\frac{b_{10-i}}{2^i}\\right)\n",
    "$$"
   ]
  },
  {
   "cell_type": "code",
   "execution_count": 23,
   "metadata": {},
   "outputs": [
    {
     "name": "stdout",
     "output_type": "stream",
     "text": [
      "Half precision:\n",
      "bitstring(Float16(5)) = \"0100010100000000\"\n",
      "bitstring(Float16(-5)) = \"1100010100000000\"\n"
     ]
    }
   ],
   "source": [
    "println(\"Half precision:\")\n",
    "@show bitstring(Float16(5)) # 5 in half precision\n",
    "@show bitstring(Float16(-5)); # -5 in half precision"
   ]
  },
  {
   "cell_type": "markdown",
   "metadata": {},
   "source": [
    "### Single precision (Float32)\n",
    "\n",
    "* In Julia, `Float32` is the type for single precision numbers.\n",
    "\n",
    "* MSB is the sign bit.\n",
    "\n",
    "* 23 significand bits ($p=24$).\n",
    "\n",
    "* 8 exponent bits: $e_{\\max} = 127, e_{\\min}=-126$, **bias**=127.\n",
    "\n",
    "* $e_\\min - 1$ and $e_\\max + 1$ are reserved for special numbers.\n",
    "\n",
    "* range of **magnitude**: $10^{\\pm 38}$ in decimal because $\\log_{10}(2^{127})\\approx 38$.\n",
    "\n",
    "* **precision**: $\\log_{10}(2^{24})\\approx 7.225$ decimal digits."
   ]
  },
  {
   "cell_type": "code",
   "execution_count": 24,
   "metadata": {},
   "outputs": [
    {
     "name": "stdout",
     "output_type": "stream",
     "text": [
      "Single precision:\n",
      "bitstring(Float32(5)) = \"01000000101000000000000000000000\"\n",
      "bitstring(Float32(-5)) = \"11000000101000000000000000000000\"\n"
     ]
    }
   ],
   "source": [
    "println(\"Single precision:\")\n",
    "@show bitstring(Float32(5)) # 5 in single precision\n",
    "@show bitstring(Float32(-5)); # -5 in single precision"
   ]
  },
  {
   "cell_type": "markdown",
   "metadata": {},
   "source": [
    "### Double precision (Float64)\n",
    "\n",
    "* In Julia, `Float64` is the type for double precision numbers.\n",
    "\n",
    "* MSB is the sign bit.\n",
    "\n",
    "* 52 significand bits ($p=53$).\n",
    "\n",
    "* 11 exponent bits: $e_{\\max} = 1023, e_{\\min}=-1022$, **bias**=1023.\n",
    "\n",
    "* $e_\\min - 1$ and $e_\\max + 1$ are reserved for special numbers.\n",
    "\n",
    "* range of **magnitude**: $10^{\\pm 308}$ in decimal because $\\log_{10}(2^{1023})\\approx 308$.\n",
    "\n",
    "* **precision**: $\\log_{10}(2^{53})\\approx 15.95$ decimal digits."
   ]
  },
  {
   "cell_type": "code",
   "execution_count": 25,
   "metadata": {},
   "outputs": [
    {
     "name": "stdout",
     "output_type": "stream",
     "text": [
      "Double precision:\n",
      "bitstring(Float64(5)) = \"0100000000010100000000000000000000000000000000000000000000000000\"\n",
      "bitstring(Float64(-5)) = \"1100000000010100000000000000000000000000000000000000000000000000\"\n"
     ]
    }
   ],
   "source": [
    "println(\"Double precision:\")\n",
    "@show bitstring(Float64(5)) # 5 in double precision\n",
    "@show bitstring(Float64(-5)); # -5 in double precision"
   ]
  },
  {
   "cell_type": "markdown",
   "metadata": {},
   "source": [
    "### Special floating-point numbers\n",
    "\n",
    "* Exponent $e_\\max + 1$ plus a zero mantissa means $\\pm \\infty$."
   ]
  },
  {
   "cell_type": "code",
   "execution_count": 27,
   "metadata": {},
   "outputs": [
    {
     "name": "stdout",
     "output_type": "stream",
     "text": [
      "bitstring(Inf) = \"0111111111110000000000000000000000000000000000000000000000000000\"\n",
      "bitstring(-Inf) = \"1111111111110000000000000000000000000000000000000000000000000000\"\n"
     ]
    }
   ],
   "source": [
    "@show bitstring(Inf) # Inf in double precision\n",
    "@show bitstring(-Inf); # -Inf in double precision"
   ]
  },
  {
   "cell_type": "markdown",
   "metadata": {},
   "source": [
    "* Exponent $e_\\max + 1$ plus a nonzero mantissa means `NaN`. `NaN` could be produced from `0 / 0`, `0 * Inf`, ...\n",
    "\n",
    "* In general `NaN \\ne NaN` bitwise. Test whether a number is `NaN` by `isnan` function."
   ]
  },
  {
   "cell_type": "code",
   "execution_count": 28,
   "metadata": {},
   "outputs": [
    {
     "name": "stdout",
     "output_type": "stream",
     "text": [
      "bitstring(0 / 0) = \"1111111111111000000000000000000000000000000000000000000000000000\"\n",
      "bitstring(0Inf) = \"1111111111111000000000000000000000000000000000000000000000000000\"\n"
     ]
    }
   ],
   "source": [
    "@show bitstring(0 / 0) # NaN\n",
    "@show bitstring(0 * Inf); # NaN"
   ]
  },
  {
   "cell_type": "markdown",
   "metadata": {},
   "source": [
    "* Exponent $e_\\min - 1$ with a zero mantissa represents the real number 0 (\"exact zero\").\n",
    "    - Why do we need an exact zero?"
   ]
  },
  {
   "cell_type": "code",
   "execution_count": 30,
   "metadata": {},
   "outputs": [
    {
     "name": "stdout",
     "output_type": "stream",
     "text": [
      "bitstring(0.0) = \"0000000000000000000000000000000000000000000000000000000000000000\"\n"
     ]
    }
   ],
   "source": [
    "@show bitstring(0.0); # 0 in double precision"
   ]
  },
  {
   "cell_type": "markdown",
   "metadata": {},
   "source": [
    "* Exponent $e_\\min - 1$ with a nonzero mantissa are for numbers less than $b^{e_\\min}$ (subnormal numbers).\n",
    "\n",
    "* Numbers are *denormalized* in the range $(0,b^{e_\\min})$-**gradual underflow**.\n",
    "\n",
    "* For example, in half-precision, $e_\\min = -14$ but $2^{-24}$ is represented by $0.0000000001_2 \\times 2^{-14}$.\n",
    "\n",
    "* If floating point numbers are all normalized, the spacing between 0 and $b^{e_\\min}$ is just $b^{e_\\min}$, whereas the spacing between $b^{e_\\min}$ and $b^{e_\\min + 1}$ is $b^{e_\\min-p+1}$. With subnormal numbers, the spacing between 0 and $b^{e_\\min}$ can be $b^{e_\\min - p}$, which is more consistent with the spacing just above $b^{e_\\min}$."
   ]
  },
  {
   "cell_type": "code",
   "execution_count": 31,
   "metadata": {},
   "outputs": [
    {
     "name": "stdout",
     "output_type": "stream",
     "text": [
      "Float16(2 ^ -14) = Float16(6.104e-5)\n",
      "bitstring(Float16(2 ^ -14)) = \"0000010000000000\"\n",
      "Float16(2 ^ -24) = Float16(6.0e-8)\n",
      "bitstring(Float16(2 ^ -24)) = \"0000000000000001\"\n"
     ]
    }
   ],
   "source": [
    "@show Float16(2^(-14)) # emin = -14\n",
    "@show bitstring(Float16(2^(-14)));\n",
    "@show Float16(2^(-24)) # emin = -14\n",
    "@show bitstring(Float16(2^(-24))); # denormalized"
   ]
  },
  {
   "cell_type": "code",
   "execution_count": 32,
   "metadata": {},
   "outputs": [
    {
     "name": "stdout",
     "output_type": "stream",
     "text": [
      "nextfloat(Float16(0.0)) = Float16(6.0e-8)\n",
      "bitstring(nextfloat(Float16(0.0))) = \"0000000000000001\"\n"
     ]
    }
   ],
   "source": [
    "@show nextfloat(Float16(0.0)) # next representable number\n",
    "@show bitstring(nextfloat(Float16(0.0))); # denormalized"
   ]
  },
  {
   "cell_type": "markdown",
   "metadata": {},
   "source": [
    "### Rounding\n",
    "\n",
    "* Rounding is necessary whenever a number has more than $p$ significand bits. Most computer systems use the default IEEE 754 *round to nearest* mode (also called *ties to even* mode). Julia offers several [rounding modes](https://docs.julialang.org/en/v1/base/math/#Base.Rounding.RoundingMode), the default being [`RoundNearest`](https://docs.julialang.org/en/v1/base/math/#Base.Rounding.RoundNearest). \n",
    "\n",
    "* \"*Round to nearest, ties to even*\" rule: rounds to the nearest value; if the number falls midway, it is rounded to the nearest value with an even least significant digit (i.e., zero; default for IEEE 754 binary floating point numbers)\n",
    "\n",
    "* For example, the number 1/10 cannot be represented accurately as a (binary) floating point number:\n",
    "$$ 0.1 = 1.10011001\\dotsc_2 \\times 2^{-4} $$"
   ]
  },
  {
   "cell_type": "code",
   "execution_count": 34,
   "metadata": {},
   "outputs": [
    {
     "name": "stdout",
     "output_type": "stream",
     "text": [
      "bitstring(0.1) = \"0011111110111001100110011001100110011001100110011001100110011010\"\n",
      "bitstring(0.1f0) = \"00111101110011001100110011001101\"\n",
      "bitstring(Float16(0.1)) = \"0010111001100110\"\n"
     ]
    }
   ],
   "source": [
    "@show bitstring(0.1); # double precision Float64\n",
    "@show bitstring(0.1f0); # single precision Float32, 1001 gets rounded to 101(0)\n",
    "@show bitstring(Float16(0.1)); # half precision Float16, 1001 gets rounded to 101(0)"
   ]
  },
  {
   "cell_type": "markdown",
   "metadata": {},
   "source": [
    "### Errors\n",
    "\n",
    "Rounding (more fundamentally, finite precision) incurs errors in floating point computation. If a real number $x$ is represented by a floating point number $[x]$, then\n",
    "\n",
    "* Absolute error\n",
    "$$ |[x]-x| $$\n",
    "\n",
    "* Relative error\n",
    "$$ \\frac{|[x]-x|}{|x|} $$\n",
    "(if $x\\ne 0$).\n",
    "\n",
    "Of course, we want to ensure that the error after a computation is small."
   ]
  },
  {
   "cell_type": "markdown",
   "metadata": {},
   "source": [
    "### Machine epsilons\n",
    "\n",
    "* Floating-point numbers do not occur uniformly over the real number line. (See [What you never wanted to know about floating point but will be forced to find out](http://www.volkerschatz.com/science/float.html))\n",
    "\n",
    "* Same number of representable numbers in $(2^i,2^{i+1}]$ as in $(2^{i+1},2^{i+2}]$. Within an interval, they are uniformly distributed.\n",
    "\n",
    "* **Machine epsilons** are the spacings of numbers around 1:\n",
    "    - $\\epsilon_\\max$ = (samllest positive floating point number that added to 1 will give a result different from 1) = $\\frac{1}{2^p} + \\frac{1}{2^{2p-1}}$\n",
    "    - $\\epsilon_\\min$ = (smallest positive floating point number that subtracted to 1 will give a result different from 1) = $\\frac{1}{2^{p+1}} + \\frac{1}{2^{2p}}$\n",
    "    - That is, $1+\\epsilon_\\max$ is the number in the 'midway' between 1 and the floating point number right next to it, etc.\n",
    "    \n",
    "* Any real number in the interval $\\left[1 - \\frac{1}{2^{p+1}}, 1 + \\frac{1}{2^p}\\right]=[1.111\\dotsb1|1_2 \\times 2^{-1}, 1.000\\dotsb 0|1_2 \\times 2^0]$ is represented by a floating point number $1.00\\dotsb 0_2 \\times 2^{0} = 1$ (assuming the \"ties to even\" rule: consider $p=2$ case).\n",
    "\n",
    "* Adding $\\frac{1}{2^p}$ to 1 won't reach the next representable floating point number $1.00\\dotsc 01_2 \\times 2^0 = 1 + \\frac{1}{2^{p-1}}$. Hence $\\epsilon_\\max>\\frac{1}{2^p}=1.00\\dotsc 0_2 \\times 2^{-p}$.\n",
    "\n",
    "* Adding the floating point number *next to* $\\frac{1}{2^p}= 1.00\\dotsc 0_2\\times 2^{-p}$ to 1 WILL result in $1.00\\dotsc 01_2\\times 2^0-1+\\frac{1}{2^{p-1}}$, hence $\\epsilon_\\max = 1.00\\dotsc 01_2\\times 2^{-p} = \\frac{1}{2^p} + \\frac{1}{2^{p+p-1}}$. \n",
    "\n",
    "* Subtracting $\\frac{1}{2^{p+1}}$ from 1 results in $1-\\frac{1}{2^{p+1}}=\\frac{1}{2}+\\frac{1}{2^2}+\\cdots+\\frac{1}{2^p}+\\frac{1}{2^{p+1}}$, which is represented by the floating point number $1.00\\dotsc 0_2\\times 2^0=1$ by the \"ties to even\" rule. Hence $\\epsilon>\\frac{1}{2^{p+1}}$.\n",
    "\n",
    "* The smallest positive floating point number larger than $\\frac{1}{2^{p+1}}$ is $\\frac{1}{2^{p+1}}+\\frac{1}{2^{2p}} = 1.00\\dotsc 01_2\\times 2^{-p-1}$. Thus $\\epsilon_\\min = \\frac{1}{2^{p+1}} + \\frac{1}{2^{2p}}$."
   ]
  },
  {
   "cell_type": "markdown",
   "metadata": {},
   "source": [
    "### Machine precision\n",
    "\n",
    "* Machine epsilon is often called the machine precision.\n",
    "\n",
    "* If a positive real number $x\\in\\mathbb{R}$ is represented by $[x]$ in the floating point arithmetic, then\n",
    "$$ [x] = \\left(1 + \\sum_{i=1}^{p-1}\\frac{b_{i+1}}{2^i}\\right)\\times 2^{e}. $$\n",
    "Thus $x-\\frac{2^e}{2^p} < [x] \\le x + \\frac{2^e}{2^p}$, and\n",
    "$$\n",
    "    \\begin{split}\n",
    "    \\frac{| x - [x] |}{|x|} &\\le \\frac{2^e}{2^p|x|} \\le \\frac{2^e}{2^p}\\frac{1}{[x]-2^e/2^p} \\\\\n",
    "                            &\\le \\frac{2^e}{2^p}\\frac{1}{2^e(1-1/2^p)}  \\quad (\\because [x] \\ge 2^e) \\\\\n",
    "                            &\\le \\frac{2^e}{2^p}\\frac{1}{2^e}(1 + \\frac{1}{2^{p-1}}) \\\\\n",
    "                            &= \\frac{1}{2^p} + \\frac{1}{2^{2p-1}} = \\epsilon_{\\max}.\n",
    "    \\end{split}\n",
    "$$\n",
    "That is, the **relative error** of the floating point representation $[x]$ of real number $x$ is bounded by $\\epsilon_\\max$."
   ]
  },
  {
   "cell_type": "code",
   "execution_count": 35,
   "metadata": {},
   "outputs": [
    {
     "name": "stdout",
     "output_type": "stream",
     "text": [
      "2 ^ -53 + 2 ^ -105 = 1.1102230246251568e-16\n",
      "1.0 + 2 ^ -53 = 1.0\n",
      "1.0 + (2 ^ -53 + 2 ^ -105) = 1.0000000000000002\n",
      "1.0 + 2 ^ -53 + 2 ^ -105 = 1.0\n",
      "Float32(2 ^ -24 + 2 ^ -47) = 5.960465f-8\n",
      "1.0f0 + Float32(2 ^ -24) = 1.0f0\n",
      "1.0f0 + Float32(2 ^ -24 + 2 ^ -47) = 1.0000001f0\n"
     ]
    }
   ],
   "source": [
    "@show 2^(-53) + 2^(-105); # epsilon_max for Float64\n",
    "@show 1.0 + 2^(-53);\n",
    "@show 1.0 + (2^(-53) + 2^(-105));\n",
    "@show 1.0 + 2^(-53) + 2^(-105); # why is the result? See \"Catastrophic cancellation\"\n",
    "\n",
    "@show Float32(2^(-24) + 2^(-47)); # epsilon_max for Float32\n",
    "@show 1.0f0 + Float32(2^(-24));\n",
    "@show 1.0f0 + Float32(2^(-24) + 2^(-47));"
   ]
  },
  {
   "cell_type": "code",
   "execution_count": 36,
   "metadata": {},
   "outputs": [
    {
     "name": "stdout",
     "output_type": "stream",
     "text": [
      "2 ^ -54 + 2 ^ -106 = 5.551115123125784e-17\n",
      "1 - (2 ^ -54 + 2 ^ -106) = 0.9999999999999999\n",
      "bitstring(1.0) = \"0011111111110000000000000000000000000000000000000000000000000000\"\n",
      "bitstring(1 - (2 ^ -54 + 2 ^ -106)) = \"0011111111101111111111111111111111111111111111111111111111111111\"\n"
     ]
    }
   ],
   "source": [
    "@show 2^(-54) + 2^(-106); # epsilon_min for Float64\n",
    "@show 1 - (2^(-54) + 2^(-106));\n",
    "@show bitstring(1.0)\n",
    "@show bitstring(1 - (2^(-54) + 2^(-106)));"
   ]
  },
  {
   "cell_type": "markdown",
   "metadata": {},
   "source": [
    "In Julia, `eps(x)` gives the distance between consecutive representable floating point values at `x`, i.e.,\n",
    "```julia\n",
    "eps(x) == max(x-prevfloat(x),nextfloat(x)-x)\n",
    "```\n",
    "which is roughly twice the $\\epsilon_\\max$. "
   ]
  },
  {
   "cell_type": "code",
   "execution_count": 38,
   "metadata": {},
   "outputs": [
    {
     "name": "stdout",
     "output_type": "stream",
     "text": [
      "eps(Float32) = 1.1920929f-7\n",
      "eps(Float64) = 2.220446049250313e-16\n",
      "eps(100.0) = 1.4210854715202004e-14\n",
      "eps(1.0) = 2.220446049250313e-16\n",
      "x = 1.25f0 = 1.25f0\n",
      "(prevfloat(x), x, nextfloat(x)) = (1.2499999f0, 1.25f0, 1.2500001f0)\n",
      "bitstring.([prevfloat(x) x nextfloat(x)]) = [\"00111111100111111111111111111111\" \"00111111101000000000000000000000\" \"00111111101000000000000000000001\"]\n"
     ]
    }
   ],
   "source": [
    "@show eps(Float32) # machine epsilon for a floating point type, roughly twice our \\epsilon_{\\max}\n",
    "@show eps(Float64) # same as eps()\n",
    "#eps(x) is the spacing after x\n",
    "@show eps(100.0)\n",
    "@show eps(1.0)\n",
    "# nextfloat(x) and prevfloat(x) give the neighbors of x\n",
    "@show x = 1.25f0\n",
    "@show prevfloat(x), x, nextfloat(x)\n",
    "@show bitstring.([prevfloat(x) x nextfloat(x)]);"
   ]
  },
  {
   "cell_type": "markdown",
   "metadata": {},
   "source": [
    "* In R, the variable `.Machine` contains numerical characteristics of the machine. `double.eps` and `double.neg.eps` are roughly twice our $\\epsilon_\\max$ and $\\epsilon_\\min$, repsectively."
   ]
  },
  {
   "cell_type": "code",
   "execution_count": 39,
   "metadata": {},
   "outputs": [
    {
     "data": {
      "text/plain": [
       "RObject{VecSxp}\n",
       "$double.eps\n",
       "[1] 2.220446e-16\n",
       "\n",
       "$double.neg.eps\n",
       "[1] 1.110223e-16\n",
       "\n",
       "$double.xmin\n",
       "[1] 2.225074e-308\n",
       "\n",
       "$double.xmax\n",
       "[1] 1.797693e+308\n",
       "\n",
       "$double.base\n",
       "[1] 2\n",
       "\n",
       "$double.digits\n",
       "[1] 53\n",
       "\n",
       "$double.rounding\n",
       "[1] 5\n",
       "\n",
       "$double.guard\n",
       "[1] 0\n",
       "\n",
       "$double.ulp.digits\n",
       "[1] -52\n",
       "\n",
       "$double.neg.ulp.digits\n",
       "[1] -53\n",
       "\n",
       "$double.exponent\n",
       "[1] 11\n",
       "\n",
       "$double.min.exp\n",
       "[1] -1022\n",
       "\n",
       "$double.max.exp\n",
       "[1] 1024\n",
       "\n",
       "$integer.max\n",
       "[1] 2147483647\n",
       "\n",
       "$sizeof.long\n",
       "[1] 8\n",
       "\n",
       "$sizeof.longlong\n",
       "[1] 8\n",
       "\n",
       "$sizeof.longdouble\n",
       "[1] 16\n",
       "\n",
       "$sizeof.pointer\n",
       "[1] 8\n",
       "\n",
       "$longdouble.eps\n",
       "[1] 1.084202e-19\n",
       "\n",
       "$longdouble.neg.eps\n",
       "[1] 5.421011e-20\n",
       "\n",
       "$longdouble.digits\n",
       "[1] 64\n",
       "\n",
       "$longdouble.rounding\n",
       "[1] 5\n",
       "\n",
       "$longdouble.guard\n",
       "[1] 0\n",
       "\n",
       "$longdouble.ulp.digits\n",
       "[1] -63\n",
       "\n",
       "$longdouble.neg.ulp.digits\n",
       "[1] -64\n",
       "\n",
       "$longdouble.exponent\n",
       "[1] 15\n",
       "\n",
       "$longdouble.min.exp\n",
       "[1] -16382\n",
       "\n",
       "$longdouble.max.exp\n",
       "[1] 16384\n",
       "\n"
      ]
     },
     "execution_count": 39,
     "metadata": {},
     "output_type": "execute_result"
    }
   ],
   "source": [
    "R\"\"\"\n",
    ".Machine\n",
    "\"\"\""
   ]
  },
  {
   "cell_type": "markdown",
   "metadata": {},
   "source": [
    "### Overflow and underflow of floating-point number\n",
    "\n",
    "* For double precision, the range is $\\pm 10^{\\pm 308}$. In most situations, underflow (magnitude of result is less than $10^{-308}$) is preferred over overflow (magnitude of result is larger than $10^{+308}$). Overflow produces $\\pm \\inf$. Underflow yields zeros or subnormal numbers.\n",
    "\n",
    "* E.g., the logit link function is\n",
    "$$p = \\frac{\\exp (x^T \\beta)}{1 + \\exp (x^T \\beta)} = \\frac{1}{1+\\exp(- x^T \\beta)}.$$\n",
    "The former expression can easily lead to `Inf / Inf = NaN`, while the latter expression leads to gradual underflow.\n",
    "\n",
    "* `floatmin` and `floatmax` functions gives largest and smallest *non-subnormal* number represented by the given floating point type."
   ]
  },
  {
   "cell_type": "code",
   "execution_count": 40,
   "metadata": {},
   "outputs": [
    {
     "name": "stdout",
     "output_type": "stream",
     "text": [
      "Float16\t6.104e-5\t6.55e4\t-Inf\tInf\t0.000977\n",
      "Float32\t1.1754944e-38\t3.4028235e38\t-Inf\tInf\t1.1920929e-7\n",
      "Float64\t2.2250738585072014e-308\t1.7976931348623157e308\t-Inf\tInf\t2.220446049250313e-16\n"
     ]
    }
   ],
   "source": [
    "for T in [Float16, Float32, Float64]\n",
    "    println(T, '\\t', floatmin(T), '\\t', floatmax(T), '\\t', typemin(T),\n",
    "    '\\t', typemax(T), '\\t', eps(T))\n",
    "end"
   ]
  },
  {
   "cell_type": "markdown",
   "metadata": {},
   "source": [
    "* `BigFloat` in Julia offers arbitrary precision."
   ]
  },
  {
   "cell_type": "code",
   "execution_count": 41,
   "metadata": {},
   "outputs": [
    {
     "name": "stdout",
     "output_type": "stream",
     "text": [
      "precision(BigFloat) = 256\n",
      "floatmin(BigFloat) = 8.50969131174083613912978790962048280567755996982969624908264897850135431080301e-1388255822130839284\n",
      "floatmax(BigFloat) = 5.875653789111587590936911998878442589938516392745498308333779606469323584389875e+1388255822130839282\n"
     ]
    }
   ],
   "source": [
    "@show precision(BigFloat)\n",
    "@show floatmin(BigFloat)\n",
    "@show floatmax(BigFloat);"
   ]
  },
  {
   "cell_type": "code",
   "execution_count": 42,
   "metadata": {},
   "outputs": [
    {
     "name": "stdout",
     "output_type": "stream",
     "text": [
      "BigFloat(π) = 3.141592653589793238462643383279502884197169399375105820974944592307816406286198\n",
      "BigFloat(π) = 3.141592653589793238462643383279502884197169399375105820974944592307816406286208998628034825342117067982148086513282306647093844609550582231725359408128481117450284102701938521105559644622948954930381964428810975665933446128475648233786783165271201909145648566923460348610454326648213393607260249141273724586997\n"
     ]
    }
   ],
   "source": [
    "@show BigFloat(π) # default precision for BigFloat is 256 bits.\n",
    "# set precision to 1024 bits\n",
    "setprecision(BigFloat, 1024) do\n",
    "    @show BigFloat(π)\n",
    "end;"
   ]
  },
  {
   "cell_type": "markdown",
   "metadata": {},
   "source": [
    "## Catastrophic cancellation\n",
    "\n",
    "> The result of computation is just the digits that represented the rounding.\n",
    "\n",
    "* **Scenario 1** (benign cancellation): Addition or subtraction of two numbers of widely different magnitudes: $a+b$ or $a-b$ where $a \\gg b$ or $a \\ll b$. We lose the precision in the number of smaller magnitude. Consider\n",
    "$$\\begin{eqnarray*}\n",
    "    a &=& x.xxx ... \\times 2^{30} \\\\  \n",
    "    b &=& y.yyy... \\times 2^{-30}\n",
    "\\end{eqnarray*}$$\n",
    "What happens when computer calcuates $a+b$? We get $a+b = a$!"
   ]
  },
  {
   "cell_type": "code",
   "execution_count": 43,
   "metadata": {},
   "outputs": [
    {
     "name": "stdout",
     "output_type": "stream",
     "text": [
      "a = 2.0 ^ 30 = 1.073741824e9\n",
      "b = 2.0 ^ -30 = 9.313225746154785e-10\n",
      "a + b == a = true\n",
      "bitstring(a) = \"0100000111010000000000000000000000000000000000000000000000000000\"\n",
      "bitstring(a + b) = \"0100000111010000000000000000000000000000000000000000000000000000\"\n"
     ]
    }
   ],
   "source": [
    "@show a = 2.0^30\n",
    "@show b = 2.0^-30\n",
    "@show a+b == a\n",
    "@show bitstring(a)\n",
    "@show bitstring(a + b);"
   ]
  },
  {
   "cell_type": "markdown",
   "metadata": {},
   "source": [
    "Analysis: suppose we want to compute $x+y,x,y>0$. Let the relative error of $x$ and $y$ be\n",
    "$$ \\delta_x=\\frac{[x]-x}{x},\\quad \\delta_y=\\frac{[y]-y}{y}. $$\n",
    "What the computer actually calculate is $[x]+[y]$, which in turn is represented by $[[x]+[y]]$. The relative error of this representation is \n",
    "$$ \\delta_\\text{sum}=\\frac{[[x]+[y]]-([x]+[y])}{[x]+[y]}. $$\n",
    "Recall that $|\\delta_x|,|\\delta_y|,|\\delta_{\\text{sum}}|\\le\\epsilon_\\max$.\n",
    "\n",
    "We want to find a bound of the relative error $[[x]+[y]]$ with respect to $x+y$. Since $|[x]+[y]|=|x(1+\\delta_x)+y(1+\\delta_y)|\\le |x+y|(1+\\epsilon_\\max)$, we have\n",
    "$$\n",
    "\\begin{split}\n",
    "| [[x]+[y]]-(x+y) | &= | [[x]+[y]] - [x] - [y] + [x] - x + [y] - y | \\\\\n",
    "                   &\\le | [[x]+[y]] - [x] - [y] | +  | [x] - x | + | [y] - y | \\\\\n",
    "                   &\\le |\\delta_{\\text{sum}}([x]+[y])| + |\\delta_x x| + |\\delta_y y| \\\\\n",
    "                   &\\le \\epsilon_{\\max}(x+y)(1+\\epsilon_{\\max}) + \\epsilon_{\\max}x + \\epsilon_{\\max}y \\\\\n",
    "                   &\\approx 2\\epsilon_{\\max}(x+y)\n",
    "\\end{split}\n",
    "$$\n",
    "\n",
    "because $\\epsilon_\\max^2\\approx 0$. Thus\n",
    "$$\n",
    "\\frac{|[[x]+[y]]-(x+y)|}{|x+y|}\\le 2\\epsilon_\\max\n",
    "$$\n",
    "approximately."
   ]
  },
  {
   "cell_type": "markdown",
   "metadata": {},
   "source": [
    "* **Scenario 2** (catastrophic cancellation): Subtraction of two nearly equal numbers eliminates significant digits. $a-b$ where $a\\approx b$. Consider\n",
    "$$\\begin{eqnarray*}\n",
    "    a &=& x.xxxxxxxxxx1ssss  \\\\\n",
    "    b &=& x.xxxxxxxxxx0tttt\n",
    "\\end{eqnarray*}$$\n",
    "The result is $1.vvvvu\\dotsc u$ where $u$ are unassigned digits."
   ]
  },
  {
   "cell_type": "code",
   "execution_count": 44,
   "metadata": {},
   "outputs": [
    {
     "name": "stdout",
     "output_type": "stream",
     "text": [
      "bitstring(a) = \"00111111100111100000011001010001\"\n",
      "bitstring(b) = \"00111111100111100000011001010000\"\n",
      "a - b = 1.1920929f-7\n",
      "bitstring(a - b) = \"00110100000000000000000000000000\"\n",
      "Float32(1 / 2 ^ 23) = 1.1920929f-7\n"
     ]
    }
   ],
   "source": [
    "a = 1.2345678f0 # rounding\n",
    "@show bitstring(a) # rounding\n",
    "b = 1.2345677f0\n",
    "@show bitstring(b)\n",
    "@show a - b # correct result should be 1f-7\n",
    "@show bitstring(a - b) # must be 1.0000....0 x 2^(-23)\n",
    "@show Float32(1/2^23);"
   ]
  },
  {
   "cell_type": "markdown",
   "metadata": {},
   "source": [
    "Analysis: Let\n",
    "$$\n",
    "[x] = 1 + \\sum_{i=1}^{p-2}\\frac{d_{i+1}}{2^i} + \\frac{1}{2^{p-1}},\\quad [y] = 1+\\sum_{i=1}^{p-2}\\frac{d_{i+1}}{2^i} + \\frac{0}{2^{p-1}}.\n",
    "$$\n",
    "\n",
    "* $[x] - [y]=\\frac{1}{2^{p-1}} = [[x]-[y]]$.\n",
    "\n",
    "* The true difference $x-y$ may lie everywhere in $(0,\\frac{1}{2^{p-2}}+\\frac{1}{2^{2p}}]$\n",
    "\n",
    "* Relative error\n",
    "$$\n",
    "\\frac{|x-y-[[x]-[y]]|}{|x-y|}\n",
    "$$\n",
    "is unbounded -- no guarantee of any significant digit!"
   ]
  },
  {
   "cell_type": "markdown",
   "metadata": {},
   "source": [
    "* Implications for numerical computation\n",
    "    - Rule 1: add small numbers together before adding larger ones\n",
    "    - Rule 2: add numbers of like magnitude together (pairing). When all numbers are of same sign and similar magnitude, add in pairs so each stage the summands are of similar magnitude\n",
    "    - Rule 3: avoid subtraction of two numbers that are nearly equal"
   ]
  },
  {
   "cell_type": "markdown",
   "metadata": {},
   "source": [
    "### Algebraic laws\n",
    "\n",
    "Floating-point numbers may violate many algebric laws we are familiar with, such associative and distributive laws. See the example in the Machine  Epsilon section and HW1."
   ]
  },
  {
   "cell_type": "code",
   "execution_count": null,
   "metadata": {},
   "outputs": [],
   "source": []
  }
 ],
 "metadata": {
  "kernelspec": {
   "display_name": "Julia 1.6.2",
   "language": "julia",
   "name": "julia-1.6"
  },
  "language_info": {
   "file_extension": ".jl",
   "mimetype": "application/julia",
   "name": "julia",
   "version": "1.6.2"
  }
 },
 "nbformat": 4,
 "nbformat_minor": 4
}
